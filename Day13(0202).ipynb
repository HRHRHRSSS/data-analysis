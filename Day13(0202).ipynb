{
 "cells": [
  {
   "cell_type": "code",
   "execution_count": 3,
   "id": "11f0ce8e",
   "metadata": {},
   "outputs": [],
   "source": [
    "import pandas as pd\n",
    "import scipy.stats as stats\n",
    "import numpy as np\n",
    "import plotly.express as px\n",
    "import matplotlib as mpl\n",
    "import statsmodels.api as sm\n",
    "\n",
    "mpl.rc('font', family = 'AppleGothic')"
   ]
  },
  {
   "cell_type": "code",
   "execution_count": 2,
   "id": "734181ee",
   "metadata": {},
   "outputs": [],
   "source": [
    "# day12 개별미션 풀이는 Day12 스크립트에"
   ]
  },
  {
   "cell_type": "markdown",
   "id": "845429d2",
   "metadata": {},
   "source": [
    "# 데이터 마이닝\n",
    "\n",
    "- 기계학습 (Machine Learning) : 컴퓨터가 데이터간의 관계를 학습하여, 새로운 수식(Model)을 도출하는 작업\n",
    "- 기계학습의 핵심 Point :\n",
    "     - 학습 능력 : 컴퓨터가 데이터를 얼마나 잘 학습하여 Model을 도출하는가\n",
    "     - 일반화 능력 : 새로운 데이터가 들어왔을 때, 얼마나 잘 예측/대응하는가\n",
    "\n",
    "- 기계학습의 3요소:\n",
    "    - 1. 데이터(교과서) : 학습의 목저겡 맞게 데이터를 깔끔하게 다듬는 작업이 필요\n",
    "        - 특성 공학 (Feature Engineering)\n",
    "    - 2. 알고리즘(선생님) : 학습의 목적과 데이터의 특성에 맞게 선택\n",
    "        - 선형회귀 / 결정나무 / 앙상블 / 딥러닝 ...\n",
    "    - 3. 하드웨어(학생)\n",
    "        - CPU / GPU / ...\n",
    "        - 비용"
   ]
  }
 ],
 "metadata": {
  "kernelspec": {
   "display_name": "Python 3 (ipykernel)",
   "language": "python",
   "name": "python3"
  },
  "language_info": {
   "codemirror_mode": {
    "name": "ipython",
    "version": 3
   },
   "file_extension": ".py",
   "mimetype": "text/x-python",
   "name": "python",
   "nbconvert_exporter": "python",
   "pygments_lexer": "ipython3",
   "version": "3.11.5"
  }
 },
 "nbformat": 4,
 "nbformat_minor": 5
}
