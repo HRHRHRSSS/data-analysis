{
 "cells": [
  {
   "cell_type": "markdown",
   "id": "225c0a35",
   "metadata": {},
   "source": [
    "# 데이터 분석 라이브러리\n",
    "## 1. Numpy\n",
    "- Numpy (Numeric+Python) : 과학/수학/통계연산과 관련한 함수들의 집합\n",
    "- 정형데이터의 기본이되는 형태로 초기 데이터 분석에 많이 사용\n",
    "- 현재는 비정형데이터 전처리 및 분석에 주로 사용"
   ]
  },
  {
   "cell_type": "code",
   "execution_count": 1,
   "id": "792ca9aa",
   "metadata": {},
   "outputs": [],
   "source": [
    "import numpy as np #라이브러리 (모듈) 호출"
   ]
  },
  {
   "cell_type": "code",
   "execution_count": 2,
   "id": "e009a561",
   "metadata": {},
   "outputs": [],
   "source": [
    "list1 = [6,5,4,3,2,7] #일반적인 Python list 형태\n",
    "# list1.mean() : Numpy -> 여러가지 통계 연산들이 가능 하지만,\n",
    "# Numpy 라이브러리의 통계량을 계산하는 함수를 쓰려면, Numpy 라이브러리에서 사용하는\n",
    "# 자료구조를 이용해야 함"
   ]
  },
  {
   "cell_type": "code",
   "execution_count": 3,
   "id": "b89a0585",
   "metadata": {},
   "outputs": [
    {
     "data": {
      "text/plain": [
       "array([6, 5, 4, 3, 2, 7])"
      ]
     },
     "execution_count": 3,
     "metadata": {},
     "output_type": "execute_result"
    }
   ],
   "source": [
    "# 배열(array)\n",
    "data1 = np.array(list1)\n",
    "data1"
   ]
  },
  {
   "cell_type": "code",
   "execution_count": 4,
   "id": "ee4d92d4",
   "metadata": {},
   "outputs": [
    {
     "data": {
      "text/plain": [
       "<function ndarray.mean>"
      ]
     },
     "execution_count": 4,
     "metadata": {},
     "output_type": "execute_result"
    }
   ],
   "source": [
    "data1.mean"
   ]
  },
  {
   "cell_type": "code",
   "execution_count": 5,
   "id": "b672284f",
   "metadata": {},
   "outputs": [
    {
     "data": {
      "text/plain": [
       "numpy.ndarray"
      ]
     },
     "execution_count": 5,
     "metadata": {},
     "output_type": "execute_result"
    }
   ],
   "source": [
    "type(data1) #파이썬의 list와 동일한 특성/ 수학/과학연산에 필요한 차원 구조를 구성"
   ]
  },
  {
   "cell_type": "code",
   "execution_count": 6,
   "id": "17a2e417",
   "metadata": {},
   "outputs": [
    {
     "data": {
      "text/plain": [
       "[1, 2, 3, 4, 5, 6, 7, 8, 9]"
      ]
     },
     "execution_count": 6,
     "metadata": {},
     "output_type": "execute_result"
    }
   ],
   "source": [
    "# 정수를 차례로 나열해 array 구성하고자 할 때\n",
    "[x for x in range(1,10)]"
   ]
  },
  {
   "cell_type": "code",
   "execution_count": 9,
   "id": "716ebc9a",
   "metadata": {},
   "outputs": [
    {
     "data": {
      "text/plain": [
       "array([0, 1, 2, 3, 4, 5, 6, 7, 8, 9])"
      ]
     },
     "execution_count": 9,
     "metadata": {},
     "output_type": "execute_result"
    }
   ],
   "source": [
    "np.arange(10) # 0부터 10이전 정수까지"
   ]
  },
  {
   "cell_type": "code",
   "execution_count": 10,
   "id": "27bcc277",
   "metadata": {},
   "outputs": [
    {
     "data": {
      "text/plain": [
       "array([2., 3., 4., 5., 6., 7., 8., 9.])"
      ]
     },
     "execution_count": 10,
     "metadata": {},
     "output_type": "execute_result"
    }
   ],
   "source": [
    "np.arange(2,10, dtype='float') # 2부터 시작하여 10이전까지 수를 정수형태로 생성"
   ]
  },
  {
   "cell_type": "code",
   "execution_count": 11,
   "id": "e011d022",
   "metadata": {},
   "outputs": [
    {
     "data": {
      "text/plain": [
       "array([10. , 10.1, 10.2, 10.3, 10.4, 10.5, 10.6, 10.7, 10.8, 10.9])"
      ]
     },
     "execution_count": 11,
     "metadata": {},
     "output_type": "execute_result"
    }
   ],
   "source": [
    "np.arange(10, 11, 0.1) # np.arange(시작수, 마지막 다음 수, 간격)"
   ]
  },
  {
   "cell_type": "code",
   "execution_count": 14,
   "id": "78387cb4",
   "metadata": {},
   "outputs": [
    {
     "data": {
      "text/plain": [
       "array([10. , 12.5, 15. , 17.5, 20. ])"
      ]
     },
     "execution_count": 14,
     "metadata": {},
     "output_type": "execute_result"
    }
   ],
   "source": [
    "# 특정 범위 내 데이터 수를 지정해 array 구성\n",
    "data2 = np.linspace(10, 20, 5) #np.linspace(시작수, 마지막 수, 지정된 데이터 갯수)\n",
    "data2"
   ]
  },
  {
   "cell_type": "code",
   "execution_count": 15,
   "id": "d692a88f",
   "metadata": {},
   "outputs": [
    {
     "data": {
      "text/plain": [
       "1"
      ]
     },
     "execution_count": 15,
     "metadata": {},
     "output_type": "execute_result"
    }
   ],
   "source": [
    "data2.ndim\n",
    "# ndim : 해당 배열의 차원 수를 표현\n",
    "# Scalar0 (Tensor 0) / Vector 1 (Sequence) / Matrix 2 / Tensor 3 / Tensor 4 / ...\n",
    "\n",
    "# 소괄호가 없는 함수 -> 해당 데이터의 자료구조의 구조적인 특성을 확인"
   ]
  },
  {
   "cell_type": "code",
   "execution_count": 18,
   "id": "732c54e6",
   "metadata": {},
   "outputs": [
    {
     "data": {
      "text/plain": [
       "array([[1, 2, 3],\n",
       "       [4, 5, 6],\n",
       "       [7, 8, 9]])"
      ]
     },
     "execution_count": 18,
     "metadata": {},
     "output_type": "execute_result"
    }
   ],
   "source": [
    "# matrix 형태로 array를 구성하는 경우\n",
    "# 리스트를 이용해 Matrix를 구성\n",
    "m1 = [ [1,2,3],[4,5,6],[7,8,9]] # 이중 리스트 구성\n",
    "data3 = np.array(m1)\n",
    "data3 #행 (row) x 열 (column)"
   ]
  },
  {
   "cell_type": "code",
   "execution_count": 19,
   "id": "c77d763e",
   "metadata": {},
   "outputs": [
    {
     "data": {
      "text/plain": [
       "2"
      ]
     },
     "execution_count": 19,
     "metadata": {},
     "output_type": "execute_result"
    }
   ],
   "source": [
    "data3.ndim"
   ]
  },
  {
   "cell_type": "code",
   "execution_count": 20,
   "id": "12c7d057",
   "metadata": {},
   "outputs": [],
   "source": [
    "data4 = np.array([[1,2],[3,4],[5,6]]) # 3x2 행렬 (3행 2열)\n",
    "data5 = np.array([[10,20],[100,100],[500,500]])"
   ]
  },
  {
   "cell_type": "code",
   "execution_count": 21,
   "id": "06d5797f",
   "metadata": {},
   "outputs": [
    {
     "data": {
      "text/plain": [
       "array([[ 11,  22],\n",
       "       [103, 104],\n",
       "       [505, 506]])"
      ]
     },
     "execution_count": 21,
     "metadata": {},
     "output_type": "execute_result"
    }
   ],
   "source": [
    "# Matrix의 경우 행과 열의 정보가 일치할 때, 서로 연산이 가능\n",
    "data4 + data5"
   ]
  },
  {
   "cell_type": "code",
   "execution_count": 22,
   "id": "5d938201",
   "metadata": {},
   "outputs": [
    {
     "data": {
      "text/plain": [
       "array([[   121,    484],\n",
       "       [ 10609,  10816],\n",
       "       [255025, 256036]])"
      ]
     },
     "execution_count": 22,
     "metadata": {},
     "output_type": "execute_result"
    }
   ],
   "source": [
    "(data4 + data5) **2"
   ]
  },
  {
   "cell_type": "code",
   "execution_count": 23,
   "id": "d4555ee0",
   "metadata": {},
   "outputs": [
    {
     "data": {
      "text/plain": [
       "(3, 2)"
      ]
     },
     "execution_count": 23,
     "metadata": {},
     "output_type": "execute_result"
    }
   ],
   "source": [
    "data4.shape # 특정 Matrix의 (data frame) 행과 열 개수를 확인"
   ]
  },
  {
   "cell_type": "code",
   "execution_count": 32,
   "id": "0d7c8489",
   "metadata": {},
   "outputs": [
    {
     "data": {
      "text/plain": [
       "array([['A', 'B', 'C'],\n",
       "       ['D', 'E', 'F'],\n",
       "       ['G', 'H', 'I']], dtype='<U2')"
      ]
     },
     "execution_count": 32,
     "metadata": {},
     "output_type": "execute_result"
    }
   ],
   "source": [
    "# Matrix 자료에 대한 Indexing (특정 위치의 데이터를 찾는 것)\n",
    "data5 = np.array([['A','B','C'],['D','E','F'],['G','H','I']], dtype='<U2')\n",
    "data5 # '<U1'는 한 글자로 되어 있는 문자열의 의미 (두 글자 <U2 / 세글자 <U3 / ...)"
   ]
  },
  {
   "cell_type": "code",
   "execution_count": 33,
   "id": "d7d6ec30",
   "metadata": {},
   "outputs": [
    {
     "data": {
      "text/plain": [
       "array(['A', 'B', 'C'], dtype='<U2')"
      ]
     },
     "execution_count": 33,
     "metadata": {},
     "output_type": "execute_result"
    }
   ],
   "source": [
    "data5[0] #특정 행 확인"
   ]
  },
  {
   "cell_type": "code",
   "execution_count": 34,
   "id": "608eccf3",
   "metadata": {},
   "outputs": [
    {
     "data": {
      "text/plain": [
       "'B'"
      ]
     },
     "execution_count": 34,
     "metadata": {},
     "output_type": "execute_result"
    }
   ],
   "source": [
    "data5[0,1] #특정 위치의 값을 확인(특정 행x열의 값을 확인)"
   ]
  },
  {
   "cell_type": "code",
   "execution_count": 35,
   "id": "ae9632c9",
   "metadata": {},
   "outputs": [
    {
     "data": {
      "text/plain": [
       "array(['A', 'D', 'G'], dtype='<U2')"
      ]
     },
     "execution_count": 35,
     "metadata": {},
     "output_type": "execute_result"
    }
   ],
   "source": [
    "# 특정 열을 확인하고자 할 때\n",
    "data5[:, 0] # 모든 행에 위치한 0번째 열을 출력 -> 0번째 열을 확인"
   ]
  },
  {
   "cell_type": "code",
   "execution_count": 36,
   "id": "032e2f2a",
   "metadata": {},
   "outputs": [],
   "source": [
    "# 특정 위치에 다른 값을 선언 (값을 변경 가능)\n",
    "data5[0,0] = 'Z'"
   ]
  },
  {
   "cell_type": "code",
   "execution_count": 37,
   "id": "e09ff110",
   "metadata": {},
   "outputs": [
    {
     "data": {
      "text/plain": [
       "array([['Z', 'B', 'C'],\n",
       "       ['D', 'E', 'F'],\n",
       "       ['G', 'H', 'I']], dtype='<U2')"
      ]
     },
     "execution_count": 37,
     "metadata": {},
     "output_type": "execute_result"
    }
   ],
   "source": [
    "data5"
   ]
  },
  {
   "cell_type": "code",
   "execution_count": 38,
   "id": "fcc4df4f",
   "metadata": {},
   "outputs": [],
   "source": [
    "data5[0] = ['A1','A2','A3'] # 특정 행 값 자체를 바꾸고자 할 때"
   ]
  },
  {
   "cell_type": "code",
   "execution_count": 39,
   "id": "2d515b52",
   "metadata": {},
   "outputs": [
    {
     "data": {
      "text/plain": [
       "array([['A1', 'A2', 'A3'],\n",
       "       ['D', 'E', 'F'],\n",
       "       ['G', 'H', 'I']], dtype='<U2')"
      ]
     },
     "execution_count": 39,
     "metadata": {},
     "output_type": "execute_result"
    }
   ],
   "source": [
    "data5 # 만약 글자수를 늘리고 싶다면, data5 생성 부분에서 지정해주어야 함"
   ]
  },
  {
   "cell_type": "code",
   "execution_count": 41,
   "id": "325910fc",
   "metadata": {},
   "outputs": [
    {
     "data": {
      "text/plain": [
       "array([['A1', 'A2', 'A3'],\n",
       "       ['D', 'E', 'F'],\n",
       "       ['G', 'H', 'I'],\n",
       "       ['M1', 'M2', 'M3']], dtype='<U2')"
      ]
     },
     "execution_count": 41,
     "metadata": {},
     "output_type": "execute_result"
    }
   ],
   "source": [
    "# 기존의 Matrix에 새로운 행을 추가\n",
    "np.vstack([data5, ['M1','M2','M3']])"
   ]
  },
  {
   "cell_type": "code",
   "execution_count": 43,
   "id": "ec74ec76",
   "metadata": {},
   "outputs": [
    {
     "data": {
      "text/plain": [
       "array([['A1', 'A2', 'A3', 'Q1'],\n",
       "       ['D', 'E', 'F', 'Q2'],\n",
       "       ['G', 'H', 'I', 'Q3']], dtype='<U2')"
      ]
     },
     "execution_count": 43,
     "metadata": {},
     "output_type": "execute_result"
    }
   ],
   "source": [
    "# 새로운 열 추가\n",
    "np.hstack( [data5, [['Q1'],['Q2'],['Q3']]])"
   ]
  },
  {
   "cell_type": "code",
   "execution_count": 44,
   "id": "fbd7a6b6",
   "metadata": {},
   "outputs": [
    {
     "data": {
      "text/plain": [
       "array([10, 20, 30, 40])"
      ]
     },
     "execution_count": 44,
     "metadata": {},
     "output_type": "execute_result"
    }
   ],
   "source": [
    "# Reshape (재구조화 함수)\n",
    "# Vector를 Matrix로 구현하거나, Matrix를 다른 형태로 변환\n",
    "data6 = np.array([10,20,30,40])\n",
    "data6"
   ]
  },
  {
   "cell_type": "code",
   "execution_count": 46,
   "id": "d1bec34b",
   "metadata": {},
   "outputs": [
    {
     "data": {
      "text/plain": [
       "array([[10, 20],\n",
       "       [30, 40]])"
      ]
     },
     "execution_count": 46,
     "metadata": {},
     "output_type": "execute_result"
    }
   ],
   "source": [
    "data6.reshape(2,2) # Vector 값을 2x2 행렬로 변환"
   ]
  },
  {
   "cell_type": "code",
   "execution_count": 47,
   "id": "e7104d6a",
   "metadata": {},
   "outputs": [
    {
     "data": {
      "text/plain": [
       "array([  1.   ,  13.375,  25.75 ,  38.125,  50.5  ,  62.875,  75.25 ,\n",
       "        87.625, 100.   ])"
      ]
     },
     "execution_count": 47,
     "metadata": {},
     "output_type": "execute_result"
    }
   ],
   "source": [
    "data7 = np.linspace(1, 100, 9)\n",
    "data7"
   ]
  },
  {
   "cell_type": "code",
   "execution_count": 48,
   "id": "ee4e172a",
   "metadata": {
    "scrolled": true
   },
   "outputs": [
    {
     "data": {
      "text/plain": [
       "array([[  1.   ,  13.375,  25.75 ],\n",
       "       [ 38.125,  50.5  ,  62.875],\n",
       "       [ 75.25 ,  87.625, 100.   ]])"
      ]
     },
     "execution_count": 48,
     "metadata": {},
     "output_type": "execute_result"
    }
   ],
   "source": [
    "data7.reshape(3,3)"
   ]
  },
  {
   "cell_type": "code",
   "execution_count": 50,
   "id": "c9b13a47",
   "metadata": {},
   "outputs": [
    {
     "data": {
      "text/plain": [
       "array([[0, 1, 2, 3, 4],\n",
       "       [5, 6, 7, 8, 9]])"
      ]
     },
     "execution_count": 50,
     "metadata": {},
     "output_type": "execute_result"
    }
   ],
   "source": [
    "data8 = np.arange(0,10).reshape(2,5)\n",
    "data8"
   ]
  },
  {
   "cell_type": "code",
   "execution_count": 51,
   "id": "ab1aaaf8",
   "metadata": {},
   "outputs": [
    {
     "data": {
      "text/plain": [
       "array([[0, 1],\n",
       "       [2, 3],\n",
       "       [4, 5],\n",
       "       [6, 7],\n",
       "       [8, 9]])"
      ]
     },
     "execution_count": 51,
     "metadata": {},
     "output_type": "execute_result"
    }
   ],
   "source": [
    "data8.reshape(5,2) # 정방형이 아닌 행렬로 변환"
   ]
  },
  {
   "cell_type": "code",
   "execution_count": 53,
   "id": "6ce10f57",
   "metadata": {},
   "outputs": [
    {
     "data": {
      "text/plain": [
       "array([[  1.   ],\n",
       "       [ 13.375],\n",
       "       [ 25.75 ],\n",
       "       [ 38.125],\n",
       "       [ 50.5  ],\n",
       "       [ 62.875],\n",
       "       [ 75.25 ],\n",
       "       [ 87.625],\n",
       "       [100.   ]])"
      ]
     },
     "execution_count": 53,
     "metadata": {},
     "output_type": "execute_result"
    }
   ],
   "source": [
    "data7.reshape(-1,1) # 하나의 Vector를 nx1 의 Matrix로 변환"
   ]
  },
  {
   "cell_type": "code",
   "execution_count": 55,
   "id": "e89818d5",
   "metadata": {},
   "outputs": [
    {
     "data": {
      "text/plain": [
       "array([[-0.04534691,  0.75892035,  0.59657627],\n",
       "       [-0.18501151, -0.55950419, -0.87265208]])"
      ]
     },
     "execution_count": 55,
     "metadata": {},
     "output_type": "execute_result"
    }
   ],
   "source": [
    "# Matrix에 여러 통계량을 계산\n",
    "data9 = np.random.randn(2,3) # 2x3 행렬에 난수로 구성된 Matrix 생성\n",
    "data9"
   ]
  },
  {
   "cell_type": "code",
   "execution_count": 56,
   "id": "90a16445",
   "metadata": {},
   "outputs": [
    {
     "data": {
      "text/plain": [
       "-0.3070180655490282"
      ]
     },
     "execution_count": 56,
     "metadata": {},
     "output_type": "execute_result"
    }
   ],
   "source": [
    "data9.sum()"
   ]
  },
  {
   "cell_type": "code",
   "execution_count": 58,
   "id": "732f0479",
   "metadata": {},
   "outputs": [
    {
     "data": {
      "text/plain": [
       "array([ 1.31014972, -1.61716778])"
      ]
     },
     "execution_count": 58,
     "metadata": {},
     "output_type": "execute_result"
    }
   ],
   "source": [
    "data9.sum(axis=1) # 행 단위로 값을 계산"
   ]
  },
  {
   "cell_type": "code",
   "execution_count": 59,
   "id": "72fd9e94",
   "metadata": {},
   "outputs": [
    {
     "data": {
      "text/plain": [
       "array([-0.23035842,  0.19941616, -0.27607581])"
      ]
     },
     "execution_count": 59,
     "metadata": {},
     "output_type": "execute_result"
    }
   ],
   "source": [
    "data9.sum(axis=0) # 열 단위로 값을 계산"
   ]
  },
  {
   "cell_type": "code",
   "execution_count": 60,
   "id": "a33958dc",
   "metadata": {},
   "outputs": [
    {
     "data": {
      "text/plain": [
       "array([-0.11517921,  0.09970808, -0.13803791])"
      ]
     },
     "execution_count": 60,
     "metadata": {},
     "output_type": "execute_result"
    }
   ],
   "source": [
    "data9.mean(axis=0)"
   ]
  },
  {
   "cell_type": "code",
   "execution_count": 61,
   "id": "fa9de934",
   "metadata": {},
   "outputs": [
    {
     "data": {
      "text/plain": [
       "array([-0.04534691,  0.75892035,  0.59657627])"
      ]
     },
     "execution_count": 61,
     "metadata": {},
     "output_type": "execute_result"
    }
   ],
   "source": [
    "data9.max(axis=0)"
   ]
  },
  {
   "cell_type": "markdown",
   "id": "a345a834",
   "metadata": {},
   "source": [
    "## 2. Pandas (Panel + Datasets)\n",
    "\n",
    "- **Pandas의 자료구조**\n",
    "- Series (순열) : Numpy Array를 기반으로, 정형 데이터분석을 위해 구성된 Index-Value 형식의 자료구조 (순서-값)"
   ]
  },
  {
   "cell_type": "code",
   "execution_count": 62,
   "id": "7357d30b",
   "metadata": {},
   "outputs": [],
   "source": [
    "import pandas as pd"
   ]
  },
  {
   "cell_type": "code",
   "execution_count": 63,
   "id": "a2bdd9b8",
   "metadata": {},
   "outputs": [
    {
     "data": {
      "text/plain": [
       "0    100\n",
       "1    200\n",
       "2    300\n",
       "3     50\n",
       "4    700\n",
       "dtype: int64"
      ]
     },
     "execution_count": 63,
     "metadata": {},
     "output_type": "execute_result"
    }
   ],
   "source": [
    "s1 = pd.Series([100,200,300,50,700])\n",
    "s1\n",
    "# 시리즈는 하나의 데이터 타입만 갖는 자료구조\n",
    "# 하나의 데이터 타입만 갖는 것이 통계 연산 및 정형데이터 관리에 있어서 매우 유리\n",
    "# (정형데이터의 효율성과 일관성을 유지하기 위한 규칙 -> RDB 관계형 데이터 베이스)"
   ]
  },
  {
   "cell_type": "code",
   "execution_count": 64,
   "id": "b9b434ed",
   "metadata": {},
   "outputs": [
    {
     "data": {
      "text/plain": [
       "RangeIndex(start=0, stop=5, step=1)"
      ]
     },
     "execution_count": 64,
     "metadata": {},
     "output_type": "execute_result"
    }
   ],
   "source": [
    "s1.index\n",
    "# index라는 데이터의 순서 구조를 가지며, Series 형태로 선언하면 자동으로 index 부여됨"
   ]
  },
  {
   "cell_type": "code",
   "execution_count": 66,
   "id": "dbc8130a",
   "metadata": {},
   "outputs": [
    {
     "data": {
      "text/plain": [
       "array([100, 200, 300,  50, 700])"
      ]
     },
     "execution_count": 66,
     "metadata": {},
     "output_type": "execute_result"
    }
   ],
   "source": [
    "s1.values # Series의 값을 출력하면, Numpy 의 Array 배열의 구조를 하고 있음"
   ]
  },
  {
   "cell_type": "code",
   "execution_count": 67,
   "id": "c72f0186",
   "metadata": {},
   "outputs": [
    {
     "data": {
      "text/plain": [
       "100"
      ]
     },
     "execution_count": 67,
     "metadata": {},
     "output_type": "execute_result"
    }
   ],
   "source": [
    "# 시리즈 indexing\n",
    "s1[0] # index 내의 값을 대괄호에 입력하면, 해당 인덱스 위치의 값을 출력"
   ]
  },
  {
   "cell_type": "code",
   "execution_count": 68,
   "id": "414b4e70",
   "metadata": {
    "collapsed": true
   },
   "outputs": [
    {
     "data": {
      "text/plain": [
       "1    200\n",
       "2    300\n",
       "dtype: int64"
      ]
     },
     "execution_count": 68,
     "metadata": {},
     "output_type": "execute_result"
    }
   ],
   "source": [
    "s1[1:3]"
   ]
  },
  {
   "cell_type": "code",
   "execution_count": 69,
   "id": "8d5c2361",
   "metadata": {
    "collapsed": true
   },
   "outputs": [
    {
     "data": {
      "text/plain": [
       "0    2000\n",
       "1     200\n",
       "2     300\n",
       "3      50\n",
       "4     700\n",
       "dtype: int64"
      ]
     },
     "execution_count": 69,
     "metadata": {},
     "output_type": "execute_result"
    }
   ],
   "source": [
    "s1[0] = 2000 #특정 인덱스에 있는 값을 다른 값으로 바꾸고자 할 때\n",
    "s1"
   ]
  },
  {
   "cell_type": "code",
   "execution_count": 70,
   "id": "cd9e8a53",
   "metadata": {
    "collapsed": true
   },
   "outputs": [
    {
     "data": {
      "text/plain": [
       "0    2000\n",
       "2     300\n",
       "3      50\n",
       "4     700\n",
       "dtype: int64"
      ]
     },
     "execution_count": 70,
     "metadata": {},
     "output_type": "execute_result"
    }
   ],
   "source": [
    "# 다른 값을 제거\n",
    "s1.drop(1) # 실제로 없애는 것은 아님\n",
    "# inplace = True 특정 값을 제거한 결과를 변수에 적용\n",
    "# 많이 선호하지 않는 방법\n",
    "# 분석을 하다보면 제거한 값이 필요할 때가 있기 때문"
   ]
  },
  {
   "cell_type": "code",
   "execution_count": 73,
   "id": "7b2c331c",
   "metadata": {
    "collapsed": true
   },
   "outputs": [
    {
     "data": {
      "text/plain": [
       "0    2000\n",
       "1     200\n",
       "2     300\n",
       "3      50\n",
       "dtype: int64"
      ]
     },
     "execution_count": 73,
     "metadata": {},
     "output_type": "execute_result"
    }
   ],
   "source": [
    "s2 = s1.drop(4) #값을 제거할 땐, 제거된 결과를 다른 변수로 선언하여 사용\n",
    "s2"
   ]
  },
  {
   "cell_type": "code",
   "execution_count": 75,
   "id": "3007243b",
   "metadata": {},
   "outputs": [],
   "source": [
    "s2[4] = 500 # 새로운 값을 추가"
   ]
  },
  {
   "cell_type": "code",
   "execution_count": 76,
   "id": "8f20b7da",
   "metadata": {
    "collapsed": true
   },
   "outputs": [
    {
     "data": {
      "text/plain": [
       "0    2000\n",
       "1     200\n",
       "2     300\n",
       "3      50\n",
       "4     500\n",
       "dtype: int64"
      ]
     },
     "execution_count": 76,
     "metadata": {},
     "output_type": "execute_result"
    }
   ],
   "source": [
    "s2"
   ]
  },
  {
   "cell_type": "code",
   "execution_count": 77,
   "id": "96a90d43",
   "metadata": {},
   "outputs": [
    {
     "data": {
      "text/plain": [
       "3050"
      ]
     },
     "execution_count": 77,
     "metadata": {},
     "output_type": "execute_result"
    }
   ],
   "source": [
    "# 통계량 계산 또한 쉽게 수행 가능\n",
    "s2.sum()"
   ]
  },
  {
   "cell_type": "code",
   "execution_count": 78,
   "id": "4db03928",
   "metadata": {},
   "outputs": [
    {
     "data": {
      "text/plain": [
       "610.0"
      ]
     },
     "execution_count": 78,
     "metadata": {},
     "output_type": "execute_result"
    }
   ],
   "source": [
    "s2.mean()"
   ]
  },
  {
   "cell_type": "code",
   "execution_count": 79,
   "id": "916865bd",
   "metadata": {},
   "outputs": [
    {
     "data": {
      "text/plain": [
       "1st    100\n",
       "2nd    200\n",
       "3rd    300\n",
       "4th    400\n",
       "dtype: int64"
      ]
     },
     "execution_count": 79,
     "metadata": {},
     "output_type": "execute_result"
    }
   ],
   "source": [
    "# Series의 Index는 자동으로 부여되지만, 특정 원하는 값으로 Index를 지정가능\n",
    "s3 = pd.Series([100,200,300,400], index = ['1st','2nd','3rd','4th'])\n",
    "s3"
   ]
  },
  {
   "cell_type": "code",
   "execution_count": 80,
   "id": "496ca800",
   "metadata": {},
   "outputs": [
    {
     "data": {
      "text/plain": [
       "100"
      ]
     },
     "execution_count": 80,
     "metadata": {},
     "output_type": "execute_result"
    }
   ],
   "source": [
    "s3['1st']\n",
    "# Pandas 내 다양한 함수들을 적용하면, 결과값이 Series 형태로 출력이 될 때,\n",
    "# Index 값이 숫자가 아닌 형태로 오는 경우가 있음 ! -> 활용"
   ]
  },
  {
   "cell_type": "code",
   "execution_count": 81,
   "id": "e12b6699",
   "metadata": {},
   "outputs": [
    {
     "data": {
      "text/plain": [
       "Index(['1st', '2nd', '3rd', '4th'], dtype='object')"
      ]
     },
     "execution_count": 81,
     "metadata": {},
     "output_type": "execute_result"
    }
   ],
   "source": [
    "s3.index"
   ]
  },
  {
   "cell_type": "code",
   "execution_count": 82,
   "id": "34d3d28f",
   "metadata": {},
   "outputs": [
    {
     "data": {
      "text/plain": [
       "name       홍길동\n",
       "age         29\n",
       "gender    male\n",
       "job        분석가\n",
       "dtype: object"
      ]
     },
     "execution_count": 82,
     "metadata": {},
     "output_type": "execute_result"
    }
   ],
   "source": [
    "# 딕셔너리 형태로도 시리즈를 구성할 수 있음\n",
    "s4 = pd.Series({'name':'홍길동', 'age':29, 'gender':'male', 'job':'분석가'})\n",
    "s4"
   ]
  },
  {
   "cell_type": "markdown",
   "id": "9266e9b8",
   "metadata": {},
   "source": [
    "- **Data Frame** : Index-Column-Value로 구성되어 있는 자료구조\n",
    "- 정형데이터의 기본구조와 동일한 형태로, Pandas 라이브러리에서 Excel, CSV, SQL과 같은 형태의 자료를 다루고 처리하기 위해 구성"
   ]
  },
  {
   "cell_type": "code",
   "execution_count": 83,
   "id": "aa517424",
   "metadata": {},
   "outputs": [
    {
     "data": {
      "text/html": [
       "<div>\n",
       "<style scoped>\n",
       "    .dataframe tbody tr th:only-of-type {\n",
       "        vertical-align: middle;\n",
       "    }\n",
       "\n",
       "    .dataframe tbody tr th {\n",
       "        vertical-align: top;\n",
       "    }\n",
       "\n",
       "    .dataframe thead th {\n",
       "        text-align: right;\n",
       "    }\n",
       "</style>\n",
       "<table border=\"1\" class=\"dataframe\">\n",
       "  <thead>\n",
       "    <tr style=\"text-align: right;\">\n",
       "      <th></th>\n",
       "      <th>0</th>\n",
       "    </tr>\n",
       "  </thead>\n",
       "  <tbody>\n",
       "    <tr>\n",
       "      <th>0</th>\n",
       "      <td>100</td>\n",
       "    </tr>\n",
       "    <tr>\n",
       "      <th>1</th>\n",
       "      <td>200</td>\n",
       "    </tr>\n",
       "    <tr>\n",
       "      <th>2</th>\n",
       "      <td>300</td>\n",
       "    </tr>\n",
       "    <tr>\n",
       "      <th>3</th>\n",
       "      <td>400</td>\n",
       "    </tr>\n",
       "  </tbody>\n",
       "</table>\n",
       "</div>"
      ],
      "text/plain": [
       "     0\n",
       "0  100\n",
       "1  200\n",
       "2  300\n",
       "3  400"
      ]
     },
     "execution_count": 83,
     "metadata": {},
     "output_type": "execute_result"
    }
   ],
   "source": [
    "# 데이터 프레임 구성\n",
    "df = pd.DataFrame([100,200,300,400]) # D, F는 대문자\n",
    "df"
   ]
  },
  {
   "cell_type": "code",
   "execution_count": 84,
   "id": "de2ccca5",
   "metadata": {},
   "outputs": [
    {
     "data": {
      "text/plain": [
       "array([[100],\n",
       "       [200],\n",
       "       [300],\n",
       "       [400]])"
      ]
     },
     "execution_count": 84,
     "metadata": {},
     "output_type": "execute_result"
    }
   ],
   "source": [
    "df.values"
   ]
  },
  {
   "cell_type": "code",
   "execution_count": 86,
   "id": "8d4434bb",
   "metadata": {},
   "outputs": [
    {
     "data": {
      "text/html": [
       "<div>\n",
       "<style scoped>\n",
       "    .dataframe tbody tr th:only-of-type {\n",
       "        vertical-align: middle;\n",
       "    }\n",
       "\n",
       "    .dataframe tbody tr th {\n",
       "        vertical-align: top;\n",
       "    }\n",
       "\n",
       "    .dataframe thead th {\n",
       "        text-align: right;\n",
       "    }\n",
       "</style>\n",
       "<table border=\"1\" class=\"dataframe\">\n",
       "  <thead>\n",
       "    <tr style=\"text-align: right;\">\n",
       "      <th></th>\n",
       "      <th>A</th>\n",
       "      <th>B</th>\n",
       "      <th>C</th>\n",
       "      <th>D</th>\n",
       "      <th>E</th>\n",
       "    </tr>\n",
       "  </thead>\n",
       "  <tbody>\n",
       "    <tr>\n",
       "      <th>1st</th>\n",
       "      <td>100</td>\n",
       "      <td>200</td>\n",
       "      <td>300</td>\n",
       "      <td>400</td>\n",
       "      <td>500</td>\n",
       "    </tr>\n",
       "    <tr>\n",
       "      <th>2nd</th>\n",
       "      <td>40</td>\n",
       "      <td>80</td>\n",
       "      <td>120</td>\n",
       "      <td>160</td>\n",
       "      <td>180</td>\n",
       "    </tr>\n",
       "  </tbody>\n",
       "</table>\n",
       "</div>"
      ],
      "text/plain": [
       "       A    B    C    D    E\n",
       "1st  100  200  300  400  500\n",
       "2nd   40   80  120  160  180"
      ]
     },
     "execution_count": 86,
     "metadata": {},
     "output_type": "execute_result"
    }
   ],
   "source": [
    "df1 = pd.DataFrame(data= [[100,200,300,400,500], [40,80,120,160,180]],\n",
    "                  columns = ['A','B','C','D','E'], index=['1st','2nd'])\n",
    "df1"
   ]
  },
  {
   "cell_type": "code",
   "execution_count": 87,
   "id": "9fabbab9",
   "metadata": {},
   "outputs": [
    {
     "data": {
      "text/plain": [
       "1st    100\n",
       "2nd     40\n",
       "Name: A, dtype: int64"
      ]
     },
     "execution_count": 87,
     "metadata": {},
     "output_type": "execute_result"
    }
   ],
   "source": [
    "# DataFrame의 Indexing\n",
    "df1['A'] # 특정 Column을 확인할 때, 수행 결과가 Series 형태로 나오게 된다.\n",
    "# 하나의 DataFrame은 여러 개의 Seires로 구성되어 있다."
   ]
  },
  {
   "cell_type": "code",
   "execution_count": 88,
   "id": "de64de8d",
   "metadata": {},
   "outputs": [
    {
     "data": {
      "text/html": [
       "<div>\n",
       "<style scoped>\n",
       "    .dataframe tbody tr th:only-of-type {\n",
       "        vertical-align: middle;\n",
       "    }\n",
       "\n",
       "    .dataframe tbody tr th {\n",
       "        vertical-align: top;\n",
       "    }\n",
       "\n",
       "    .dataframe thead th {\n",
       "        text-align: right;\n",
       "    }\n",
       "</style>\n",
       "<table border=\"1\" class=\"dataframe\">\n",
       "  <thead>\n",
       "    <tr style=\"text-align: right;\">\n",
       "      <th></th>\n",
       "      <th>A</th>\n",
       "      <th>B</th>\n",
       "    </tr>\n",
       "  </thead>\n",
       "  <tbody>\n",
       "    <tr>\n",
       "      <th>1st</th>\n",
       "      <td>100</td>\n",
       "      <td>200</td>\n",
       "    </tr>\n",
       "    <tr>\n",
       "      <th>2nd</th>\n",
       "      <td>40</td>\n",
       "      <td>80</td>\n",
       "    </tr>\n",
       "  </tbody>\n",
       "</table>\n",
       "</div>"
      ],
      "text/plain": [
       "       A    B\n",
       "1st  100  200\n",
       "2nd   40   80"
      ]
     },
     "execution_count": 88,
     "metadata": {},
     "output_type": "execute_result"
    }
   ],
   "source": [
    "df1[['A','B']] #DataFrame내 여러 Column을 동시에 Indexing 할 땐, 대괄호 2개\n",
    "# 대괄호 한 개 -> 하나의 데이터프레임 내에 있는 Column을 시리즈로 출력 -> 두 개 이상의 Colum이 못옴\n",
    "# 대괄호 두 개 -> 하나의 데이터프레임 내에 있는 Column을 프레임 형태로 출력"
   ]
  },
  {
   "cell_type": "code",
   "execution_count": 91,
   "id": "6092f6e8",
   "metadata": {},
   "outputs": [
    {
     "data": {
      "text/html": [
       "<div>\n",
       "<style scoped>\n",
       "    .dataframe tbody tr th:only-of-type {\n",
       "        vertical-align: middle;\n",
       "    }\n",
       "\n",
       "    .dataframe tbody tr th {\n",
       "        vertical-align: top;\n",
       "    }\n",
       "\n",
       "    .dataframe thead th {\n",
       "        text-align: right;\n",
       "    }\n",
       "</style>\n",
       "<table border=\"1\" class=\"dataframe\">\n",
       "  <thead>\n",
       "    <tr style=\"text-align: right;\">\n",
       "      <th></th>\n",
       "      <th>A</th>\n",
       "    </tr>\n",
       "  </thead>\n",
       "  <tbody>\n",
       "    <tr>\n",
       "      <th>1st</th>\n",
       "      <td>100</td>\n",
       "    </tr>\n",
       "    <tr>\n",
       "      <th>2nd</th>\n",
       "      <td>40</td>\n",
       "    </tr>\n",
       "  </tbody>\n",
       "</table>\n",
       "</div>"
      ],
      "text/plain": [
       "       A\n",
       "1st  100\n",
       "2nd   40"
      ]
     },
     "execution_count": 91,
     "metadata": {},
     "output_type": "execute_result"
    }
   ],
   "source": [
    "df1[['A']]"
   ]
  },
  {
   "cell_type": "code",
   "execution_count": 95,
   "id": "f9ba401d",
   "metadata": {},
   "outputs": [
    {
     "data": {
      "text/html": [
       "<div>\n",
       "<style scoped>\n",
       "    .dataframe tbody tr th:only-of-type {\n",
       "        vertical-align: middle;\n",
       "    }\n",
       "\n",
       "    .dataframe tbody tr th {\n",
       "        vertical-align: top;\n",
       "    }\n",
       "\n",
       "    .dataframe thead th {\n",
       "        text-align: right;\n",
       "    }\n",
       "</style>\n",
       "<table border=\"1\" class=\"dataframe\">\n",
       "  <thead>\n",
       "    <tr style=\"text-align: right;\">\n",
       "      <th></th>\n",
       "      <th>장르</th>\n",
       "      <th>아티스트</th>\n",
       "      <th>노래제목</th>\n",
       "    </tr>\n",
       "  </thead>\n",
       "  <tbody>\n",
       "    <tr>\n",
       "      <th>0</th>\n",
       "      <td>발라드</td>\n",
       "      <td>아이유</td>\n",
       "      <td>너랑나</td>\n",
       "    </tr>\n",
       "    <tr>\n",
       "      <th>1</th>\n",
       "      <td>락</td>\n",
       "      <td>서태지</td>\n",
       "      <td>교실이데아</td>\n",
       "    </tr>\n",
       "    <tr>\n",
       "      <th>2</th>\n",
       "      <td>인디</td>\n",
       "      <td>웨이브</td>\n",
       "      <td>A</td>\n",
       "    </tr>\n",
       "  </tbody>\n",
       "</table>\n",
       "</div>"
      ],
      "text/plain": [
       "    장르 아티스트   노래제목\n",
       "0  발라드  아이유    너랑나\n",
       "1    락  서태지  교실이데아\n",
       "2   인디  웨이브      A"
      ]
     },
     "execution_count": 95,
     "metadata": {},
     "output_type": "execute_result"
    }
   ],
   "source": [
    "# 딕셔너리 구조를 이용해서 데이터 프레임을 구성\n",
    "pd.DataFrame(data={'장르': ['발라드','락','인디'],\n",
    "                   '아티스트': ['아이유','서태지','웨이브'],\n",
    "                   '노래제목': ['너랑나','교실이데아','A']})"
   ]
  },
  {
   "cell_type": "markdown",
   "id": "5389b452",
   "metadata": {},
   "source": [
    "# 기술적 데이터 분석 (DDA)\n",
    "\n",
    "- 데이터를 가져와 데이터의 기본정보를 파악\n",
    "- 데이터의 구조와 타입을 확인\n",
    "- 비즈니스 목표에 부합하는 목표변수(Y, Target, Label, Ouput / 문제 해결에 있어서 데이터상 가장 핵심적인 Column) <-> 설명변수(X, Feature, Column, Input) 확인\n",
    "- 기술통계량을 파악 (평균/중위수/분산/...)"
   ]
  },
  {
   "cell_type": "markdown",
   "id": "cd634ebd",
   "metadata": {},
   "source": [
    "**01_Data.csv**\n",
    "- 사무용품을 렌탈하는 업체에서 한명의 고객이 계약한 렌탈 계약건에 대해 한줄씩 정리된 데이터"
   ]
  },
  {
   "cell_type": "code",
   "execution_count": 97,
   "id": "d0860419",
   "metadata": {
    "collapsed": true
   },
   "outputs": [
    {
     "data": {
      "text/html": [
       "<div>\n",
       "<style scoped>\n",
       "    .dataframe tbody tr th:only-of-type {\n",
       "        vertical-align: middle;\n",
       "    }\n",
       "\n",
       "    .dataframe tbody tr th {\n",
       "        vertical-align: top;\n",
       "    }\n",
       "\n",
       "    .dataframe thead th {\n",
       "        text-align: right;\n",
       "    }\n",
       "</style>\n",
       "<table border=\"1\" class=\"dataframe\">\n",
       "  <thead>\n",
       "    <tr style=\"text-align: right;\">\n",
       "      <th></th>\n",
       "      <th>Index</th>\n",
       "      <th>Member_ID</th>\n",
       "      <th>Sales_Type</th>\n",
       "      <th>Contract_Type</th>\n",
       "      <th>Channel</th>\n",
       "      <th>Datetime</th>\n",
       "      <th>Term</th>\n",
       "      <th>Payment_Type</th>\n",
       "      <th>Product_Type</th>\n",
       "      <th>Amount_Month</th>\n",
       "      <th>Customer_Type</th>\n",
       "      <th>Age</th>\n",
       "      <th>Address1</th>\n",
       "      <th>Address2</th>\n",
       "      <th>State</th>\n",
       "      <th>Overdue_count</th>\n",
       "      <th>Overdue_Type</th>\n",
       "      <th>Gender</th>\n",
       "      <th>Credit_Rank</th>\n",
       "      <th>Bank</th>\n",
       "    </tr>\n",
       "  </thead>\n",
       "  <tbody>\n",
       "    <tr>\n",
       "      <th>0</th>\n",
       "      <td>1</td>\n",
       "      <td>66758234</td>\n",
       "      <td>렌탈</td>\n",
       "      <td>일반계약</td>\n",
       "      <td>영업방판</td>\n",
       "      <td>2022-05-05</td>\n",
       "      <td>60</td>\n",
       "      <td>CMS</td>\n",
       "      <td>DES-1</td>\n",
       "      <td>96900</td>\n",
       "      <td>개인</td>\n",
       "      <td>42.0</td>\n",
       "      <td>경기도</td>\n",
       "      <td>경기도</td>\n",
       "      <td>계약확정</td>\n",
       "      <td>0</td>\n",
       "      <td>없음</td>\n",
       "      <td>여자</td>\n",
       "      <td>9.0</td>\n",
       "      <td>새마을금고</td>\n",
       "    </tr>\n",
       "    <tr>\n",
       "      <th>1</th>\n",
       "      <td>2</td>\n",
       "      <td>66755948</td>\n",
       "      <td>렌탈</td>\n",
       "      <td>교체계약</td>\n",
       "      <td>영업방판</td>\n",
       "      <td>2023-02-19</td>\n",
       "      <td>60</td>\n",
       "      <td>카드이체</td>\n",
       "      <td>DES-1</td>\n",
       "      <td>102900</td>\n",
       "      <td>개인</td>\n",
       "      <td>39.0</td>\n",
       "      <td>경기도</td>\n",
       "      <td>경기도</td>\n",
       "      <td>계약확정</td>\n",
       "      <td>0</td>\n",
       "      <td>없음</td>\n",
       "      <td>남자</td>\n",
       "      <td>2.0</td>\n",
       "      <td>현대카드</td>\n",
       "    </tr>\n",
       "    <tr>\n",
       "      <th>2</th>\n",
       "      <td>3</td>\n",
       "      <td>66756657</td>\n",
       "      <td>렌탈</td>\n",
       "      <td>일반계약</td>\n",
       "      <td>홈쇼핑/방송</td>\n",
       "      <td>2022-02-27</td>\n",
       "      <td>60</td>\n",
       "      <td>CMS</td>\n",
       "      <td>DES-1</td>\n",
       "      <td>96900</td>\n",
       "      <td>개인</td>\n",
       "      <td>48.0</td>\n",
       "      <td>경기도</td>\n",
       "      <td>경기도</td>\n",
       "      <td>계약확정</td>\n",
       "      <td>0</td>\n",
       "      <td>없음</td>\n",
       "      <td>여자</td>\n",
       "      <td>8.0</td>\n",
       "      <td>우리은행</td>\n",
       "    </tr>\n",
       "    <tr>\n",
       "      <th>3</th>\n",
       "      <td>4</td>\n",
       "      <td>66423450</td>\n",
       "      <td>멤버십</td>\n",
       "      <td>멤버십3유형</td>\n",
       "      <td>재계약</td>\n",
       "      <td>2022-05-12</td>\n",
       "      <td>12</td>\n",
       "      <td>CMS</td>\n",
       "      <td>DES-1</td>\n",
       "      <td>66900</td>\n",
       "      <td>개인</td>\n",
       "      <td>39.0</td>\n",
       "      <td>경기도</td>\n",
       "      <td>경기도</td>\n",
       "      <td>계약확정</td>\n",
       "      <td>0</td>\n",
       "      <td>없음</td>\n",
       "      <td>남자</td>\n",
       "      <td>5.0</td>\n",
       "      <td>농협회원조합</td>\n",
       "    </tr>\n",
       "    <tr>\n",
       "      <th>4</th>\n",
       "      <td>5</td>\n",
       "      <td>66423204</td>\n",
       "      <td>멤버십</td>\n",
       "      <td>멤버십3유형</td>\n",
       "      <td>재계약</td>\n",
       "      <td>2022-05-09</td>\n",
       "      <td>12</td>\n",
       "      <td>CMS</td>\n",
       "      <td>DES-1</td>\n",
       "      <td>66900</td>\n",
       "      <td>개인</td>\n",
       "      <td>60.0</td>\n",
       "      <td>경기도</td>\n",
       "      <td>경기도</td>\n",
       "      <td>기간만료</td>\n",
       "      <td>12</td>\n",
       "      <td>있음</td>\n",
       "      <td>남자</td>\n",
       "      <td>8.0</td>\n",
       "      <td>농협회원조합</td>\n",
       "    </tr>\n",
       "    <tr>\n",
       "      <th>...</th>\n",
       "      <td>...</td>\n",
       "      <td>...</td>\n",
       "      <td>...</td>\n",
       "      <td>...</td>\n",
       "      <td>...</td>\n",
       "      <td>...</td>\n",
       "      <td>...</td>\n",
       "      <td>...</td>\n",
       "      <td>...</td>\n",
       "      <td>...</td>\n",
       "      <td>...</td>\n",
       "      <td>...</td>\n",
       "      <td>...</td>\n",
       "      <td>...</td>\n",
       "      <td>...</td>\n",
       "      <td>...</td>\n",
       "      <td>...</td>\n",
       "      <td>...</td>\n",
       "      <td>...</td>\n",
       "      <td>...</td>\n",
       "    </tr>\n",
       "    <tr>\n",
       "      <th>51296</th>\n",
       "      <td>51298</td>\n",
       "      <td>66579515</td>\n",
       "      <td>렌탈</td>\n",
       "      <td>프로모션계약</td>\n",
       "      <td>대형마트A</td>\n",
       "      <td>2022-02-28</td>\n",
       "      <td>60</td>\n",
       "      <td>CMS</td>\n",
       "      <td>DES-3A</td>\n",
       "      <td>96900</td>\n",
       "      <td>개인</td>\n",
       "      <td>47.0</td>\n",
       "      <td>경기도</td>\n",
       "      <td>경기도</td>\n",
       "      <td>계약확정</td>\n",
       "      <td>0</td>\n",
       "      <td>없음</td>\n",
       "      <td>남자</td>\n",
       "      <td>NaN</td>\n",
       "      <td>기업은행</td>\n",
       "    </tr>\n",
       "    <tr>\n",
       "      <th>51297</th>\n",
       "      <td>51299</td>\n",
       "      <td>66799558</td>\n",
       "      <td>렌탈</td>\n",
       "      <td>일반계약</td>\n",
       "      <td>대형마트A</td>\n",
       "      <td>2022-03-31</td>\n",
       "      <td>60</td>\n",
       "      <td>CMS</td>\n",
       "      <td>DES-1</td>\n",
       "      <td>96900</td>\n",
       "      <td>개인</td>\n",
       "      <td>42.0</td>\n",
       "      <td>경기도</td>\n",
       "      <td>경기도</td>\n",
       "      <td>계약확정</td>\n",
       "      <td>0</td>\n",
       "      <td>없음</td>\n",
       "      <td>여자</td>\n",
       "      <td>8.0</td>\n",
       "      <td>새마을금고</td>\n",
       "    </tr>\n",
       "    <tr>\n",
       "      <th>51298</th>\n",
       "      <td>51300</td>\n",
       "      <td>66799197</td>\n",
       "      <td>렌탈</td>\n",
       "      <td>프로모션계약</td>\n",
       "      <td>영업방판</td>\n",
       "      <td>2022-03-31</td>\n",
       "      <td>39</td>\n",
       "      <td>카드이체</td>\n",
       "      <td>ERA</td>\n",
       "      <td>120900</td>\n",
       "      <td>개인</td>\n",
       "      <td>65.0</td>\n",
       "      <td>서울특별시</td>\n",
       "      <td>서울특별시</td>\n",
       "      <td>계약확정</td>\n",
       "      <td>0</td>\n",
       "      <td>없음</td>\n",
       "      <td>여자</td>\n",
       "      <td>1.0</td>\n",
       "      <td>롯데카드</td>\n",
       "    </tr>\n",
       "    <tr>\n",
       "      <th>51299</th>\n",
       "      <td>51301</td>\n",
       "      <td>66792778</td>\n",
       "      <td>렌탈</td>\n",
       "      <td>일반계약</td>\n",
       "      <td>홈쇼핑/방송</td>\n",
       "      <td>2023-02-05</td>\n",
       "      <td>60</td>\n",
       "      <td>카드이체</td>\n",
       "      <td>DES-1</td>\n",
       "      <td>96900</td>\n",
       "      <td>개인</td>\n",
       "      <td>54.0</td>\n",
       "      <td>서울특별시</td>\n",
       "      <td>서울특별시</td>\n",
       "      <td>계약확정</td>\n",
       "      <td>0</td>\n",
       "      <td>없음</td>\n",
       "      <td>여자</td>\n",
       "      <td>2.0</td>\n",
       "      <td>롯데카드</td>\n",
       "    </tr>\n",
       "    <tr>\n",
       "      <th>51300</th>\n",
       "      <td>51302</td>\n",
       "      <td>66799607</td>\n",
       "      <td>렌탈</td>\n",
       "      <td>일반계약</td>\n",
       "      <td>홈쇼핑/방송</td>\n",
       "      <td>2022-04-23</td>\n",
       "      <td>60</td>\n",
       "      <td>CMS</td>\n",
       "      <td>DES-1</td>\n",
       "      <td>96900</td>\n",
       "      <td>개인</td>\n",
       "      <td>53.0</td>\n",
       "      <td>서울특별시</td>\n",
       "      <td>서울특별시</td>\n",
       "      <td>계약확정</td>\n",
       "      <td>0</td>\n",
       "      <td>없음</td>\n",
       "      <td>여자</td>\n",
       "      <td>8.0</td>\n",
       "      <td>신한은행</td>\n",
       "    </tr>\n",
       "  </tbody>\n",
       "</table>\n",
       "<p>51301 rows × 20 columns</p>\n",
       "</div>"
      ],
      "text/plain": [
       "       Index  Member_ID Sales_Type Contract_Type Channel    Datetime  Term  \\\n",
       "0          1   66758234         렌탈          일반계약    영업방판  2022-05-05    60   \n",
       "1          2   66755948         렌탈          교체계약    영업방판  2023-02-19    60   \n",
       "2          3   66756657         렌탈          일반계약  홈쇼핑/방송  2022-02-27    60   \n",
       "3          4   66423450        멤버십        멤버십3유형     재계약  2022-05-12    12   \n",
       "4          5   66423204        멤버십        멤버십3유형     재계약  2022-05-09    12   \n",
       "...      ...        ...        ...           ...     ...         ...   ...   \n",
       "51296  51298   66579515         렌탈        프로모션계약   대형마트A  2022-02-28    60   \n",
       "51297  51299   66799558         렌탈          일반계약   대형마트A  2022-03-31    60   \n",
       "51298  51300   66799197         렌탈        프로모션계약    영업방판  2022-03-31    39   \n",
       "51299  51301   66792778         렌탈          일반계약  홈쇼핑/방송  2023-02-05    60   \n",
       "51300  51302   66799607         렌탈          일반계약  홈쇼핑/방송  2022-04-23    60   \n",
       "\n",
       "      Payment_Type Product_Type  Amount_Month Customer_Type   Age Address1  \\\n",
       "0              CMS        DES-1         96900            개인  42.0      경기도   \n",
       "1             카드이체        DES-1        102900            개인  39.0      경기도   \n",
       "2              CMS        DES-1         96900            개인  48.0      경기도   \n",
       "3              CMS        DES-1         66900            개인  39.0      경기도   \n",
       "4              CMS        DES-1         66900            개인  60.0      경기도   \n",
       "...            ...          ...           ...           ...   ...      ...   \n",
       "51296          CMS       DES-3A         96900            개인  47.0      경기도   \n",
       "51297          CMS        DES-1         96900            개인  42.0      경기도   \n",
       "51298         카드이체          ERA        120900            개인  65.0    서울특별시   \n",
       "51299         카드이체        DES-1         96900            개인  54.0    서울특별시   \n",
       "51300          CMS        DES-1         96900            개인  53.0    서울특별시   \n",
       "\n",
       "      Address2 State  Overdue_count Overdue_Type Gender  Credit_Rank    Bank  \n",
       "0          경기도  계약확정              0           없음     여자          9.0   새마을금고  \n",
       "1          경기도  계약확정              0           없음     남자          2.0    현대카드  \n",
       "2          경기도  계약확정              0           없음     여자          8.0    우리은행  \n",
       "3          경기도  계약확정              0           없음     남자          5.0  농협회원조합  \n",
       "4          경기도  기간만료             12           있음     남자          8.0  농협회원조합  \n",
       "...        ...   ...            ...          ...    ...          ...     ...  \n",
       "51296      경기도  계약확정              0           없음     남자          NaN    기업은행  \n",
       "51297      경기도  계약확정              0           없음     여자          8.0   새마을금고  \n",
       "51298    서울특별시  계약확정              0           없음     여자          1.0    롯데카드  \n",
       "51299    서울특별시  계약확정              0           없음     여자          2.0    롯데카드  \n",
       "51300    서울특별시  계약확정              0           없음     여자          8.0    신한은행  \n",
       "\n",
       "[51301 rows x 20 columns]"
      ]
     },
     "execution_count": 97,
     "metadata": {},
     "output_type": "execute_result"
    }
   ],
   "source": [
    "# 데이터 불러오기\n",
    "df1 = pd.read_csv('01_Data.csv')\n",
    "df1"
   ]
  },
  {
   "cell_type": "markdown",
   "id": "5dc28d81",
   "metadata": {},
   "source": [
    "**데이터의 구조와 타입**\n",
    "\n",
    "- 정형 데이터(Index-Column-Value)의 구조와 타입\n",
    "    - Index : 데이터의 순서\n",
    "        - 데이터의 개수를 확인\n",
    "        - 데이터의 개수에 따라 분석의 방법이 달라질 수 있음 (가설검정)\n",
    "    - Column : 데이터의 항목\n",
    "        - 각 항목 별 데이터의 타입 확인\n",
    "        - 데이터의 타입에 따라 분석의 방법이 달라짐!\n",
    "            - 연속형 : 숫자데이터 (int/float)\n",
    "            - 범주형 : 문자데이터 (object)\n",
    "            - 순서형 : 시간 데이터 -> Work Week (datetime)\n",
    "    - Value : 데이터의 값\n",
    "        - 데이터의 형식 (Format) 확인\n",
    "        - 원시자료설명서 / DB설계서 / 변수정의서 확인\n",
    "        - 결측값(Missing Value) : 데이터 수집이나 처리 과정에서 누락이나 오류로 인해 \n",
    "                                발생한 비어있는 값 (None / NaN / NA / Null / inf ...)"
   ]
  },
  {
   "cell_type": "code",
   "execution_count": 98,
   "id": "5af3bc16",
   "metadata": {},
   "outputs": [
    {
     "data": {
      "text/plain": [
       "Index(['Index', 'Member_ID', 'Sales_Type', 'Contract_Type', 'Channel',\n",
       "       'Datetime', 'Term', 'Payment_Type', 'Product_Type', 'Amount_Month',\n",
       "       'Customer_Type', 'Age', 'Address1', 'Address2', 'State',\n",
       "       'Overdue_count', 'Overdue_Type', 'Gender', 'Credit_Rank', 'Bank'],\n",
       "      dtype='object')"
      ]
     },
     "execution_count": 98,
     "metadata": {},
     "output_type": "execute_result"
    }
   ],
   "source": [
    "# 항목 확인\n",
    "df1.columns"
   ]
  },
  {
   "cell_type": "code",
   "execution_count": 99,
   "id": "61dd98f3",
   "metadata": {},
   "outputs": [
    {
     "data": {
      "text/plain": [
       "RangeIndex(start=0, stop=51301, step=1)"
      ]
     },
     "execution_count": 99,
     "metadata": {},
     "output_type": "execute_result"
    }
   ],
   "source": [
    "# 인덱스 확인\n",
    "df1.index"
   ]
  },
  {
   "cell_type": "code",
   "execution_count": 100,
   "id": "bc9da9f9",
   "metadata": {},
   "outputs": [
    {
     "data": {
      "text/plain": [
       "(51301, 20)"
      ]
     },
     "execution_count": 100,
     "metadata": {},
     "output_type": "execute_result"
    }
   ],
   "source": [
    "# 행과 열 확인\n",
    "df1.shape"
   ]
  },
  {
   "cell_type": "code",
   "execution_count": 102,
   "id": "32508cff",
   "metadata": {},
   "outputs": [
    {
     "name": "stdout",
     "output_type": "stream",
     "text": [
      "<class 'pandas.core.frame.DataFrame'>\n",
      "RangeIndex: 51301 entries, 0 to 51300\n",
      "Data columns (total 20 columns):\n",
      " #   Column         Non-Null Count  Dtype  \n",
      "---  ------         --------------  -----  \n",
      " 0   Index          51301 non-null  int64  \n",
      " 1   Member_ID      51301 non-null  int64  \n",
      " 2   Sales_Type     51301 non-null  object \n",
      " 3   Contract_Type  51301 non-null  object \n",
      " 4   Channel        51301 non-null  object \n",
      " 5   Datetime       51301 non-null  object \n",
      " 6   Term           51301 non-null  int64  \n",
      " 7   Payment_Type   51301 non-null  object \n",
      " 8   Product_Type   51301 non-null  object \n",
      " 9   Amount_Month   51301 non-null  int64  \n",
      " 10  Customer_Type  51299 non-null  object \n",
      " 11  Age            44329 non-null  float64\n",
      " 12  Address1       51299 non-null  object \n",
      " 13  Address2       51299 non-null  object \n",
      " 14  State          51301 non-null  object \n",
      " 15  Overdue_count  51301 non-null  int64  \n",
      " 16  Overdue_Type   51301 non-null  object \n",
      " 17  Gender         51301 non-null  object \n",
      " 18  Credit_Rank    42520 non-null  float64\n",
      " 19  Bank           48542 non-null  object \n",
      "dtypes: float64(2), int64(5), object(13)\n",
      "memory usage: 7.8+ MB\n"
     ]
    }
   ],
   "source": [
    "df1.info() #데이터의 구조와 타입을 한꺼번에 확인"
   ]
  },
  {
   "cell_type": "markdown",
   "id": "951371bb",
   "metadata": {},
   "source": [
    "# 데이터 전처리\n",
    "\n",
    "- 기본적인 데이터 핸들링 기법\n",
    "    - 데이터 추출(행단위/열단위)\n",
    "    - 데이터 정렬(오름차순/내림차순)\n",
    "    - 데이터 요약\n",
    "    - 데이터 필터\n",
    "    - 데이터 병합\n",
    "    - 데이터 재구조화\n",
    "    - 시간 데이터 처리\n",
    "    - 파생변수 생성 ..."
   ]
  },
  {
   "cell_type": "markdown",
   "id": "163de3cd",
   "metadata": {},
   "source": [
    "**데이터 추출 및 저장**"
   ]
  },
  {
   "cell_type": "code",
   "execution_count": 105,
   "id": "2e60a23d",
   "metadata": {},
   "outputs": [
    {
     "data": {
      "text/html": [
       "<div>\n",
       "<style scoped>\n",
       "    .dataframe tbody tr th:only-of-type {\n",
       "        vertical-align: middle;\n",
       "    }\n",
       "\n",
       "    .dataframe tbody tr th {\n",
       "        vertical-align: top;\n",
       "    }\n",
       "\n",
       "    .dataframe thead th {\n",
       "        text-align: right;\n",
       "    }\n",
       "</style>\n",
       "<table border=\"1\" class=\"dataframe\">\n",
       "  <thead>\n",
       "    <tr style=\"text-align: right;\">\n",
       "      <th></th>\n",
       "      <th>Index</th>\n",
       "      <th>Member_ID</th>\n",
       "      <th>Sales_Type</th>\n",
       "      <th>Contract_Type</th>\n",
       "      <th>Channel</th>\n",
       "      <th>Datetime</th>\n",
       "      <th>Term</th>\n",
       "      <th>Payment_Type</th>\n",
       "      <th>Product_Type</th>\n",
       "      <th>Amount_Month</th>\n",
       "      <th>Customer_Type</th>\n",
       "      <th>Age</th>\n",
       "      <th>Address1</th>\n",
       "      <th>Address2</th>\n",
       "      <th>State</th>\n",
       "      <th>Overdue_count</th>\n",
       "      <th>Overdue_Type</th>\n",
       "      <th>Gender</th>\n",
       "      <th>Credit_Rank</th>\n",
       "      <th>Bank</th>\n",
       "    </tr>\n",
       "  </thead>\n",
       "  <tbody>\n",
       "    <tr>\n",
       "      <th>0</th>\n",
       "      <td>1</td>\n",
       "      <td>66758234</td>\n",
       "      <td>렌탈</td>\n",
       "      <td>일반계약</td>\n",
       "      <td>영업방판</td>\n",
       "      <td>2022-05-05</td>\n",
       "      <td>60</td>\n",
       "      <td>CMS</td>\n",
       "      <td>DES-1</td>\n",
       "      <td>96900</td>\n",
       "      <td>개인</td>\n",
       "      <td>42.0</td>\n",
       "      <td>경기도</td>\n",
       "      <td>경기도</td>\n",
       "      <td>계약확정</td>\n",
       "      <td>0</td>\n",
       "      <td>없음</td>\n",
       "      <td>여자</td>\n",
       "      <td>9.0</td>\n",
       "      <td>새마을금고</td>\n",
       "    </tr>\n",
       "    <tr>\n",
       "      <th>1</th>\n",
       "      <td>2</td>\n",
       "      <td>66755948</td>\n",
       "      <td>렌탈</td>\n",
       "      <td>교체계약</td>\n",
       "      <td>영업방판</td>\n",
       "      <td>2023-02-19</td>\n",
       "      <td>60</td>\n",
       "      <td>카드이체</td>\n",
       "      <td>DES-1</td>\n",
       "      <td>102900</td>\n",
       "      <td>개인</td>\n",
       "      <td>39.0</td>\n",
       "      <td>경기도</td>\n",
       "      <td>경기도</td>\n",
       "      <td>계약확정</td>\n",
       "      <td>0</td>\n",
       "      <td>없음</td>\n",
       "      <td>남자</td>\n",
       "      <td>2.0</td>\n",
       "      <td>현대카드</td>\n",
       "    </tr>\n",
       "    <tr>\n",
       "      <th>2</th>\n",
       "      <td>3</td>\n",
       "      <td>66756657</td>\n",
       "      <td>렌탈</td>\n",
       "      <td>일반계약</td>\n",
       "      <td>홈쇼핑/방송</td>\n",
       "      <td>2022-02-27</td>\n",
       "      <td>60</td>\n",
       "      <td>CMS</td>\n",
       "      <td>DES-1</td>\n",
       "      <td>96900</td>\n",
       "      <td>개인</td>\n",
       "      <td>48.0</td>\n",
       "      <td>경기도</td>\n",
       "      <td>경기도</td>\n",
       "      <td>계약확정</td>\n",
       "      <td>0</td>\n",
       "      <td>없음</td>\n",
       "      <td>여자</td>\n",
       "      <td>8.0</td>\n",
       "      <td>우리은행</td>\n",
       "    </tr>\n",
       "  </tbody>\n",
       "</table>\n",
       "</div>"
      ],
      "text/plain": [
       "   Index  Member_ID Sales_Type Contract_Type Channel    Datetime  Term  \\\n",
       "0      1   66758234         렌탈          일반계약    영업방판  2022-05-05    60   \n",
       "1      2   66755948         렌탈          교체계약    영업방판  2023-02-19    60   \n",
       "2      3   66756657         렌탈          일반계약  홈쇼핑/방송  2022-02-27    60   \n",
       "\n",
       "  Payment_Type Product_Type  Amount_Month Customer_Type   Age Address1  \\\n",
       "0          CMS        DES-1         96900            개인  42.0      경기도   \n",
       "1         카드이체        DES-1        102900            개인  39.0      경기도   \n",
       "2          CMS        DES-1         96900            개인  48.0      경기도   \n",
       "\n",
       "  Address2 State  Overdue_count Overdue_Type Gender  Credit_Rank   Bank  \n",
       "0      경기도  계약확정              0           없음     여자          9.0  새마을금고  \n",
       "1      경기도  계약확정              0           없음     남자          2.0   현대카드  \n",
       "2      경기도  계약확정              0           없음     여자          8.0   우리은행  "
      ]
     },
     "execution_count": 105,
     "metadata": {},
     "output_type": "execute_result"
    }
   ],
   "source": [
    "# 데이터 추출 (행단위 추출)\n",
    "df1.head(3) # head(n) : 상위 n개의 데이터를 추출 (공백 - 5개 출력)"
   ]
  },
  {
   "cell_type": "code",
   "execution_count": 107,
   "id": "038fa338",
   "metadata": {
    "collapsed": true
   },
   "outputs": [
    {
     "data": {
      "text/html": [
       "<div>\n",
       "<style scoped>\n",
       "    .dataframe tbody tr th:only-of-type {\n",
       "        vertical-align: middle;\n",
       "    }\n",
       "\n",
       "    .dataframe tbody tr th {\n",
       "        vertical-align: top;\n",
       "    }\n",
       "\n",
       "    .dataframe thead th {\n",
       "        text-align: right;\n",
       "    }\n",
       "</style>\n",
       "<table border=\"1\" class=\"dataframe\">\n",
       "  <thead>\n",
       "    <tr style=\"text-align: right;\">\n",
       "      <th></th>\n",
       "      <th>Index</th>\n",
       "      <th>Member_ID</th>\n",
       "      <th>Sales_Type</th>\n",
       "      <th>Contract_Type</th>\n",
       "      <th>Channel</th>\n",
       "      <th>Datetime</th>\n",
       "      <th>Term</th>\n",
       "      <th>Payment_Type</th>\n",
       "      <th>Product_Type</th>\n",
       "      <th>Amount_Month</th>\n",
       "      <th>Customer_Type</th>\n",
       "      <th>Age</th>\n",
       "      <th>Address1</th>\n",
       "      <th>Address2</th>\n",
       "      <th>State</th>\n",
       "      <th>Overdue_count</th>\n",
       "      <th>Overdue_Type</th>\n",
       "      <th>Gender</th>\n",
       "      <th>Credit_Rank</th>\n",
       "      <th>Bank</th>\n",
       "    </tr>\n",
       "  </thead>\n",
       "  <tbody>\n",
       "    <tr>\n",
       "      <th>51296</th>\n",
       "      <td>51298</td>\n",
       "      <td>66579515</td>\n",
       "      <td>렌탈</td>\n",
       "      <td>프로모션계약</td>\n",
       "      <td>대형마트A</td>\n",
       "      <td>2022-02-28</td>\n",
       "      <td>60</td>\n",
       "      <td>CMS</td>\n",
       "      <td>DES-3A</td>\n",
       "      <td>96900</td>\n",
       "      <td>개인</td>\n",
       "      <td>47.0</td>\n",
       "      <td>경기도</td>\n",
       "      <td>경기도</td>\n",
       "      <td>계약확정</td>\n",
       "      <td>0</td>\n",
       "      <td>없음</td>\n",
       "      <td>남자</td>\n",
       "      <td>NaN</td>\n",
       "      <td>기업은행</td>\n",
       "    </tr>\n",
       "    <tr>\n",
       "      <th>51297</th>\n",
       "      <td>51299</td>\n",
       "      <td>66799558</td>\n",
       "      <td>렌탈</td>\n",
       "      <td>일반계약</td>\n",
       "      <td>대형마트A</td>\n",
       "      <td>2022-03-31</td>\n",
       "      <td>60</td>\n",
       "      <td>CMS</td>\n",
       "      <td>DES-1</td>\n",
       "      <td>96900</td>\n",
       "      <td>개인</td>\n",
       "      <td>42.0</td>\n",
       "      <td>경기도</td>\n",
       "      <td>경기도</td>\n",
       "      <td>계약확정</td>\n",
       "      <td>0</td>\n",
       "      <td>없음</td>\n",
       "      <td>여자</td>\n",
       "      <td>8.0</td>\n",
       "      <td>새마을금고</td>\n",
       "    </tr>\n",
       "    <tr>\n",
       "      <th>51298</th>\n",
       "      <td>51300</td>\n",
       "      <td>66799197</td>\n",
       "      <td>렌탈</td>\n",
       "      <td>프로모션계약</td>\n",
       "      <td>영업방판</td>\n",
       "      <td>2022-03-31</td>\n",
       "      <td>39</td>\n",
       "      <td>카드이체</td>\n",
       "      <td>ERA</td>\n",
       "      <td>120900</td>\n",
       "      <td>개인</td>\n",
       "      <td>65.0</td>\n",
       "      <td>서울특별시</td>\n",
       "      <td>서울특별시</td>\n",
       "      <td>계약확정</td>\n",
       "      <td>0</td>\n",
       "      <td>없음</td>\n",
       "      <td>여자</td>\n",
       "      <td>1.0</td>\n",
       "      <td>롯데카드</td>\n",
       "    </tr>\n",
       "    <tr>\n",
       "      <th>51299</th>\n",
       "      <td>51301</td>\n",
       "      <td>66792778</td>\n",
       "      <td>렌탈</td>\n",
       "      <td>일반계약</td>\n",
       "      <td>홈쇼핑/방송</td>\n",
       "      <td>2023-02-05</td>\n",
       "      <td>60</td>\n",
       "      <td>카드이체</td>\n",
       "      <td>DES-1</td>\n",
       "      <td>96900</td>\n",
       "      <td>개인</td>\n",
       "      <td>54.0</td>\n",
       "      <td>서울특별시</td>\n",
       "      <td>서울특별시</td>\n",
       "      <td>계약확정</td>\n",
       "      <td>0</td>\n",
       "      <td>없음</td>\n",
       "      <td>여자</td>\n",
       "      <td>2.0</td>\n",
       "      <td>롯데카드</td>\n",
       "    </tr>\n",
       "    <tr>\n",
       "      <th>51300</th>\n",
       "      <td>51302</td>\n",
       "      <td>66799607</td>\n",
       "      <td>렌탈</td>\n",
       "      <td>일반계약</td>\n",
       "      <td>홈쇼핑/방송</td>\n",
       "      <td>2022-04-23</td>\n",
       "      <td>60</td>\n",
       "      <td>CMS</td>\n",
       "      <td>DES-1</td>\n",
       "      <td>96900</td>\n",
       "      <td>개인</td>\n",
       "      <td>53.0</td>\n",
       "      <td>서울특별시</td>\n",
       "      <td>서울특별시</td>\n",
       "      <td>계약확정</td>\n",
       "      <td>0</td>\n",
       "      <td>없음</td>\n",
       "      <td>여자</td>\n",
       "      <td>8.0</td>\n",
       "      <td>신한은행</td>\n",
       "    </tr>\n",
       "  </tbody>\n",
       "</table>\n",
       "</div>"
      ],
      "text/plain": [
       "       Index  Member_ID Sales_Type Contract_Type Channel    Datetime  Term  \\\n",
       "51296  51298   66579515         렌탈        프로모션계약   대형마트A  2022-02-28    60   \n",
       "51297  51299   66799558         렌탈          일반계약   대형마트A  2022-03-31    60   \n",
       "51298  51300   66799197         렌탈        프로모션계약    영업방판  2022-03-31    39   \n",
       "51299  51301   66792778         렌탈          일반계약  홈쇼핑/방송  2023-02-05    60   \n",
       "51300  51302   66799607         렌탈          일반계약  홈쇼핑/방송  2022-04-23    60   \n",
       "\n",
       "      Payment_Type Product_Type  Amount_Month Customer_Type   Age Address1  \\\n",
       "51296          CMS       DES-3A         96900            개인  47.0      경기도   \n",
       "51297          CMS        DES-1         96900            개인  42.0      경기도   \n",
       "51298         카드이체          ERA        120900            개인  65.0    서울특별시   \n",
       "51299         카드이체        DES-1         96900            개인  54.0    서울특별시   \n",
       "51300          CMS        DES-1         96900            개인  53.0    서울특별시   \n",
       "\n",
       "      Address2 State  Overdue_count Overdue_Type Gender  Credit_Rank   Bank  \n",
       "51296      경기도  계약확정              0           없음     남자          NaN   기업은행  \n",
       "51297      경기도  계약확정              0           없음     여자          8.0  새마을금고  \n",
       "51298    서울특별시  계약확정              0           없음     여자          1.0   롯데카드  \n",
       "51299    서울특별시  계약확정              0           없음     여자          2.0   롯데카드  \n",
       "51300    서울특별시  계약확정              0           없음     여자          8.0   신한은행  "
      ]
     },
     "execution_count": 107,
     "metadata": {},
     "output_type": "execute_result"
    }
   ],
   "source": [
    "df1.tail() # 하위 n개의 데이터를 추출"
   ]
  },
  {
   "cell_type": "code",
   "execution_count": 108,
   "id": "1c30a3c0",
   "metadata": {
    "collapsed": true
   },
   "outputs": [
    {
     "data": {
      "text/html": [
       "<div>\n",
       "<style scoped>\n",
       "    .dataframe tbody tr th:only-of-type {\n",
       "        vertical-align: middle;\n",
       "    }\n",
       "\n",
       "    .dataframe tbody tr th {\n",
       "        vertical-align: top;\n",
       "    }\n",
       "\n",
       "    .dataframe thead th {\n",
       "        text-align: right;\n",
       "    }\n",
       "</style>\n",
       "<table border=\"1\" class=\"dataframe\">\n",
       "  <thead>\n",
       "    <tr style=\"text-align: right;\">\n",
       "      <th></th>\n",
       "      <th>Index</th>\n",
       "      <th>Member_ID</th>\n",
       "      <th>Sales_Type</th>\n",
       "      <th>Contract_Type</th>\n",
       "      <th>Channel</th>\n",
       "      <th>Datetime</th>\n",
       "      <th>Term</th>\n",
       "      <th>Payment_Type</th>\n",
       "      <th>Product_Type</th>\n",
       "      <th>Amount_Month</th>\n",
       "      <th>Customer_Type</th>\n",
       "      <th>Age</th>\n",
       "      <th>Address1</th>\n",
       "      <th>Address2</th>\n",
       "      <th>State</th>\n",
       "      <th>Overdue_count</th>\n",
       "      <th>Overdue_Type</th>\n",
       "      <th>Gender</th>\n",
       "      <th>Credit_Rank</th>\n",
       "      <th>Bank</th>\n",
       "    </tr>\n",
       "  </thead>\n",
       "  <tbody>\n",
       "    <tr>\n",
       "      <th>50</th>\n",
       "      <td>51</td>\n",
       "      <td>66758548</td>\n",
       "      <td>렌탈</td>\n",
       "      <td>일반계약</td>\n",
       "      <td>영업방판</td>\n",
       "      <td>2022-03-30</td>\n",
       "      <td>60</td>\n",
       "      <td>CMS</td>\n",
       "      <td>DES-1</td>\n",
       "      <td>96900</td>\n",
       "      <td>개인</td>\n",
       "      <td>57.0</td>\n",
       "      <td>서울특별시</td>\n",
       "      <td>서울특별시</td>\n",
       "      <td>계약확정</td>\n",
       "      <td>0</td>\n",
       "      <td>없음</td>\n",
       "      <td>남자</td>\n",
       "      <td>4.0</td>\n",
       "      <td>국민은행</td>\n",
       "    </tr>\n",
       "    <tr>\n",
       "      <th>51</th>\n",
       "      <td>52</td>\n",
       "      <td>66758162</td>\n",
       "      <td>렌탈</td>\n",
       "      <td>패키지계약</td>\n",
       "      <td>홈쇼핑/방송</td>\n",
       "      <td>2022-10-02</td>\n",
       "      <td>60</td>\n",
       "      <td>카드이체</td>\n",
       "      <td>DES-1</td>\n",
       "      <td>98400</td>\n",
       "      <td>개인</td>\n",
       "      <td>50.0</td>\n",
       "      <td>서울특별시</td>\n",
       "      <td>서울특별시</td>\n",
       "      <td>계약확정</td>\n",
       "      <td>0</td>\n",
       "      <td>없음</td>\n",
       "      <td>남자</td>\n",
       "      <td>5.0</td>\n",
       "      <td>국민카드</td>\n",
       "    </tr>\n",
       "    <tr>\n",
       "      <th>52</th>\n",
       "      <td>53</td>\n",
       "      <td>66758162</td>\n",
       "      <td>렌탈</td>\n",
       "      <td>패키지계약</td>\n",
       "      <td>홈쇼핑/방송</td>\n",
       "      <td>2022-05-03</td>\n",
       "      <td>60</td>\n",
       "      <td>카드이체</td>\n",
       "      <td>DES-2</td>\n",
       "      <td>80400</td>\n",
       "      <td>개인</td>\n",
       "      <td>50.0</td>\n",
       "      <td>서울특별시</td>\n",
       "      <td>서울특별시</td>\n",
       "      <td>계약확정</td>\n",
       "      <td>0</td>\n",
       "      <td>없음</td>\n",
       "      <td>남자</td>\n",
       "      <td>5.0</td>\n",
       "      <td>국민카드</td>\n",
       "    </tr>\n",
       "    <tr>\n",
       "      <th>53</th>\n",
       "      <td>54</td>\n",
       "      <td>66590304</td>\n",
       "      <td>렌탈</td>\n",
       "      <td>프로모션계약</td>\n",
       "      <td>영업방판</td>\n",
       "      <td>2021-12-31</td>\n",
       "      <td>60</td>\n",
       "      <td>CMS</td>\n",
       "      <td>DES-2</td>\n",
       "      <td>90900</td>\n",
       "      <td>개인</td>\n",
       "      <td>43.0</td>\n",
       "      <td>서울특별시</td>\n",
       "      <td>서울특별시</td>\n",
       "      <td>계약확정</td>\n",
       "      <td>0</td>\n",
       "      <td>없음</td>\n",
       "      <td>남자</td>\n",
       "      <td>4.0</td>\n",
       "      <td>신한은행</td>\n",
       "    </tr>\n",
       "    <tr>\n",
       "      <th>54</th>\n",
       "      <td>55</td>\n",
       "      <td>66670488</td>\n",
       "      <td>렌탈</td>\n",
       "      <td>프로모션계약</td>\n",
       "      <td>영업방판</td>\n",
       "      <td>2022-04-02</td>\n",
       "      <td>60</td>\n",
       "      <td>CMS</td>\n",
       "      <td>DES-1</td>\n",
       "      <td>96900</td>\n",
       "      <td>개인</td>\n",
       "      <td>34.0</td>\n",
       "      <td>서울특별시</td>\n",
       "      <td>서울특별시</td>\n",
       "      <td>계약확정</td>\n",
       "      <td>0</td>\n",
       "      <td>없음</td>\n",
       "      <td>여자</td>\n",
       "      <td>4.0</td>\n",
       "      <td>우리은행</td>\n",
       "    </tr>\n",
       "    <tr>\n",
       "      <th>55</th>\n",
       "      <td>56</td>\n",
       "      <td>25856039</td>\n",
       "      <td>렌탈</td>\n",
       "      <td>교체계약</td>\n",
       "      <td>영업방판</td>\n",
       "      <td>2022-04-30</td>\n",
       "      <td>60</td>\n",
       "      <td>CMS</td>\n",
       "      <td>DES-1</td>\n",
       "      <td>96900</td>\n",
       "      <td>사업자</td>\n",
       "      <td>NaN</td>\n",
       "      <td>경상도</td>\n",
       "      <td>부산광역시</td>\n",
       "      <td>계약확정</td>\n",
       "      <td>0</td>\n",
       "      <td>없음</td>\n",
       "      <td>여자</td>\n",
       "      <td>NaN</td>\n",
       "      <td>농협중앙회</td>\n",
       "    </tr>\n",
       "    <tr>\n",
       "      <th>56</th>\n",
       "      <td>57</td>\n",
       "      <td>25869517</td>\n",
       "      <td>렌탈</td>\n",
       "      <td>프로모션계약</td>\n",
       "      <td>영업방판</td>\n",
       "      <td>2022-07-21</td>\n",
       "      <td>60</td>\n",
       "      <td>가상계좌</td>\n",
       "      <td>DES-1</td>\n",
       "      <td>96900</td>\n",
       "      <td>사업자</td>\n",
       "      <td>NaN</td>\n",
       "      <td>경상도</td>\n",
       "      <td>부산광역시</td>\n",
       "      <td>계약확정</td>\n",
       "      <td>0</td>\n",
       "      <td>없음</td>\n",
       "      <td>여자</td>\n",
       "      <td>NaN</td>\n",
       "      <td>NaN</td>\n",
       "    </tr>\n",
       "    <tr>\n",
       "      <th>57</th>\n",
       "      <td>58</td>\n",
       "      <td>66757967</td>\n",
       "      <td>렌탈</td>\n",
       "      <td>프로모션계약</td>\n",
       "      <td>영업방판</td>\n",
       "      <td>2022-08-20</td>\n",
       "      <td>60</td>\n",
       "      <td>카드이체</td>\n",
       "      <td>DES-1</td>\n",
       "      <td>105900</td>\n",
       "      <td>개인</td>\n",
       "      <td>37.0</td>\n",
       "      <td>경상도</td>\n",
       "      <td>경상도</td>\n",
       "      <td>계약확정</td>\n",
       "      <td>0</td>\n",
       "      <td>없음</td>\n",
       "      <td>여자</td>\n",
       "      <td>5.0</td>\n",
       "      <td>롯데카드</td>\n",
       "    </tr>\n",
       "    <tr>\n",
       "      <th>58</th>\n",
       "      <td>59</td>\n",
       "      <td>66260467</td>\n",
       "      <td>렌탈</td>\n",
       "      <td>교체계약</td>\n",
       "      <td>영업방판</td>\n",
       "      <td>2022-02-15</td>\n",
       "      <td>60</td>\n",
       "      <td>CMS</td>\n",
       "      <td>DES-1</td>\n",
       "      <td>96900</td>\n",
       "      <td>개인</td>\n",
       "      <td>42.0</td>\n",
       "      <td>경상도</td>\n",
       "      <td>경상도</td>\n",
       "      <td>계약확정</td>\n",
       "      <td>0</td>\n",
       "      <td>없음</td>\n",
       "      <td>여자</td>\n",
       "      <td>1.0</td>\n",
       "      <td>우리은행</td>\n",
       "    </tr>\n",
       "    <tr>\n",
       "      <th>59</th>\n",
       "      <td>60</td>\n",
       "      <td>66758899</td>\n",
       "      <td>렌탈</td>\n",
       "      <td>패키지계약</td>\n",
       "      <td>전문매장H</td>\n",
       "      <td>2022-07-29</td>\n",
       "      <td>60</td>\n",
       "      <td>CMS</td>\n",
       "      <td>DES-1</td>\n",
       "      <td>81900</td>\n",
       "      <td>개인</td>\n",
       "      <td>67.0</td>\n",
       "      <td>경상도</td>\n",
       "      <td>경상도</td>\n",
       "      <td>계약확정</td>\n",
       "      <td>0</td>\n",
       "      <td>없음</td>\n",
       "      <td>남자</td>\n",
       "      <td>2.0</td>\n",
       "      <td>대구은행</td>\n",
       "    </tr>\n",
       "  </tbody>\n",
       "</table>\n",
       "</div>"
      ],
      "text/plain": [
       "    Index  Member_ID Sales_Type Contract_Type Channel    Datetime  Term  \\\n",
       "50     51   66758548         렌탈          일반계약    영업방판  2022-03-30    60   \n",
       "51     52   66758162         렌탈         패키지계약  홈쇼핑/방송  2022-10-02    60   \n",
       "52     53   66758162         렌탈         패키지계약  홈쇼핑/방송  2022-05-03    60   \n",
       "53     54   66590304         렌탈        프로모션계약    영업방판  2021-12-31    60   \n",
       "54     55   66670488         렌탈        프로모션계약    영업방판  2022-04-02    60   \n",
       "55     56   25856039         렌탈          교체계약    영업방판  2022-04-30    60   \n",
       "56     57   25869517         렌탈        프로모션계약    영업방판  2022-07-21    60   \n",
       "57     58   66757967         렌탈        프로모션계약    영업방판  2022-08-20    60   \n",
       "58     59   66260467         렌탈          교체계약    영업방판  2022-02-15    60   \n",
       "59     60   66758899         렌탈         패키지계약   전문매장H  2022-07-29    60   \n",
       "\n",
       "   Payment_Type Product_Type  Amount_Month Customer_Type   Age Address1  \\\n",
       "50          CMS        DES-1         96900            개인  57.0    서울특별시   \n",
       "51         카드이체        DES-1         98400            개인  50.0    서울특별시   \n",
       "52         카드이체        DES-2         80400            개인  50.0    서울특별시   \n",
       "53          CMS        DES-2         90900            개인  43.0    서울특별시   \n",
       "54          CMS        DES-1         96900            개인  34.0    서울특별시   \n",
       "55          CMS        DES-1         96900           사업자   NaN      경상도   \n",
       "56         가상계좌        DES-1         96900           사업자   NaN      경상도   \n",
       "57         카드이체        DES-1        105900            개인  37.0      경상도   \n",
       "58          CMS        DES-1         96900            개인  42.0      경상도   \n",
       "59          CMS        DES-1         81900            개인  67.0      경상도   \n",
       "\n",
       "   Address2 State  Overdue_count Overdue_Type Gender  Credit_Rank   Bank  \n",
       "50    서울특별시  계약확정              0           없음     남자          4.0   국민은행  \n",
       "51    서울특별시  계약확정              0           없음     남자          5.0   국민카드  \n",
       "52    서울특별시  계약확정              0           없음     남자          5.0   국민카드  \n",
       "53    서울특별시  계약확정              0           없음     남자          4.0   신한은행  \n",
       "54    서울특별시  계약확정              0           없음     여자          4.0   우리은행  \n",
       "55    부산광역시  계약확정              0           없음     여자          NaN  농협중앙회  \n",
       "56    부산광역시  계약확정              0           없음     여자          NaN    NaN  \n",
       "57      경상도  계약확정              0           없음     여자          5.0   롯데카드  \n",
       "58      경상도  계약확정              0           없음     여자          1.0   우리은행  \n",
       "59      경상도  계약확정              0           없음     남자          2.0   대구은행  "
      ]
     },
     "execution_count": 108,
     "metadata": {},
     "output_type": "execute_result"
    }
   ],
   "source": [
    "# 특정 범위 내의 데이터를 확인\n",
    "df1.iloc[50:60]   # iloc(index location) : 특정 범위 내 데이터를 확인"
   ]
  },
  {
   "cell_type": "code",
   "execution_count": 110,
   "id": "d6c160f2",
   "metadata": {},
   "outputs": [
    {
     "data": {
      "text/plain": [
       "0         96900\n",
       "1        102900\n",
       "2         96900\n",
       "3         66900\n",
       "4         66900\n",
       "          ...  \n",
       "51296     96900\n",
       "51297     96900\n",
       "51298    120900\n",
       "51299     96900\n",
       "51300     96900\n",
       "Name: Amount_Month, Length: 51301, dtype: int64"
      ]
     },
     "execution_count": 110,
     "metadata": {},
     "output_type": "execute_result"
    }
   ],
   "source": [
    "# 열 단위 추출\n",
    "df1['Amount_Month'] #하나의 열을 출력"
   ]
  },
  {
   "cell_type": "code",
   "execution_count": 113,
   "id": "d971e874",
   "metadata": {},
   "outputs": [
    {
     "data": {
      "text/html": [
       "<div>\n",
       "<style scoped>\n",
       "    .dataframe tbody tr th:only-of-type {\n",
       "        vertical-align: middle;\n",
       "    }\n",
       "\n",
       "    .dataframe tbody tr th {\n",
       "        vertical-align: top;\n",
       "    }\n",
       "\n",
       "    .dataframe thead th {\n",
       "        text-align: right;\n",
       "    }\n",
       "</style>\n",
       "<table border=\"1\" class=\"dataframe\">\n",
       "  <thead>\n",
       "    <tr style=\"text-align: right;\">\n",
       "      <th></th>\n",
       "      <th>Amount_Month</th>\n",
       "      <th>Channel</th>\n",
       "      <th>Datetime</th>\n",
       "    </tr>\n",
       "  </thead>\n",
       "  <tbody>\n",
       "    <tr>\n",
       "      <th>0</th>\n",
       "      <td>96900</td>\n",
       "      <td>영업방판</td>\n",
       "      <td>2022-05-05</td>\n",
       "    </tr>\n",
       "    <tr>\n",
       "      <th>1</th>\n",
       "      <td>102900</td>\n",
       "      <td>영업방판</td>\n",
       "      <td>2023-02-19</td>\n",
       "    </tr>\n",
       "    <tr>\n",
       "      <th>2</th>\n",
       "      <td>96900</td>\n",
       "      <td>홈쇼핑/방송</td>\n",
       "      <td>2022-02-27</td>\n",
       "    </tr>\n",
       "    <tr>\n",
       "      <th>3</th>\n",
       "      <td>66900</td>\n",
       "      <td>재계약</td>\n",
       "      <td>2022-05-12</td>\n",
       "    </tr>\n",
       "    <tr>\n",
       "      <th>4</th>\n",
       "      <td>66900</td>\n",
       "      <td>재계약</td>\n",
       "      <td>2022-05-09</td>\n",
       "    </tr>\n",
       "    <tr>\n",
       "      <th>...</th>\n",
       "      <td>...</td>\n",
       "      <td>...</td>\n",
       "      <td>...</td>\n",
       "    </tr>\n",
       "    <tr>\n",
       "      <th>51296</th>\n",
       "      <td>96900</td>\n",
       "      <td>대형마트A</td>\n",
       "      <td>2022-02-28</td>\n",
       "    </tr>\n",
       "    <tr>\n",
       "      <th>51297</th>\n",
       "      <td>96900</td>\n",
       "      <td>대형마트A</td>\n",
       "      <td>2022-03-31</td>\n",
       "    </tr>\n",
       "    <tr>\n",
       "      <th>51298</th>\n",
       "      <td>120900</td>\n",
       "      <td>영업방판</td>\n",
       "      <td>2022-03-31</td>\n",
       "    </tr>\n",
       "    <tr>\n",
       "      <th>51299</th>\n",
       "      <td>96900</td>\n",
       "      <td>홈쇼핑/방송</td>\n",
       "      <td>2023-02-05</td>\n",
       "    </tr>\n",
       "    <tr>\n",
       "      <th>51300</th>\n",
       "      <td>96900</td>\n",
       "      <td>홈쇼핑/방송</td>\n",
       "      <td>2022-04-23</td>\n",
       "    </tr>\n",
       "  </tbody>\n",
       "</table>\n",
       "<p>51301 rows × 3 columns</p>\n",
       "</div>"
      ],
      "text/plain": [
       "       Amount_Month Channel    Datetime\n",
       "0             96900    영업방판  2022-05-05\n",
       "1            102900    영업방판  2023-02-19\n",
       "2             96900  홈쇼핑/방송  2022-02-27\n",
       "3             66900     재계약  2022-05-12\n",
       "4             66900     재계약  2022-05-09\n",
       "...             ...     ...         ...\n",
       "51296         96900   대형마트A  2022-02-28\n",
       "51297         96900   대형마트A  2022-03-31\n",
       "51298        120900    영업방판  2022-03-31\n",
       "51299         96900  홈쇼핑/방송  2023-02-05\n",
       "51300         96900  홈쇼핑/방송  2022-04-23\n",
       "\n",
       "[51301 rows x 3 columns]"
      ]
     },
     "execution_count": 113,
     "metadata": {},
     "output_type": "execute_result"
    }
   ],
   "source": [
    "df1[['Amount_Month','Channel','Datetime']] #여러개의 열을 확인"
   ]
  },
  {
   "cell_type": "code",
   "execution_count": 117,
   "id": "5964aa4b",
   "metadata": {},
   "outputs": [],
   "source": [
    "#데이터를 저장 (to_excel / to_csv : 확장자 명을 잘 작성)\n",
    "df1[['Amount_Month','Channel','Datetime']].head(100).to_excel('result.xlsx')"
   ]
  },
  {
   "cell_type": "markdown",
   "id": "7d3ed21d",
   "metadata": {},
   "source": [
    "**데이터 정렬**"
   ]
  },
  {
   "cell_type": "code",
   "execution_count": 120,
   "id": "9900b492",
   "metadata": {
    "collapsed": true
   },
   "outputs": [
    {
     "data": {
      "text/html": [
       "<div>\n",
       "<style scoped>\n",
       "    .dataframe tbody tr th:only-of-type {\n",
       "        vertical-align: middle;\n",
       "    }\n",
       "\n",
       "    .dataframe tbody tr th {\n",
       "        vertical-align: top;\n",
       "    }\n",
       "\n",
       "    .dataframe thead th {\n",
       "        text-align: right;\n",
       "    }\n",
       "</style>\n",
       "<table border=\"1\" class=\"dataframe\">\n",
       "  <thead>\n",
       "    <tr style=\"text-align: right;\">\n",
       "      <th></th>\n",
       "      <th>Index</th>\n",
       "      <th>Member_ID</th>\n",
       "      <th>Sales_Type</th>\n",
       "      <th>Contract_Type</th>\n",
       "      <th>Channel</th>\n",
       "      <th>Datetime</th>\n",
       "      <th>Term</th>\n",
       "      <th>Payment_Type</th>\n",
       "      <th>Product_Type</th>\n",
       "      <th>Amount_Month</th>\n",
       "      <th>Customer_Type</th>\n",
       "      <th>Age</th>\n",
       "      <th>Address1</th>\n",
       "      <th>Address2</th>\n",
       "      <th>State</th>\n",
       "      <th>Overdue_count</th>\n",
       "      <th>Overdue_Type</th>\n",
       "      <th>Gender</th>\n",
       "      <th>Credit_Rank</th>\n",
       "      <th>Bank</th>\n",
       "    </tr>\n",
       "  </thead>\n",
       "  <tbody>\n",
       "    <tr>\n",
       "      <th>35768</th>\n",
       "      <td>35770</td>\n",
       "      <td>66784964</td>\n",
       "      <td>멤버십</td>\n",
       "      <td>멤버십2유형</td>\n",
       "      <td>전문매장H</td>\n",
       "      <td>2022-02-06</td>\n",
       "      <td>36</td>\n",
       "      <td>무통장</td>\n",
       "      <td>DES-1</td>\n",
       "      <td>54603</td>\n",
       "      <td>개인</td>\n",
       "      <td>NaN</td>\n",
       "      <td>경기도</td>\n",
       "      <td>경기도</td>\n",
       "      <td>계약확정</td>\n",
       "      <td>0</td>\n",
       "      <td>없음</td>\n",
       "      <td>여자</td>\n",
       "      <td>NaN</td>\n",
       "      <td>NaN</td>\n",
       "    </tr>\n",
       "    <tr>\n",
       "      <th>43022</th>\n",
       "      <td>43024</td>\n",
       "      <td>66792946</td>\n",
       "      <td>멤버십</td>\n",
       "      <td>멤버십2유형</td>\n",
       "      <td>전문매장H</td>\n",
       "      <td>2023-06-30</td>\n",
       "      <td>36</td>\n",
       "      <td>무통장</td>\n",
       "      <td>DES-1</td>\n",
       "      <td>54603</td>\n",
       "      <td>개인</td>\n",
       "      <td>NaN</td>\n",
       "      <td>전라도</td>\n",
       "      <td>광주광역시</td>\n",
       "      <td>계약확정</td>\n",
       "      <td>0</td>\n",
       "      <td>없음</td>\n",
       "      <td>여자</td>\n",
       "      <td>NaN</td>\n",
       "      <td>NaN</td>\n",
       "    </tr>\n",
       "    <tr>\n",
       "      <th>49993</th>\n",
       "      <td>49995</td>\n",
       "      <td>66796388</td>\n",
       "      <td>멤버십</td>\n",
       "      <td>멤버십2유형</td>\n",
       "      <td>전문매장H</td>\n",
       "      <td>2023-03-25</td>\n",
       "      <td>36</td>\n",
       "      <td>무통장</td>\n",
       "      <td>DES-1</td>\n",
       "      <td>54603</td>\n",
       "      <td>개인</td>\n",
       "      <td>NaN</td>\n",
       "      <td>서울특별시</td>\n",
       "      <td>서울특별시</td>\n",
       "      <td>계약확정</td>\n",
       "      <td>0</td>\n",
       "      <td>없음</td>\n",
       "      <td>여자</td>\n",
       "      <td>NaN</td>\n",
       "      <td>NaN</td>\n",
       "    </tr>\n",
       "    <tr>\n",
       "      <th>33803</th>\n",
       "      <td>33805</td>\n",
       "      <td>66783630</td>\n",
       "      <td>멤버십</td>\n",
       "      <td>멤버십2유형</td>\n",
       "      <td>전문매장H</td>\n",
       "      <td>2023-07-28</td>\n",
       "      <td>36</td>\n",
       "      <td>무통장</td>\n",
       "      <td>DES-1</td>\n",
       "      <td>54603</td>\n",
       "      <td>개인</td>\n",
       "      <td>NaN</td>\n",
       "      <td>경기도</td>\n",
       "      <td>인천광역시</td>\n",
       "      <td>계약확정</td>\n",
       "      <td>0</td>\n",
       "      <td>없음</td>\n",
       "      <td>여자</td>\n",
       "      <td>NaN</td>\n",
       "      <td>NaN</td>\n",
       "    </tr>\n",
       "    <tr>\n",
       "      <th>45246</th>\n",
       "      <td>45248</td>\n",
       "      <td>66793779</td>\n",
       "      <td>멤버십</td>\n",
       "      <td>멤버십2유형</td>\n",
       "      <td>전문매장H</td>\n",
       "      <td>2022-07-15</td>\n",
       "      <td>36</td>\n",
       "      <td>무통장</td>\n",
       "      <td>DES-1</td>\n",
       "      <td>54603</td>\n",
       "      <td>개인</td>\n",
       "      <td>NaN</td>\n",
       "      <td>서울특별시</td>\n",
       "      <td>서울특별시</td>\n",
       "      <td>계약확정</td>\n",
       "      <td>0</td>\n",
       "      <td>없음</td>\n",
       "      <td>여자</td>\n",
       "      <td>NaN</td>\n",
       "      <td>NaN</td>\n",
       "    </tr>\n",
       "    <tr>\n",
       "      <th>...</th>\n",
       "      <td>...</td>\n",
       "      <td>...</td>\n",
       "      <td>...</td>\n",
       "      <td>...</td>\n",
       "      <td>...</td>\n",
       "      <td>...</td>\n",
       "      <td>...</td>\n",
       "      <td>...</td>\n",
       "      <td>...</td>\n",
       "      <td>...</td>\n",
       "      <td>...</td>\n",
       "      <td>...</td>\n",
       "      <td>...</td>\n",
       "      <td>...</td>\n",
       "      <td>...</td>\n",
       "      <td>...</td>\n",
       "      <td>...</td>\n",
       "      <td>...</td>\n",
       "      <td>...</td>\n",
       "      <td>...</td>\n",
       "    </tr>\n",
       "    <tr>\n",
       "      <th>5399</th>\n",
       "      <td>5400</td>\n",
       "      <td>25742182</td>\n",
       "      <td>렌탈</td>\n",
       "      <td>프로모션계약</td>\n",
       "      <td>영업방판</td>\n",
       "      <td>2022-05-17</td>\n",
       "      <td>39</td>\n",
       "      <td>CMS</td>\n",
       "      <td>MMC</td>\n",
       "      <td>215700</td>\n",
       "      <td>사업자</td>\n",
       "      <td>NaN</td>\n",
       "      <td>경기도</td>\n",
       "      <td>경기도</td>\n",
       "      <td>계약확정</td>\n",
       "      <td>1</td>\n",
       "      <td>있음</td>\n",
       "      <td>여자</td>\n",
       "      <td>NaN</td>\n",
       "      <td>신한은행</td>\n",
       "    </tr>\n",
       "    <tr>\n",
       "      <th>49896</th>\n",
       "      <td>49898</td>\n",
       "      <td>25731710</td>\n",
       "      <td>렌탈</td>\n",
       "      <td>프로모션계약</td>\n",
       "      <td>영업방판</td>\n",
       "      <td>2022-09-29</td>\n",
       "      <td>39</td>\n",
       "      <td>가상계좌</td>\n",
       "      <td>MMC</td>\n",
       "      <td>215700</td>\n",
       "      <td>사업자</td>\n",
       "      <td>NaN</td>\n",
       "      <td>경기도</td>\n",
       "      <td>경기도</td>\n",
       "      <td>계약확정</td>\n",
       "      <td>0</td>\n",
       "      <td>없음</td>\n",
       "      <td>여자</td>\n",
       "      <td>NaN</td>\n",
       "      <td>NaN</td>\n",
       "    </tr>\n",
       "    <tr>\n",
       "      <th>49897</th>\n",
       "      <td>49899</td>\n",
       "      <td>25731710</td>\n",
       "      <td>렌탈</td>\n",
       "      <td>프로모션계약</td>\n",
       "      <td>영업방판</td>\n",
       "      <td>2022-12-05</td>\n",
       "      <td>39</td>\n",
       "      <td>가상계좌</td>\n",
       "      <td>MMC</td>\n",
       "      <td>215700</td>\n",
       "      <td>사업자</td>\n",
       "      <td>NaN</td>\n",
       "      <td>경기도</td>\n",
       "      <td>경기도</td>\n",
       "      <td>계약확정</td>\n",
       "      <td>0</td>\n",
       "      <td>없음</td>\n",
       "      <td>여자</td>\n",
       "      <td>NaN</td>\n",
       "      <td>NaN</td>\n",
       "    </tr>\n",
       "    <tr>\n",
       "      <th>28147</th>\n",
       "      <td>28149</td>\n",
       "      <td>25704137</td>\n",
       "      <td>렌탈</td>\n",
       "      <td>프로모션계약</td>\n",
       "      <td>전단홍보</td>\n",
       "      <td>2022-07-24</td>\n",
       "      <td>39</td>\n",
       "      <td>CMS</td>\n",
       "      <td>MMC</td>\n",
       "      <td>215700</td>\n",
       "      <td>사업자</td>\n",
       "      <td>NaN</td>\n",
       "      <td>경상도</td>\n",
       "      <td>경상도</td>\n",
       "      <td>계약확정</td>\n",
       "      <td>0</td>\n",
       "      <td>없음</td>\n",
       "      <td>여자</td>\n",
       "      <td>NaN</td>\n",
       "      <td>국민은행</td>\n",
       "    </tr>\n",
       "    <tr>\n",
       "      <th>38497</th>\n",
       "      <td>38499</td>\n",
       "      <td>25734005</td>\n",
       "      <td>렌탈</td>\n",
       "      <td>프로모션계약</td>\n",
       "      <td>영업방판</td>\n",
       "      <td>2022-06-04</td>\n",
       "      <td>39</td>\n",
       "      <td>CMS</td>\n",
       "      <td>MMC</td>\n",
       "      <td>215700</td>\n",
       "      <td>사업자</td>\n",
       "      <td>58.0</td>\n",
       "      <td>전라도</td>\n",
       "      <td>전라도</td>\n",
       "      <td>계약확정</td>\n",
       "      <td>0</td>\n",
       "      <td>없음</td>\n",
       "      <td>남자</td>\n",
       "      <td>1.0</td>\n",
       "      <td>농협중앙회</td>\n",
       "    </tr>\n",
       "  </tbody>\n",
       "</table>\n",
       "<p>51301 rows × 20 columns</p>\n",
       "</div>"
      ],
      "text/plain": [
       "       Index  Member_ID Sales_Type Contract_Type Channel    Datetime  Term  \\\n",
       "35768  35770   66784964        멤버십        멤버십2유형   전문매장H  2022-02-06    36   \n",
       "43022  43024   66792946        멤버십        멤버십2유형   전문매장H  2023-06-30    36   \n",
       "49993  49995   66796388        멤버십        멤버십2유형   전문매장H  2023-03-25    36   \n",
       "33803  33805   66783630        멤버십        멤버십2유형   전문매장H  2023-07-28    36   \n",
       "45246  45248   66793779        멤버십        멤버십2유형   전문매장H  2022-07-15    36   \n",
       "...      ...        ...        ...           ...     ...         ...   ...   \n",
       "5399    5400   25742182         렌탈        프로모션계약    영업방판  2022-05-17    39   \n",
       "49896  49898   25731710         렌탈        프로모션계약    영업방판  2022-09-29    39   \n",
       "49897  49899   25731710         렌탈        프로모션계약    영업방판  2022-12-05    39   \n",
       "28147  28149   25704137         렌탈        프로모션계약    전단홍보  2022-07-24    39   \n",
       "38497  38499   25734005         렌탈        프로모션계약    영업방판  2022-06-04    39   \n",
       "\n",
       "      Payment_Type Product_Type  Amount_Month Customer_Type   Age Address1  \\\n",
       "35768          무통장        DES-1         54603            개인   NaN      경기도   \n",
       "43022          무통장        DES-1         54603            개인   NaN      전라도   \n",
       "49993          무통장        DES-1         54603            개인   NaN    서울특별시   \n",
       "33803          무통장        DES-1         54603            개인   NaN      경기도   \n",
       "45246          무통장        DES-1         54603            개인   NaN    서울특별시   \n",
       "...            ...          ...           ...           ...   ...      ...   \n",
       "5399           CMS          MMC        215700           사업자   NaN      경기도   \n",
       "49896         가상계좌          MMC        215700           사업자   NaN      경기도   \n",
       "49897         가상계좌          MMC        215700           사업자   NaN      경기도   \n",
       "28147          CMS          MMC        215700           사업자   NaN      경상도   \n",
       "38497          CMS          MMC        215700           사업자  58.0      전라도   \n",
       "\n",
       "      Address2 State  Overdue_count Overdue_Type Gender  Credit_Rank   Bank  \n",
       "35768      경기도  계약확정              0           없음     여자          NaN    NaN  \n",
       "43022    광주광역시  계약확정              0           없음     여자          NaN    NaN  \n",
       "49993    서울특별시  계약확정              0           없음     여자          NaN    NaN  \n",
       "33803    인천광역시  계약확정              0           없음     여자          NaN    NaN  \n",
       "45246    서울특별시  계약확정              0           없음     여자          NaN    NaN  \n",
       "...        ...   ...            ...          ...    ...          ...    ...  \n",
       "5399       경기도  계약확정              1           있음     여자          NaN   신한은행  \n",
       "49896      경기도  계약확정              0           없음     여자          NaN    NaN  \n",
       "49897      경기도  계약확정              0           없음     여자          NaN    NaN  \n",
       "28147      경상도  계약확정              0           없음     여자          NaN   국민은행  \n",
       "38497      전라도  계약확정              0           없음     남자          1.0  농협중앙회  \n",
       "\n",
       "[51301 rows x 20 columns]"
      ]
     },
     "execution_count": 120,
     "metadata": {},
     "output_type": "execute_result"
    }
   ],
   "source": [
    "df1.sort_values(by='Amount_Month') # 오름차순 (숫자가 낮은 수부터 정렬)"
   ]
  },
  {
   "cell_type": "code",
   "execution_count": 121,
   "id": "b3c4b0cb",
   "metadata": {
    "collapsed": true
   },
   "outputs": [
    {
     "data": {
      "text/html": [
       "<div>\n",
       "<style scoped>\n",
       "    .dataframe tbody tr th:only-of-type {\n",
       "        vertical-align: middle;\n",
       "    }\n",
       "\n",
       "    .dataframe tbody tr th {\n",
       "        vertical-align: top;\n",
       "    }\n",
       "\n",
       "    .dataframe thead th {\n",
       "        text-align: right;\n",
       "    }\n",
       "</style>\n",
       "<table border=\"1\" class=\"dataframe\">\n",
       "  <thead>\n",
       "    <tr style=\"text-align: right;\">\n",
       "      <th></th>\n",
       "      <th>Index</th>\n",
       "      <th>Member_ID</th>\n",
       "      <th>Sales_Type</th>\n",
       "      <th>Contract_Type</th>\n",
       "      <th>Channel</th>\n",
       "      <th>Datetime</th>\n",
       "      <th>Term</th>\n",
       "      <th>Payment_Type</th>\n",
       "      <th>Product_Type</th>\n",
       "      <th>Amount_Month</th>\n",
       "      <th>Customer_Type</th>\n",
       "      <th>Age</th>\n",
       "      <th>Address1</th>\n",
       "      <th>Address2</th>\n",
       "      <th>State</th>\n",
       "      <th>Overdue_count</th>\n",
       "      <th>Overdue_Type</th>\n",
       "      <th>Gender</th>\n",
       "      <th>Credit_Rank</th>\n",
       "      <th>Bank</th>\n",
       "    </tr>\n",
       "  </thead>\n",
       "  <tbody>\n",
       "    <tr>\n",
       "      <th>19773</th>\n",
       "      <td>19775</td>\n",
       "      <td>25740247</td>\n",
       "      <td>렌탈</td>\n",
       "      <td>프로모션계약</td>\n",
       "      <td>전단홍보</td>\n",
       "      <td>2022-11-13</td>\n",
       "      <td>39</td>\n",
       "      <td>가상계좌</td>\n",
       "      <td>MMC</td>\n",
       "      <td>215700</td>\n",
       "      <td>사업자</td>\n",
       "      <td>NaN</td>\n",
       "      <td>경상도</td>\n",
       "      <td>경상도</td>\n",
       "      <td>계약확정</td>\n",
       "      <td>0</td>\n",
       "      <td>없음</td>\n",
       "      <td>여자</td>\n",
       "      <td>NaN</td>\n",
       "      <td>NaN</td>\n",
       "    </tr>\n",
       "    <tr>\n",
       "      <th>28147</th>\n",
       "      <td>28149</td>\n",
       "      <td>25704137</td>\n",
       "      <td>렌탈</td>\n",
       "      <td>프로모션계약</td>\n",
       "      <td>전단홍보</td>\n",
       "      <td>2022-07-24</td>\n",
       "      <td>39</td>\n",
       "      <td>CMS</td>\n",
       "      <td>MMC</td>\n",
       "      <td>215700</td>\n",
       "      <td>사업자</td>\n",
       "      <td>NaN</td>\n",
       "      <td>경상도</td>\n",
       "      <td>경상도</td>\n",
       "      <td>계약확정</td>\n",
       "      <td>0</td>\n",
       "      <td>없음</td>\n",
       "      <td>여자</td>\n",
       "      <td>NaN</td>\n",
       "      <td>국민은행</td>\n",
       "    </tr>\n",
       "    <tr>\n",
       "      <th>19413</th>\n",
       "      <td>19415</td>\n",
       "      <td>25710320</td>\n",
       "      <td>렌탈</td>\n",
       "      <td>프로모션계약</td>\n",
       "      <td>영업방판</td>\n",
       "      <td>2023-01-28</td>\n",
       "      <td>39</td>\n",
       "      <td>CMS</td>\n",
       "      <td>MMC</td>\n",
       "      <td>215700</td>\n",
       "      <td>사업자</td>\n",
       "      <td>NaN</td>\n",
       "      <td>경기도</td>\n",
       "      <td>경기도</td>\n",
       "      <td>계약확정</td>\n",
       "      <td>0</td>\n",
       "      <td>없음</td>\n",
       "      <td>여자</td>\n",
       "      <td>NaN</td>\n",
       "      <td>기업은행</td>\n",
       "    </tr>\n",
       "    <tr>\n",
       "      <th>19412</th>\n",
       "      <td>19414</td>\n",
       "      <td>25710321</td>\n",
       "      <td>렌탈</td>\n",
       "      <td>프로모션계약</td>\n",
       "      <td>영업방판</td>\n",
       "      <td>2022-09-14</td>\n",
       "      <td>39</td>\n",
       "      <td>CMS</td>\n",
       "      <td>MMC</td>\n",
       "      <td>215700</td>\n",
       "      <td>사업자</td>\n",
       "      <td>NaN</td>\n",
       "      <td>경기도</td>\n",
       "      <td>경기도</td>\n",
       "      <td>계약확정</td>\n",
       "      <td>0</td>\n",
       "      <td>없음</td>\n",
       "      <td>여자</td>\n",
       "      <td>NaN</td>\n",
       "      <td>기업은행</td>\n",
       "    </tr>\n",
       "    <tr>\n",
       "      <th>37522</th>\n",
       "      <td>37524</td>\n",
       "      <td>25733781</td>\n",
       "      <td>렌탈</td>\n",
       "      <td>프로모션계약</td>\n",
       "      <td>영업방판</td>\n",
       "      <td>2023-07-02</td>\n",
       "      <td>39</td>\n",
       "      <td>CMS</td>\n",
       "      <td>MMC</td>\n",
       "      <td>215700</td>\n",
       "      <td>사업자</td>\n",
       "      <td>NaN</td>\n",
       "      <td>경기도</td>\n",
       "      <td>경기도</td>\n",
       "      <td>계약확정</td>\n",
       "      <td>0</td>\n",
       "      <td>없음</td>\n",
       "      <td>여자</td>\n",
       "      <td>NaN</td>\n",
       "      <td>기업은행</td>\n",
       "    </tr>\n",
       "    <tr>\n",
       "      <th>...</th>\n",
       "      <td>...</td>\n",
       "      <td>...</td>\n",
       "      <td>...</td>\n",
       "      <td>...</td>\n",
       "      <td>...</td>\n",
       "      <td>...</td>\n",
       "      <td>...</td>\n",
       "      <td>...</td>\n",
       "      <td>...</td>\n",
       "      <td>...</td>\n",
       "      <td>...</td>\n",
       "      <td>...</td>\n",
       "      <td>...</td>\n",
       "      <td>...</td>\n",
       "      <td>...</td>\n",
       "      <td>...</td>\n",
       "      <td>...</td>\n",
       "      <td>...</td>\n",
       "      <td>...</td>\n",
       "      <td>...</td>\n",
       "    </tr>\n",
       "    <tr>\n",
       "      <th>45304</th>\n",
       "      <td>45306</td>\n",
       "      <td>66793756</td>\n",
       "      <td>멤버십</td>\n",
       "      <td>멤버십2유형</td>\n",
       "      <td>전문매장H</td>\n",
       "      <td>2022-10-06</td>\n",
       "      <td>36</td>\n",
       "      <td>무통장</td>\n",
       "      <td>DES-1</td>\n",
       "      <td>54603</td>\n",
       "      <td>개인</td>\n",
       "      <td>NaN</td>\n",
       "      <td>충청도</td>\n",
       "      <td>충청도</td>\n",
       "      <td>계약확정</td>\n",
       "      <td>0</td>\n",
       "      <td>없음</td>\n",
       "      <td>여자</td>\n",
       "      <td>NaN</td>\n",
       "      <td>NaN</td>\n",
       "    </tr>\n",
       "    <tr>\n",
       "      <th>50428</th>\n",
       "      <td>50430</td>\n",
       "      <td>66797402</td>\n",
       "      <td>멤버십</td>\n",
       "      <td>멤버십2유형</td>\n",
       "      <td>전문매장H</td>\n",
       "      <td>2022-12-26</td>\n",
       "      <td>36</td>\n",
       "      <td>무통장</td>\n",
       "      <td>DES-1</td>\n",
       "      <td>54603</td>\n",
       "      <td>개인</td>\n",
       "      <td>NaN</td>\n",
       "      <td>경기도</td>\n",
       "      <td>경기도</td>\n",
       "      <td>계약확정</td>\n",
       "      <td>0</td>\n",
       "      <td>없음</td>\n",
       "      <td>여자</td>\n",
       "      <td>NaN</td>\n",
       "      <td>NaN</td>\n",
       "    </tr>\n",
       "    <tr>\n",
       "      <th>45302</th>\n",
       "      <td>45304</td>\n",
       "      <td>66793342</td>\n",
       "      <td>멤버십</td>\n",
       "      <td>멤버십2유형</td>\n",
       "      <td>전문매장H</td>\n",
       "      <td>2022-04-02</td>\n",
       "      <td>36</td>\n",
       "      <td>무통장</td>\n",
       "      <td>DES-1</td>\n",
       "      <td>54603</td>\n",
       "      <td>개인</td>\n",
       "      <td>NaN</td>\n",
       "      <td>강원도</td>\n",
       "      <td>강원도</td>\n",
       "      <td>계약확정</td>\n",
       "      <td>0</td>\n",
       "      <td>없음</td>\n",
       "      <td>여자</td>\n",
       "      <td>NaN</td>\n",
       "      <td>NaN</td>\n",
       "    </tr>\n",
       "    <tr>\n",
       "      <th>41153</th>\n",
       "      <td>41155</td>\n",
       "      <td>66790864</td>\n",
       "      <td>멤버십</td>\n",
       "      <td>멤버십2유형</td>\n",
       "      <td>전문매장H</td>\n",
       "      <td>2022-02-15</td>\n",
       "      <td>36</td>\n",
       "      <td>무통장</td>\n",
       "      <td>DES-1</td>\n",
       "      <td>54603</td>\n",
       "      <td>개인</td>\n",
       "      <td>NaN</td>\n",
       "      <td>경기도</td>\n",
       "      <td>경기도</td>\n",
       "      <td>계약확정</td>\n",
       "      <td>0</td>\n",
       "      <td>없음</td>\n",
       "      <td>여자</td>\n",
       "      <td>NaN</td>\n",
       "      <td>NaN</td>\n",
       "    </tr>\n",
       "    <tr>\n",
       "      <th>39373</th>\n",
       "      <td>39375</td>\n",
       "      <td>66788207</td>\n",
       "      <td>멤버십</td>\n",
       "      <td>멤버십2유형</td>\n",
       "      <td>전문매장H</td>\n",
       "      <td>2023-05-11</td>\n",
       "      <td>36</td>\n",
       "      <td>무통장</td>\n",
       "      <td>DES-1</td>\n",
       "      <td>54603</td>\n",
       "      <td>개인</td>\n",
       "      <td>NaN</td>\n",
       "      <td>제주도</td>\n",
       "      <td>제주도</td>\n",
       "      <td>계약확정</td>\n",
       "      <td>0</td>\n",
       "      <td>없음</td>\n",
       "      <td>여자</td>\n",
       "      <td>NaN</td>\n",
       "      <td>NaN</td>\n",
       "    </tr>\n",
       "  </tbody>\n",
       "</table>\n",
       "<p>51301 rows × 20 columns</p>\n",
       "</div>"
      ],
      "text/plain": [
       "       Index  Member_ID Sales_Type Contract_Type Channel    Datetime  Term  \\\n",
       "19773  19775   25740247         렌탈        프로모션계약    전단홍보  2022-11-13    39   \n",
       "28147  28149   25704137         렌탈        프로모션계약    전단홍보  2022-07-24    39   \n",
       "19413  19415   25710320         렌탈        프로모션계약    영업방판  2023-01-28    39   \n",
       "19412  19414   25710321         렌탈        프로모션계약    영업방판  2022-09-14    39   \n",
       "37522  37524   25733781         렌탈        프로모션계약    영업방판  2023-07-02    39   \n",
       "...      ...        ...        ...           ...     ...         ...   ...   \n",
       "45304  45306   66793756        멤버십        멤버십2유형   전문매장H  2022-10-06    36   \n",
       "50428  50430   66797402        멤버십        멤버십2유형   전문매장H  2022-12-26    36   \n",
       "45302  45304   66793342        멤버십        멤버십2유형   전문매장H  2022-04-02    36   \n",
       "41153  41155   66790864        멤버십        멤버십2유형   전문매장H  2022-02-15    36   \n",
       "39373  39375   66788207        멤버십        멤버십2유형   전문매장H  2023-05-11    36   \n",
       "\n",
       "      Payment_Type Product_Type  Amount_Month Customer_Type  Age Address1  \\\n",
       "19773         가상계좌          MMC        215700           사업자  NaN      경상도   \n",
       "28147          CMS          MMC        215700           사업자  NaN      경상도   \n",
       "19413          CMS          MMC        215700           사업자  NaN      경기도   \n",
       "19412          CMS          MMC        215700           사업자  NaN      경기도   \n",
       "37522          CMS          MMC        215700           사업자  NaN      경기도   \n",
       "...            ...          ...           ...           ...  ...      ...   \n",
       "45304          무통장        DES-1         54603            개인  NaN      충청도   \n",
       "50428          무통장        DES-1         54603            개인  NaN      경기도   \n",
       "45302          무통장        DES-1         54603            개인  NaN      강원도   \n",
       "41153          무통장        DES-1         54603            개인  NaN      경기도   \n",
       "39373          무통장        DES-1         54603            개인  NaN      제주도   \n",
       "\n",
       "      Address2 State  Overdue_count Overdue_Type Gender  Credit_Rank  Bank  \n",
       "19773      경상도  계약확정              0           없음     여자          NaN   NaN  \n",
       "28147      경상도  계약확정              0           없음     여자          NaN  국민은행  \n",
       "19413      경기도  계약확정              0           없음     여자          NaN  기업은행  \n",
       "19412      경기도  계약확정              0           없음     여자          NaN  기업은행  \n",
       "37522      경기도  계약확정              0           없음     여자          NaN  기업은행  \n",
       "...        ...   ...            ...          ...    ...          ...   ...  \n",
       "45304      충청도  계약확정              0           없음     여자          NaN   NaN  \n",
       "50428      경기도  계약확정              0           없음     여자          NaN   NaN  \n",
       "45302      강원도  계약확정              0           없음     여자          NaN   NaN  \n",
       "41153      경기도  계약확정              0           없음     여자          NaN   NaN  \n",
       "39373      제주도  계약확정              0           없음     여자          NaN   NaN  \n",
       "\n",
       "[51301 rows x 20 columns]"
      ]
     },
     "execution_count": 121,
     "metadata": {},
     "output_type": "execute_result"
    }
   ],
   "source": [
    "df1.sort_values(by = 'Amount_Month', ascending = False)"
   ]
  },
  {
   "cell_type": "code",
   "execution_count": 124,
   "id": "42c6a817",
   "metadata": {
    "collapsed": true
   },
   "outputs": [
    {
     "data": {
      "text/html": [
       "<div>\n",
       "<style scoped>\n",
       "    .dataframe tbody tr th:only-of-type {\n",
       "        vertical-align: middle;\n",
       "    }\n",
       "\n",
       "    .dataframe tbody tr th {\n",
       "        vertical-align: top;\n",
       "    }\n",
       "\n",
       "    .dataframe thead th {\n",
       "        text-align: right;\n",
       "    }\n",
       "</style>\n",
       "<table border=\"1\" class=\"dataframe\">\n",
       "  <thead>\n",
       "    <tr style=\"text-align: right;\">\n",
       "      <th></th>\n",
       "      <th>Index</th>\n",
       "      <th>Member_ID</th>\n",
       "      <th>Sales_Type</th>\n",
       "      <th>Contract_Type</th>\n",
       "      <th>Channel</th>\n",
       "      <th>Datetime</th>\n",
       "      <th>Term</th>\n",
       "      <th>Payment_Type</th>\n",
       "      <th>Product_Type</th>\n",
       "      <th>Amount_Month</th>\n",
       "      <th>Customer_Type</th>\n",
       "      <th>Age</th>\n",
       "      <th>Address1</th>\n",
       "      <th>Address2</th>\n",
       "      <th>State</th>\n",
       "      <th>Overdue_count</th>\n",
       "      <th>Overdue_Type</th>\n",
       "      <th>Gender</th>\n",
       "      <th>Credit_Rank</th>\n",
       "      <th>Bank</th>\n",
       "    </tr>\n",
       "  </thead>\n",
       "  <tbody>\n",
       "    <tr>\n",
       "      <th>44838</th>\n",
       "      <td>44840</td>\n",
       "      <td>25732681</td>\n",
       "      <td>렌탈</td>\n",
       "      <td>프로모션계약</td>\n",
       "      <td>영업방판</td>\n",
       "      <td>2023-04-12</td>\n",
       "      <td>39</td>\n",
       "      <td>CMS</td>\n",
       "      <td>MMC</td>\n",
       "      <td>215700</td>\n",
       "      <td>사업자</td>\n",
       "      <td>51.0</td>\n",
       "      <td>경상도</td>\n",
       "      <td>경상도</td>\n",
       "      <td>계약확정</td>\n",
       "      <td>2</td>\n",
       "      <td>있음</td>\n",
       "      <td>여자</td>\n",
       "      <td>NaN</td>\n",
       "      <td>우체국</td>\n",
       "    </tr>\n",
       "    <tr>\n",
       "      <th>44839</th>\n",
       "      <td>44841</td>\n",
       "      <td>25732681</td>\n",
       "      <td>렌탈</td>\n",
       "      <td>프로모션계약</td>\n",
       "      <td>영업방판</td>\n",
       "      <td>2023-04-18</td>\n",
       "      <td>39</td>\n",
       "      <td>CMS</td>\n",
       "      <td>MMC</td>\n",
       "      <td>215700</td>\n",
       "      <td>사업자</td>\n",
       "      <td>51.0</td>\n",
       "      <td>경상도</td>\n",
       "      <td>경상도</td>\n",
       "      <td>계약확정</td>\n",
       "      <td>2</td>\n",
       "      <td>있음</td>\n",
       "      <td>여자</td>\n",
       "      <td>NaN</td>\n",
       "      <td>우체국</td>\n",
       "    </tr>\n",
       "    <tr>\n",
       "      <th>44840</th>\n",
       "      <td>44842</td>\n",
       "      <td>25732681</td>\n",
       "      <td>렌탈</td>\n",
       "      <td>프로모션계약</td>\n",
       "      <td>영업방판</td>\n",
       "      <td>2023-06-01</td>\n",
       "      <td>39</td>\n",
       "      <td>CMS</td>\n",
       "      <td>MMC</td>\n",
       "      <td>215700</td>\n",
       "      <td>사업자</td>\n",
       "      <td>51.0</td>\n",
       "      <td>경상도</td>\n",
       "      <td>경상도</td>\n",
       "      <td>계약확정</td>\n",
       "      <td>2</td>\n",
       "      <td>있음</td>\n",
       "      <td>여자</td>\n",
       "      <td>NaN</td>\n",
       "      <td>우체국</td>\n",
       "    </tr>\n",
       "    <tr>\n",
       "      <th>5399</th>\n",
       "      <td>5400</td>\n",
       "      <td>25742182</td>\n",
       "      <td>렌탈</td>\n",
       "      <td>프로모션계약</td>\n",
       "      <td>영업방판</td>\n",
       "      <td>2022-05-17</td>\n",
       "      <td>39</td>\n",
       "      <td>CMS</td>\n",
       "      <td>MMC</td>\n",
       "      <td>215700</td>\n",
       "      <td>사업자</td>\n",
       "      <td>NaN</td>\n",
       "      <td>경기도</td>\n",
       "      <td>경기도</td>\n",
       "      <td>계약확정</td>\n",
       "      <td>1</td>\n",
       "      <td>있음</td>\n",
       "      <td>여자</td>\n",
       "      <td>NaN</td>\n",
       "      <td>신한은행</td>\n",
       "    </tr>\n",
       "    <tr>\n",
       "      <th>19412</th>\n",
       "      <td>19414</td>\n",
       "      <td>25710321</td>\n",
       "      <td>렌탈</td>\n",
       "      <td>프로모션계약</td>\n",
       "      <td>영업방판</td>\n",
       "      <td>2022-09-14</td>\n",
       "      <td>39</td>\n",
       "      <td>CMS</td>\n",
       "      <td>MMC</td>\n",
       "      <td>215700</td>\n",
       "      <td>사업자</td>\n",
       "      <td>NaN</td>\n",
       "      <td>경기도</td>\n",
       "      <td>경기도</td>\n",
       "      <td>계약확정</td>\n",
       "      <td>0</td>\n",
       "      <td>없음</td>\n",
       "      <td>여자</td>\n",
       "      <td>NaN</td>\n",
       "      <td>기업은행</td>\n",
       "    </tr>\n",
       "    <tr>\n",
       "      <th>...</th>\n",
       "      <td>...</td>\n",
       "      <td>...</td>\n",
       "      <td>...</td>\n",
       "      <td>...</td>\n",
       "      <td>...</td>\n",
       "      <td>...</td>\n",
       "      <td>...</td>\n",
       "      <td>...</td>\n",
       "      <td>...</td>\n",
       "      <td>...</td>\n",
       "      <td>...</td>\n",
       "      <td>...</td>\n",
       "      <td>...</td>\n",
       "      <td>...</td>\n",
       "      <td>...</td>\n",
       "      <td>...</td>\n",
       "      <td>...</td>\n",
       "      <td>...</td>\n",
       "      <td>...</td>\n",
       "      <td>...</td>\n",
       "    </tr>\n",
       "    <tr>\n",
       "      <th>51210</th>\n",
       "      <td>51212</td>\n",
       "      <td>66799109</td>\n",
       "      <td>멤버십</td>\n",
       "      <td>멤버십2유형</td>\n",
       "      <td>전문매장H</td>\n",
       "      <td>2022-09-03</td>\n",
       "      <td>36</td>\n",
       "      <td>무통장</td>\n",
       "      <td>DES-1</td>\n",
       "      <td>54603</td>\n",
       "      <td>개인</td>\n",
       "      <td>NaN</td>\n",
       "      <td>경상도</td>\n",
       "      <td>부산광역시</td>\n",
       "      <td>계약확정</td>\n",
       "      <td>0</td>\n",
       "      <td>없음</td>\n",
       "      <td>여자</td>\n",
       "      <td>NaN</td>\n",
       "      <td>NaN</td>\n",
       "    </tr>\n",
       "    <tr>\n",
       "      <th>51277</th>\n",
       "      <td>51279</td>\n",
       "      <td>66799700</td>\n",
       "      <td>멤버십</td>\n",
       "      <td>멤버십2유형</td>\n",
       "      <td>전문매장H</td>\n",
       "      <td>2022-02-23</td>\n",
       "      <td>36</td>\n",
       "      <td>무통장</td>\n",
       "      <td>DES-1</td>\n",
       "      <td>54603</td>\n",
       "      <td>개인</td>\n",
       "      <td>NaN</td>\n",
       "      <td>경기도</td>\n",
       "      <td>인천광역시</td>\n",
       "      <td>계약확정</td>\n",
       "      <td>0</td>\n",
       "      <td>없음</td>\n",
       "      <td>여자</td>\n",
       "      <td>NaN</td>\n",
       "      <td>NaN</td>\n",
       "    </tr>\n",
       "    <tr>\n",
       "      <th>51280</th>\n",
       "      <td>51282</td>\n",
       "      <td>66799156</td>\n",
       "      <td>멤버십</td>\n",
       "      <td>멤버십2유형</td>\n",
       "      <td>전문매장H</td>\n",
       "      <td>2022-03-09</td>\n",
       "      <td>36</td>\n",
       "      <td>무통장</td>\n",
       "      <td>DES-1</td>\n",
       "      <td>54603</td>\n",
       "      <td>개인</td>\n",
       "      <td>NaN</td>\n",
       "      <td>전라도</td>\n",
       "      <td>광주광역시</td>\n",
       "      <td>계약확정</td>\n",
       "      <td>0</td>\n",
       "      <td>없음</td>\n",
       "      <td>여자</td>\n",
       "      <td>NaN</td>\n",
       "      <td>NaN</td>\n",
       "    </tr>\n",
       "    <tr>\n",
       "      <th>51284</th>\n",
       "      <td>51286</td>\n",
       "      <td>66799094</td>\n",
       "      <td>멤버십</td>\n",
       "      <td>멤버십2유형</td>\n",
       "      <td>전문매장H</td>\n",
       "      <td>2022-02-23</td>\n",
       "      <td>36</td>\n",
       "      <td>무통장</td>\n",
       "      <td>DES-1</td>\n",
       "      <td>54603</td>\n",
       "      <td>개인</td>\n",
       "      <td>NaN</td>\n",
       "      <td>서울특별시</td>\n",
       "      <td>서울특별시</td>\n",
       "      <td>계약확정</td>\n",
       "      <td>0</td>\n",
       "      <td>없음</td>\n",
       "      <td>여자</td>\n",
       "      <td>NaN</td>\n",
       "      <td>NaN</td>\n",
       "    </tr>\n",
       "    <tr>\n",
       "      <th>51290</th>\n",
       "      <td>51292</td>\n",
       "      <td>66798812</td>\n",
       "      <td>멤버십</td>\n",
       "      <td>멤버십2유형</td>\n",
       "      <td>전문매장H</td>\n",
       "      <td>2023-01-27</td>\n",
       "      <td>36</td>\n",
       "      <td>무통장</td>\n",
       "      <td>DES-1</td>\n",
       "      <td>54603</td>\n",
       "      <td>개인</td>\n",
       "      <td>NaN</td>\n",
       "      <td>경기도</td>\n",
       "      <td>경기도</td>\n",
       "      <td>계약확정</td>\n",
       "      <td>0</td>\n",
       "      <td>없음</td>\n",
       "      <td>여자</td>\n",
       "      <td>NaN</td>\n",
       "      <td>NaN</td>\n",
       "    </tr>\n",
       "  </tbody>\n",
       "</table>\n",
       "<p>51301 rows × 20 columns</p>\n",
       "</div>"
      ],
      "text/plain": [
       "       Index  Member_ID Sales_Type Contract_Type Channel    Datetime  Term  \\\n",
       "44838  44840   25732681         렌탈        프로모션계약    영업방판  2023-04-12    39   \n",
       "44839  44841   25732681         렌탈        프로모션계약    영업방판  2023-04-18    39   \n",
       "44840  44842   25732681         렌탈        프로모션계약    영업방판  2023-06-01    39   \n",
       "5399    5400   25742182         렌탈        프로모션계약    영업방판  2022-05-17    39   \n",
       "19412  19414   25710321         렌탈        프로모션계약    영업방판  2022-09-14    39   \n",
       "...      ...        ...        ...           ...     ...         ...   ...   \n",
       "51210  51212   66799109        멤버십        멤버십2유형   전문매장H  2022-09-03    36   \n",
       "51277  51279   66799700        멤버십        멤버십2유형   전문매장H  2022-02-23    36   \n",
       "51280  51282   66799156        멤버십        멤버십2유형   전문매장H  2022-03-09    36   \n",
       "51284  51286   66799094        멤버십        멤버십2유형   전문매장H  2022-02-23    36   \n",
       "51290  51292   66798812        멤버십        멤버십2유형   전문매장H  2023-01-27    36   \n",
       "\n",
       "      Payment_Type Product_Type  Amount_Month Customer_Type   Age Address1  \\\n",
       "44838          CMS          MMC        215700           사업자  51.0      경상도   \n",
       "44839          CMS          MMC        215700           사업자  51.0      경상도   \n",
       "44840          CMS          MMC        215700           사업자  51.0      경상도   \n",
       "5399           CMS          MMC        215700           사업자   NaN      경기도   \n",
       "19412          CMS          MMC        215700           사업자   NaN      경기도   \n",
       "...            ...          ...           ...           ...   ...      ...   \n",
       "51210          무통장        DES-1         54603            개인   NaN      경상도   \n",
       "51277          무통장        DES-1         54603            개인   NaN      경기도   \n",
       "51280          무통장        DES-1         54603            개인   NaN      전라도   \n",
       "51284          무통장        DES-1         54603            개인   NaN    서울특별시   \n",
       "51290          무통장        DES-1         54603            개인   NaN      경기도   \n",
       "\n",
       "      Address2 State  Overdue_count Overdue_Type Gender  Credit_Rank  Bank  \n",
       "44838      경상도  계약확정              2           있음     여자          NaN   우체국  \n",
       "44839      경상도  계약확정              2           있음     여자          NaN   우체국  \n",
       "44840      경상도  계약확정              2           있음     여자          NaN   우체국  \n",
       "5399       경기도  계약확정              1           있음     여자          NaN  신한은행  \n",
       "19412      경기도  계약확정              0           없음     여자          NaN  기업은행  \n",
       "...        ...   ...            ...          ...    ...          ...   ...  \n",
       "51210    부산광역시  계약확정              0           없음     여자          NaN   NaN  \n",
       "51277    인천광역시  계약확정              0           없음     여자          NaN   NaN  \n",
       "51280    광주광역시  계약확정              0           없음     여자          NaN   NaN  \n",
       "51284    서울특별시  계약확정              0           없음     여자          NaN   NaN  \n",
       "51290      경기도  계약확정              0           없음     여자          NaN   NaN  \n",
       "\n",
       "[51301 rows x 20 columns]"
      ]
     },
     "execution_count": 124,
     "metadata": {},
     "output_type": "execute_result"
    }
   ],
   "source": [
    "# 여러 가지 항목에 대해 정렬하고자 할 때\n",
    "df1.sort_values(by = ['Amount_Month','Overdue_count'], ascending=False)"
   ]
  },
  {
   "cell_type": "code",
   "execution_count": 128,
   "id": "59ba977e",
   "metadata": {},
   "outputs": [],
   "source": [
    "# 월 랜탈 비용은 높지만, 연체건수는 낮은 데이터를 추출\n",
    "df1.sort_values(by = ['Amount_Month','Overdue_count'], ascending=[False, True]).head(100).to_excel('result2.xlsx')\n",
    "#월 랜탈비용이 높고 연체건수는 낮은 상위 100개의 계약 명단을 엑셀로 저장"
   ]
  },
  {
   "cell_type": "markdown",
   "id": "dbaed4f1",
   "metadata": {},
   "source": [
    "# 개별미션 (2주차 1일)\n",
    "\n",
    "- 아래의 미션을 Jupyter Notebook으로 풀이 후 [File] - [Download as] - [HTML] 저장 제출\n",
    "- 제출 양식 : [하나은행_데이터] 홍길동_개별 미션 (2주차 1일)\n",
    "- 처음 풀이 시, 30분 정도 구글링 및 Chat GPT없이 풀이"
   ]
  },
  {
   "cell_type": "markdown",
   "id": "d343c0bb",
   "metadata": {},
   "source": [
    "1. 5의 배수로 구성된 9개의 데이터를 생성하여, Numpy Matrix 3x3 행렬로 만든 뒤, 첫번째 행(row)의 합과 평균을 계산하는 함수 생성\n",
    "    - Matrix 는 아래와 같이 생성\n",
    "|    |    |    |\n",
    "|----|----|----|\n",
    "| 5  | 10 | 15 |\n",
    "| 20 | 25 | 30 |\n",
    "| 35 | 40 | 45 |"
   ]
  },
  {
   "cell_type": "code",
   "execution_count": 145,
   "id": "5189f8d8",
   "metadata": {},
   "outputs": [
    {
     "data": {
      "text/plain": [
       "array([[ 5, 10, 15],\n",
       "       [20, 25, 30],\n",
       "       [35, 40, 45]])"
      ]
     },
     "execution_count": 145,
     "metadata": {},
     "output_type": "execute_result"
    }
   ],
   "source": [
    "data1 = np.array([5,10,15,20,25,30,35,40,45])\n",
    "data1_1 = data1.reshape(3,3)\n",
    "data1_1"
   ]
  },
  {
   "cell_type": "code",
   "execution_count": 148,
   "id": "4f77a08e",
   "metadata": {},
   "outputs": [
    {
     "data": {
      "text/plain": [
       "10.0"
      ]
     },
     "execution_count": 148,
     "metadata": {},
     "output_type": "execute_result"
    }
   ],
   "source": [
    "data1_1.sum(axis=1)[0]\n",
    "data1_1.mean(axis=1)[0]"
   ]
  },
  {
   "cell_type": "markdown",
   "id": "68386895",
   "metadata": {},
   "source": [
    "---------------------------------"
   ]
  },
  {
   "cell_type": "markdown",
   "id": "c5d1b4a0",
   "metadata": {},
   "source": [
    "2. 두개의 값을 입력받아 두 값 사이의 10개의 데이터를 일정 간격으로 생성해, Vector 형태로 출력하는 함수를 생성"
   ]
  },
  {
   "cell_type": "code",
   "execution_count": 179,
   "id": "10e92f90",
   "metadata": {},
   "outputs": [
    {
     "name": "stdout",
     "output_type": "stream",
     "text": [
      "띄어쓰기로 구분하여 두 개의 값을 입력하세요.30 40\n"
     ]
    },
    {
     "data": {
      "text/plain": [
       "array([30.        , 31.11111111, 32.22222222, 33.33333333, 34.44444444,\n",
       "       35.55555556, 36.66666667, 37.77777778, 38.88888889, 40.        ])"
      ]
     },
     "execution_count": 179,
     "metadata": {},
     "output_type": "execute_result"
    }
   ],
   "source": [
    "data2 = input('띄어쓰기로 구분하여 두 개의 값을 입력하세요.')\n",
    "input_list = data2.split(' ')\n",
    "num1 = float(data2.split(' ')[0])\n",
    "num2 = float(data2.split(' ')[1])\n",
    "\n",
    "# 특정 범위 내 데이터 수 지정해 생성\n",
    "np.linspace(num1, num2, 10)"
   ]
  },
  {
   "cell_type": "markdown",
   "id": "01d905db",
   "metadata": {},
   "source": [
    "---------------------------------"
   ]
  },
  {
   "cell_type": "markdown",
   "id": "9f6ef21f",
   "metadata": {},
   "source": [
    "3. 학생의 이름과 국어점수, 영어점수, 수학점수를 입력받아 Pandas의 DataFrame 형태로 구성하는 함수를 생성"
   ]
  },
  {
   "cell_type": "code",
   "execution_count": 143,
   "id": "39e606f6",
   "metadata": {},
   "outputs": [
    {
     "name": "stdout",
     "output_type": "stream",
     "text": [
      "띄어쓰기로 구분하여 학생의 이름, 국어점수, 영어점수, 수학점수를 입력하세요.홍길동 30 40 50\n"
     ]
    },
    {
     "data": {
      "text/html": [
       "<div>\n",
       "<style scoped>\n",
       "    .dataframe tbody tr th:only-of-type {\n",
       "        vertical-align: middle;\n",
       "    }\n",
       "\n",
       "    .dataframe tbody tr th {\n",
       "        vertical-align: top;\n",
       "    }\n",
       "\n",
       "    .dataframe thead th {\n",
       "        text-align: right;\n",
       "    }\n",
       "</style>\n",
       "<table border=\"1\" class=\"dataframe\">\n",
       "  <thead>\n",
       "    <tr style=\"text-align: right;\">\n",
       "      <th></th>\n",
       "      <th>국어</th>\n",
       "      <th>영어</th>\n",
       "      <th>수학</th>\n",
       "    </tr>\n",
       "  </thead>\n",
       "  <tbody>\n",
       "    <tr>\n",
       "      <th>홍길동</th>\n",
       "      <td>30</td>\n",
       "      <td>40</td>\n",
       "      <td>50</td>\n",
       "    </tr>\n",
       "  </tbody>\n",
       "</table>\n",
       "</div>"
      ],
      "text/plain": [
       "     국어  영어  수학\n",
       "홍길동  30  40  50"
      ]
     },
     "execution_count": 143,
     "metadata": {},
     "output_type": "execute_result"
    }
   ],
   "source": [
    "data3 = input('띄어쓰기로 구분하여 학생의 이름, 국어점수, 영어점수, 수학점수를 입력하세요.')\n",
    "input_list2=data3.split(' ')\n",
    "name = data3.split(' ')[0]\n",
    "score1 = input_list2[1]\n",
    "score2 = input_list2[2]\n",
    "score3 = input_list2[3]\n",
    "\n",
    "df3 = pd.DataFrame(data = [[score1, score2,score3]], columns = ['국어','영어','수학'],\n",
    "                  index = [name])\n",
    "df3"
   ]
  },
  {
   "cell_type": "markdown",
   "id": "c80bf339",
   "metadata": {},
   "source": [
    "---------------------------------"
   ]
  },
  {
   "cell_type": "markdown",
   "id": "d6682986",
   "metadata": {},
   "source": [
    "4. 01_Data.csv 파일을 가져와 df1으로 선언하고, 아래의 미션을 수행\n",
    "해당 데이터에서 고객의 계약 명단 중 우수 고객을 찾고자 한다. df1 데이터에서 월랜탈 비용(Amount_month)가 높고, 연령이 낮은(Age) 상위 50명의 고객 계약 명단을 추출해 result3.xlsx 저장"
   ]
  },
  {
   "cell_type": "code",
   "execution_count": 150,
   "id": "12cca994",
   "metadata": {},
   "outputs": [],
   "source": [
    "df1 = pd.read_csv('01_Data.csv')\n",
    "\n",
    "#월랜탈 비용 높고, 연령 낮은 고객 / 상위 50명\n",
    "df1.sort_values(by = ['Amount_Month','Age'], ascending=[False, True]).head(50).to_excel('result3.xlsx')"
   ]
  },
  {
   "cell_type": "markdown",
   "id": "a839c37d",
   "metadata": {},
   "source": [
    "---------------------------------"
   ]
  },
  {
   "cell_type": "markdown",
   "id": "504fcbea",
   "metadata": {},
   "source": [
    "5. 젊은 고객들을 대상으로 마케팅 대상을 수립하기 위해, 연령이 낮은 100명의 계약 명단을 추출하여, df1_young 변수로 선언하고, 데이터의 구조와 타입을 확인"
   ]
  },
  {
   "cell_type": "code",
   "execution_count": 164,
   "id": "54f66b5a",
   "metadata": {
    "scrolled": false
   },
   "outputs": [
    {
     "data": {
      "text/plain": [
       "pandas.core.frame.DataFrame"
      ]
     },
     "execution_count": 164,
     "metadata": {},
     "output_type": "execute_result"
    }
   ],
   "source": [
    "df1_young = df1.sort_values(by = 'Age',ascending=True).head(100)\n",
    "type(df1_young) #구조 및 타입 확인"
   ]
  },
  {
   "cell_type": "markdown",
   "id": "ef0b26a6",
   "metadata": {},
   "source": [
    "---------------------------------"
   ]
  },
  {
   "cell_type": "markdown",
   "id": "11a5ca5a",
   "metadata": {},
   "source": [
    "6. df1_young 데이터와 df1 데이터의 월랜탈비용(Amount_Month)의 평균을 계산하고, 두 값의 차이를 계산"
   ]
  },
  {
   "cell_type": "code",
   "execution_count": 162,
   "id": "b0d4ca92",
   "metadata": {},
   "outputs": [
    {
     "name": "stdout",
     "output_type": "stream",
     "text": [
      "94191.0\n",
      "93994.97428900021\n"
     ]
    },
    {
     "data": {
      "text/plain": [
       "196.02571099979104"
      ]
     },
     "execution_count": 162,
     "metadata": {},
     "output_type": "execute_result"
    }
   ],
   "source": [
    "mean1 = df1_young['Amount_Month'].mean()\n",
    "mean2 = df1['Amount_Month'].mean()\n",
    "print(mean1)\n",
    "print(mean2)\n",
    "\n",
    "diff = abs(mean1-mean2)\n",
    "diff"
   ]
  },
  {
   "cell_type": "markdown",
   "id": "4c8f094f",
   "metadata": {},
   "source": [
    "---------------------------------"
   ]
  },
  {
   "cell_type": "markdown",
   "id": "7689fe32",
   "metadata": {},
   "source": [
    "7. df1_young에서 월랜탈비용이 높고 연체건수(Overdue_count)가 낮은 순서대로 정렬해, result_young.xlsx로 저장하시오."
   ]
  },
  {
   "cell_type": "code",
   "execution_count": 166,
   "id": "8c2153a6",
   "metadata": {},
   "outputs": [],
   "source": [
    "df1_young.sort_values(by=['Amount_Month','Overdue_count'], ascending = [False, True]).to_excel('result_young.xlsx')"
   ]
  },
  {
   "cell_type": "markdown",
   "id": "b823d649",
   "metadata": {},
   "source": [
    "---------------------------------"
   ]
  },
  {
   "cell_type": "markdown",
   "id": "6c828dbe",
   "metadata": {},
   "source": [
    "    8. 본사에서 매출관리를 위해 연체가 높은 고객들을 확인하여 관리하고자 한다. 연체건수가 높은 순서대로 정렬하고, 상위 100명의 고객의 연령(Age)의 최대값과 최소값을 확인하고 신용등급(Credit_Rank)의 평균을 계산"
   ]
  },
  {
   "cell_type": "code",
   "execution_count": 168,
   "id": "1c06e2d1",
   "metadata": {
    "scrolled": true
   },
   "outputs": [
    {
     "data": {
      "text/html": [
       "<div>\n",
       "<style scoped>\n",
       "    .dataframe tbody tr th:only-of-type {\n",
       "        vertical-align: middle;\n",
       "    }\n",
       "\n",
       "    .dataframe tbody tr th {\n",
       "        vertical-align: top;\n",
       "    }\n",
       "\n",
       "    .dataframe thead th {\n",
       "        text-align: right;\n",
       "    }\n",
       "</style>\n",
       "<table border=\"1\" class=\"dataframe\">\n",
       "  <thead>\n",
       "    <tr style=\"text-align: right;\">\n",
       "      <th></th>\n",
       "      <th>Index</th>\n",
       "      <th>Member_ID</th>\n",
       "      <th>Sales_Type</th>\n",
       "      <th>Contract_Type</th>\n",
       "      <th>Channel</th>\n",
       "      <th>Datetime</th>\n",
       "      <th>Term</th>\n",
       "      <th>Payment_Type</th>\n",
       "      <th>Product_Type</th>\n",
       "      <th>Amount_Month</th>\n",
       "      <th>Customer_Type</th>\n",
       "      <th>Age</th>\n",
       "      <th>Address1</th>\n",
       "      <th>Address2</th>\n",
       "      <th>State</th>\n",
       "      <th>Overdue_count</th>\n",
       "      <th>Overdue_Type</th>\n",
       "      <th>Gender</th>\n",
       "      <th>Credit_Rank</th>\n",
       "      <th>Bank</th>\n",
       "    </tr>\n",
       "  </thead>\n",
       "  <tbody>\n",
       "    <tr>\n",
       "      <th>2705</th>\n",
       "      <td>2706</td>\n",
       "      <td>66760494</td>\n",
       "      <td>렌탈</td>\n",
       "      <td>패키지계약</td>\n",
       "      <td>홈쇼핑/방송</td>\n",
       "      <td>2023-06-29</td>\n",
       "      <td>60</td>\n",
       "      <td>CMS</td>\n",
       "      <td>DES-2</td>\n",
       "      <td>81900</td>\n",
       "      <td>개인</td>\n",
       "      <td>52.0</td>\n",
       "      <td>전라도</td>\n",
       "      <td>전라도</td>\n",
       "      <td>계약확정</td>\n",
       "      <td>15</td>\n",
       "      <td>있음</td>\n",
       "      <td>남자</td>\n",
       "      <td>8.0</td>\n",
       "      <td>우리은행</td>\n",
       "    </tr>\n",
       "    <tr>\n",
       "      <th>3093</th>\n",
       "      <td>3094</td>\n",
       "      <td>66679489</td>\n",
       "      <td>렌탈</td>\n",
       "      <td>프로모션계약</td>\n",
       "      <td>영업방판</td>\n",
       "      <td>2023-06-20</td>\n",
       "      <td>60</td>\n",
       "      <td>CMS</td>\n",
       "      <td>DES-3A</td>\n",
       "      <td>90900</td>\n",
       "      <td>개인</td>\n",
       "      <td>58.0</td>\n",
       "      <td>서울특별시</td>\n",
       "      <td>서울특별시</td>\n",
       "      <td>계약확정</td>\n",
       "      <td>15</td>\n",
       "      <td>있음</td>\n",
       "      <td>여자</td>\n",
       "      <td>4.0</td>\n",
       "      <td>우리은행</td>\n",
       "    </tr>\n",
       "    <tr>\n",
       "      <th>3782</th>\n",
       "      <td>3783</td>\n",
       "      <td>66603883</td>\n",
       "      <td>렌탈</td>\n",
       "      <td>일반계약</td>\n",
       "      <td>영업방판</td>\n",
       "      <td>2022-10-27</td>\n",
       "      <td>60</td>\n",
       "      <td>CMS</td>\n",
       "      <td>DES-1</td>\n",
       "      <td>111900</td>\n",
       "      <td>개인</td>\n",
       "      <td>38.0</td>\n",
       "      <td>전라도</td>\n",
       "      <td>전라도</td>\n",
       "      <td>계약확정</td>\n",
       "      <td>15</td>\n",
       "      <td>있음</td>\n",
       "      <td>여자</td>\n",
       "      <td>7.0</td>\n",
       "      <td>농협중앙회</td>\n",
       "    </tr>\n",
       "    <tr>\n",
       "      <th>5846</th>\n",
       "      <td>5847</td>\n",
       "      <td>66762531</td>\n",
       "      <td>렌탈</td>\n",
       "      <td>패키지계약</td>\n",
       "      <td>영업방판</td>\n",
       "      <td>2023-07-29</td>\n",
       "      <td>60</td>\n",
       "      <td>CMS</td>\n",
       "      <td>DES-2</td>\n",
       "      <td>89400</td>\n",
       "      <td>개인</td>\n",
       "      <td>27.0</td>\n",
       "      <td>충청도</td>\n",
       "      <td>대전광역시</td>\n",
       "      <td>계약확정</td>\n",
       "      <td>15</td>\n",
       "      <td>있음</td>\n",
       "      <td>남자</td>\n",
       "      <td>5.0</td>\n",
       "      <td>하나은행</td>\n",
       "    </tr>\n",
       "    <tr>\n",
       "      <th>5845</th>\n",
       "      <td>5846</td>\n",
       "      <td>66762531</td>\n",
       "      <td>렌탈</td>\n",
       "      <td>패키지계약</td>\n",
       "      <td>영업방판</td>\n",
       "      <td>2023-07-10</td>\n",
       "      <td>60</td>\n",
       "      <td>CMS</td>\n",
       "      <td>DES-1</td>\n",
       "      <td>134400</td>\n",
       "      <td>개인</td>\n",
       "      <td>27.0</td>\n",
       "      <td>충청도</td>\n",
       "      <td>대전광역시</td>\n",
       "      <td>계약확정</td>\n",
       "      <td>15</td>\n",
       "      <td>있음</td>\n",
       "      <td>남자</td>\n",
       "      <td>5.0</td>\n",
       "      <td>하나은행</td>\n",
       "    </tr>\n",
       "    <tr>\n",
       "      <th>...</th>\n",
       "      <td>...</td>\n",
       "      <td>...</td>\n",
       "      <td>...</td>\n",
       "      <td>...</td>\n",
       "      <td>...</td>\n",
       "      <td>...</td>\n",
       "      <td>...</td>\n",
       "      <td>...</td>\n",
       "      <td>...</td>\n",
       "      <td>...</td>\n",
       "      <td>...</td>\n",
       "      <td>...</td>\n",
       "      <td>...</td>\n",
       "      <td>...</td>\n",
       "      <td>...</td>\n",
       "      <td>...</td>\n",
       "      <td>...</td>\n",
       "      <td>...</td>\n",
       "      <td>...</td>\n",
       "      <td>...</td>\n",
       "    </tr>\n",
       "    <tr>\n",
       "      <th>16450</th>\n",
       "      <td>16452</td>\n",
       "      <td>66769597</td>\n",
       "      <td>렌탈</td>\n",
       "      <td>패키지계약</td>\n",
       "      <td>영업방판</td>\n",
       "      <td>2022-12-19</td>\n",
       "      <td>60</td>\n",
       "      <td>CMS</td>\n",
       "      <td>DES-1</td>\n",
       "      <td>98400</td>\n",
       "      <td>개인</td>\n",
       "      <td>50.0</td>\n",
       "      <td>강원도</td>\n",
       "      <td>강원도</td>\n",
       "      <td>계약확정</td>\n",
       "      <td>13</td>\n",
       "      <td>있음</td>\n",
       "      <td>여자</td>\n",
       "      <td>7.0</td>\n",
       "      <td>농협회원조합</td>\n",
       "    </tr>\n",
       "    <tr>\n",
       "      <th>28383</th>\n",
       "      <td>28385</td>\n",
       "      <td>66778083</td>\n",
       "      <td>렌탈</td>\n",
       "      <td>일반계약</td>\n",
       "      <td>영업방판</td>\n",
       "      <td>2022-02-12</td>\n",
       "      <td>60</td>\n",
       "      <td>CMS</td>\n",
       "      <td>DES-1</td>\n",
       "      <td>96900</td>\n",
       "      <td>개인</td>\n",
       "      <td>46.0</td>\n",
       "      <td>충청도</td>\n",
       "      <td>충청도</td>\n",
       "      <td>계약확정</td>\n",
       "      <td>13</td>\n",
       "      <td>있음</td>\n",
       "      <td>남자</td>\n",
       "      <td>7.0</td>\n",
       "      <td>우체국</td>\n",
       "    </tr>\n",
       "    <tr>\n",
       "      <th>18813</th>\n",
       "      <td>18815</td>\n",
       "      <td>66770854</td>\n",
       "      <td>렌탈</td>\n",
       "      <td>프로모션계약</td>\n",
       "      <td>전문매장Z</td>\n",
       "      <td>2022-04-24</td>\n",
       "      <td>60</td>\n",
       "      <td>CMS</td>\n",
       "      <td>DES-1</td>\n",
       "      <td>96900</td>\n",
       "      <td>개인</td>\n",
       "      <td>34.0</td>\n",
       "      <td>경상도</td>\n",
       "      <td>경상도</td>\n",
       "      <td>계약확정</td>\n",
       "      <td>13</td>\n",
       "      <td>있음</td>\n",
       "      <td>여자</td>\n",
       "      <td>7.0</td>\n",
       "      <td>부산은행</td>\n",
       "    </tr>\n",
       "    <tr>\n",
       "      <th>28189</th>\n",
       "      <td>28191</td>\n",
       "      <td>66778622</td>\n",
       "      <td>렌탈</td>\n",
       "      <td>프로모션계약</td>\n",
       "      <td>영업방판</td>\n",
       "      <td>2022-08-18</td>\n",
       "      <td>39</td>\n",
       "      <td>CMS</td>\n",
       "      <td>ERA</td>\n",
       "      <td>120900</td>\n",
       "      <td>개인</td>\n",
       "      <td>59.0</td>\n",
       "      <td>경상도</td>\n",
       "      <td>대구광역시</td>\n",
       "      <td>계약확정</td>\n",
       "      <td>13</td>\n",
       "      <td>있음</td>\n",
       "      <td>남자</td>\n",
       "      <td>7.0</td>\n",
       "      <td>외환은행</td>\n",
       "    </tr>\n",
       "    <tr>\n",
       "      <th>32550</th>\n",
       "      <td>32552</td>\n",
       "      <td>66782724</td>\n",
       "      <td>렌탈</td>\n",
       "      <td>일반계약</td>\n",
       "      <td>영업방판</td>\n",
       "      <td>2022-09-15</td>\n",
       "      <td>60</td>\n",
       "      <td>CMS</td>\n",
       "      <td>DES-3A</td>\n",
       "      <td>102900</td>\n",
       "      <td>개인</td>\n",
       "      <td>44.0</td>\n",
       "      <td>경상도</td>\n",
       "      <td>울산광역시</td>\n",
       "      <td>계약확정</td>\n",
       "      <td>13</td>\n",
       "      <td>있음</td>\n",
       "      <td>여자</td>\n",
       "      <td>6.0</td>\n",
       "      <td>농협회원조합</td>\n",
       "    </tr>\n",
       "  </tbody>\n",
       "</table>\n",
       "<p>100 rows × 20 columns</p>\n",
       "</div>"
      ],
      "text/plain": [
       "       Index  Member_ID Sales_Type Contract_Type Channel    Datetime  Term  \\\n",
       "2705    2706   66760494         렌탈         패키지계약  홈쇼핑/방송  2023-06-29    60   \n",
       "3093    3094   66679489         렌탈        프로모션계약    영업방판  2023-06-20    60   \n",
       "3782    3783   66603883         렌탈          일반계약    영업방판  2022-10-27    60   \n",
       "5846    5847   66762531         렌탈         패키지계약    영업방판  2023-07-29    60   \n",
       "5845    5846   66762531         렌탈         패키지계약    영업방판  2023-07-10    60   \n",
       "...      ...        ...        ...           ...     ...         ...   ...   \n",
       "16450  16452   66769597         렌탈         패키지계약    영업방판  2022-12-19    60   \n",
       "28383  28385   66778083         렌탈          일반계약    영업방판  2022-02-12    60   \n",
       "18813  18815   66770854         렌탈        프로모션계약   전문매장Z  2022-04-24    60   \n",
       "28189  28191   66778622         렌탈        프로모션계약    영업방판  2022-08-18    39   \n",
       "32550  32552   66782724         렌탈          일반계약    영업방판  2022-09-15    60   \n",
       "\n",
       "      Payment_Type Product_Type  Amount_Month Customer_Type   Age Address1  \\\n",
       "2705           CMS        DES-2         81900            개인  52.0      전라도   \n",
       "3093           CMS       DES-3A         90900            개인  58.0    서울특별시   \n",
       "3782           CMS        DES-1        111900            개인  38.0      전라도   \n",
       "5846           CMS        DES-2         89400            개인  27.0      충청도   \n",
       "5845           CMS        DES-1        134400            개인  27.0      충청도   \n",
       "...            ...          ...           ...           ...   ...      ...   \n",
       "16450          CMS        DES-1         98400            개인  50.0      강원도   \n",
       "28383          CMS        DES-1         96900            개인  46.0      충청도   \n",
       "18813          CMS        DES-1         96900            개인  34.0      경상도   \n",
       "28189          CMS          ERA        120900            개인  59.0      경상도   \n",
       "32550          CMS       DES-3A        102900            개인  44.0      경상도   \n",
       "\n",
       "      Address2 State  Overdue_count Overdue_Type Gender  Credit_Rank    Bank  \n",
       "2705       전라도  계약확정             15           있음     남자          8.0    우리은행  \n",
       "3093     서울특별시  계약확정             15           있음     여자          4.0    우리은행  \n",
       "3782       전라도  계약확정             15           있음     여자          7.0   농협중앙회  \n",
       "5846     대전광역시  계약확정             15           있음     남자          5.0    하나은행  \n",
       "5845     대전광역시  계약확정             15           있음     남자          5.0    하나은행  \n",
       "...        ...   ...            ...          ...    ...          ...     ...  \n",
       "16450      강원도  계약확정             13           있음     여자          7.0  농협회원조합  \n",
       "28383      충청도  계약확정             13           있음     남자          7.0     우체국  \n",
       "18813      경상도  계약확정             13           있음     여자          7.0    부산은행  \n",
       "28189    대구광역시  계약확정             13           있음     남자          7.0    외환은행  \n",
       "32550    울산광역시  계약확정             13           있음     여자          6.0  농협회원조합  \n",
       "\n",
       "[100 rows x 20 columns]"
      ]
     },
     "execution_count": 168,
     "metadata": {},
     "output_type": "execute_result"
    }
   ],
   "source": [
    "df8 = df1.sort_values(by=['Overdue_count'],ascending=False).head(100)\n",
    "df8"
   ]
  },
  {
   "cell_type": "code",
   "execution_count": 172,
   "id": "2232a64b",
   "metadata": {},
   "outputs": [
    {
     "name": "stdout",
     "output_type": "stream",
     "text": [
      "연령의 최대값:85.0, 연령의 최소값: 26.0, 신용등급 평균:6.945205479452055\n"
     ]
    }
   ],
   "source": [
    "max_age = df8['Age'].max()\n",
    "min_age = df8['Age'].min()\n",
    "mean_credit = df8['Credit_Rank'].mean()\n",
    "\n",
    "print(f'연령의 최대값:{max_age}, 연령의 최소값: {min_age}, 신용등급 평균:{mean_credit}')"
   ]
  },
  {
   "cell_type": "markdown",
   "id": "915fa767",
   "metadata": {},
   "source": [
    "---------------------------------"
   ]
  },
  {
   "cell_type": "markdown",
   "id": "811a1c31",
   "metadata": {},
   "source": [
    "9. 매출관리 부서 A씨는 매주 해당 데이터를 받아 계약금액이 높은 1000개의 계약명단의 평균값을 계산하고 있다. 이 업무를 자동화하기 위해, 월랜탈비용이 높은 1000개의 데이터를 추출하여, 해당 데이터의 월랜탈비용의 평균을 계산하는 함수를 만드시오."
   ]
  },
  {
   "cell_type": "code",
   "execution_count": 176,
   "id": "30b18196",
   "metadata": {},
   "outputs": [
    {
     "data": {
      "text/plain": [
       "144188.25"
      ]
     },
     "execution_count": 176,
     "metadata": {},
     "output_type": "execute_result"
    }
   ],
   "source": [
    "def solution9():\n",
    "    df9 = df1.sort_values(by = 'Amount_Month', ascending = False).head(1000)\n",
    "    mean_Amount_Month = df9['Amount_Month'].mean()\n",
    "    return mean_Amount_Month\n",
    "\n",
    "solution9()"
   ]
  }
 ],
 "metadata": {
  "kernelspec": {
   "display_name": "Python 3 (ipykernel)",
   "language": "python",
   "name": "python3"
  },
  "language_info": {
   "codemirror_mode": {
    "name": "ipython",
    "version": 3
   },
   "file_extension": ".py",
   "mimetype": "text/x-python",
   "name": "python",
   "nbconvert_exporter": "python",
   "pygments_lexer": "ipython3",
   "version": "3.11.5"
  },
  "toc": {
   "base_numbering": 1,
   "nav_menu": {},
   "number_sections": true,
   "sideBar": true,
   "skip_h1_title": false,
   "title_cell": "Table of Contents",
   "title_sidebar": "Contents",
   "toc_cell": false,
   "toc_position": {},
   "toc_section_display": true,
   "toc_window_display": false
  }
 },
 "nbformat": 4,
 "nbformat_minor": 5
}
