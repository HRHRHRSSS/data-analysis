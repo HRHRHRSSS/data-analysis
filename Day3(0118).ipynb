{
 "cells": [
  {
   "cell_type": "markdown",
   "id": "0e8f67c2",
   "metadata": {},
   "source": [
    "# 5-1. 클래스와 모듈"
   ]
  },
  {
   "cell_type": "code",
   "execution_count": 4,
   "id": "bd7a40f2",
   "metadata": {},
   "outputs": [],
   "source": [
    "import modul1"
   ]
  },
  {
   "cell_type": "code",
   "execution_count": 5,
   "id": "094fc3e6",
   "metadata": {},
   "outputs": [],
   "source": [
    "from modul1 import *"
   ]
  },
  {
   "cell_type": "code",
   "execution_count": 6,
   "id": "c18fccfc",
   "metadata": {},
   "outputs": [
    {
     "data": {
      "text/plain": [
       "200.0"
      ]
     },
     "execution_count": 6,
     "metadata": {},
     "output_type": "execute_result"
    }
   ],
   "source": [
    "mean_func([100,200,300])"
   ]
  },
  {
   "cell_type": "code",
   "execution_count": 7,
   "id": "feaa4460",
   "metadata": {},
   "outputs": [],
   "source": [
    "import modul1 as m1 # 모듈이름을 특정 약어로 줄여서 사용"
   ]
  },
  {
   "cell_type": "code",
   "execution_count": 8,
   "id": "5e695784",
   "metadata": {},
   "outputs": [
    {
     "data": {
      "text/plain": [
       "600"
      ]
     },
     "execution_count": 8,
     "metadata": {},
     "output_type": "execute_result"
    }
   ],
   "source": [
    "m1.sum_func([100,200,300])"
   ]
  },
  {
   "cell_type": "markdown",
   "id": "9a62cfee",
   "metadata": {},
   "source": [
    "# 5-2. 패키지\n",
    "\n",
    "- 특정 목적을 수행하는 모듈을 모아놓은 집합체 (폴더 형태로 파이썬 파일들을 모아놓은 형태)\n",
    "- 계층적인 구조로 모듈을 관리할 수 있음\n",
    "- 매우 복잡하고 다양한 기능이 수행되는 함수를 구성하는 경우, 하나의 모듈에 많은 함수"
   ]
  },
  {
   "cell_type": "code",
   "execution_count": 9,
   "id": "d9e95356",
   "metadata": {},
   "outputs": [],
   "source": [
    "# 앞서 만든 Package1 폴더에 있는 modul_fib.py 호출\n",
    "from package1 import modul_fib"
   ]
  },
  {
   "cell_type": "code",
   "execution_count": 10,
   "id": "2ad5c56d",
   "metadata": {},
   "outputs": [
    {
     "data": {
      "text/plain": [
       "3"
      ]
     },
     "execution_count": 10,
     "metadata": {},
     "output_type": "execute_result"
    }
   ],
   "source": [
    "modul_fib.fibo(4)"
   ]
  },
  {
   "cell_type": "code",
   "execution_count": 11,
   "id": "a0048b33",
   "metadata": {},
   "outputs": [
    {
     "data": {
      "text/plain": [
       "55"
      ]
     },
     "execution_count": 11,
     "metadata": {},
     "output_type": "execute_result"
    }
   ],
   "source": [
    "modul_fib.fibo(10)"
   ]
  },
  {
   "cell_type": "markdown",
   "id": "2101e692",
   "metadata": {},
   "source": [
    "- init.py\n",
    "- 해당 폴더가 패키지의 일부인 폴더임을 명시하는 파일\n",
    "- 해당 파일이 존재해야, 파이썬이 해당 폴더를 패키지(라이브러리)로 인식하고, 해당 폴더 내 파이썬 파일을 모듈형태로 불러와 사용할 수 있음\n",
    "- 응용하면, 패키지 내 여러 모듈의 값들을 초기화하는 형태로도 사용이 가능 "
   ]
  },
  {
   "cell_type": "code",
   "execution_count": 12,
   "id": "ffea1bd7",
   "metadata": {},
   "outputs": [],
   "source": [
    "import package1"
   ]
  },
  {
   "cell_type": "code",
   "execution_count": 13,
   "id": "1086ac76",
   "metadata": {},
   "outputs": [
    {
     "name": "stdout",
     "output_type": "stream",
     "text": [
      "package version: 1.0\n"
     ]
    }
   ],
   "source": [
    "package1.pack_version()"
   ]
  },
  {
   "cell_type": "markdown",
   "id": "1e967ca7",
   "metadata": {},
   "source": [
    "# 5-3. 파이썬 내장 함수 및 라이브러리\n",
    "\n",
    "* - 라이브러리 : 여러가지 모듈을 모아놓은 패키지의 집합 *\n",
    "- 표준라이브러리 : 파이썬 프로그래밍 언어 자체에 내장 되어있는 라이브러리\n",
    "- 외부라이브러리 : 각 소프트웨어 개발 업체에서 (개발자가 직접 개발해 만든) 라이브러리이며 인터넷을 통해 다운로드를 받아야만 사용 가능\n",
    "- 아나콘다 프로그램을 설치할 때 기본적인 데이터 분석과 관련된 라이브러리들이 함께 설치됨"
   ]
  },
  {
   "cell_type": "code",
   "execution_count": 14,
   "id": "70374ab8",
   "metadata": {},
   "outputs": [],
   "source": [
    "# 파이썬 내장 함수 (라이브러리 없이 사용 가능한 함수)\n",
    "# 파이썬 내장함수와 동일한 이름으로 변수를 선언하지 말것!\n",
    "# 외부라이브러리를 사용할 때, 외부 라이브러리 안에 있는 모듈이 파이썬 내장 함수들로 구성되어 있는 경우가 있음"
   ]
  },
  {
   "cell_type": "code",
   "execution_count": 15,
   "id": "78356855",
   "metadata": {},
   "outputs": [
    {
     "data": {
      "text/plain": [
       "100"
      ]
     },
     "execution_count": 15,
     "metadata": {},
     "output_type": "execute_result"
    }
   ],
   "source": [
    "# 절대값을 반환하는 함수\n",
    "abs(-100)"
   ]
  },
  {
   "cell_type": "code",
   "execution_count": 16,
   "id": "8dfa486e",
   "metadata": {},
   "outputs": [
    {
     "data": {
      "text/plain": [
       "200"
      ]
     },
     "execution_count": 16,
     "metadata": {},
     "output_type": "execute_result"
    }
   ],
   "source": [
    "abs(200)"
   ]
  },
  {
   "cell_type": "code",
   "execution_count": 17,
   "id": "fb049e7c",
   "metadata": {},
   "outputs": [
    {
     "data": {
      "text/plain": [
       "[1, 20, 40, 50, 100, 300]"
      ]
     },
     "execution_count": 17,
     "metadata": {},
     "output_type": "execute_result"
    }
   ],
   "source": [
    "# 특정 자료구조 내 데이터를 정렬하는 함수 (리스트, 튜플, 셋)\n",
    "t1 = (100,20,300,1,40,50)\n",
    "sorted(t1) # 자료구조 내 숫자데이터를 오름차순으로 정렬하여 리스트구조로 출력"
   ]
  },
  {
   "cell_type": "code",
   "execution_count": 19,
   "id": "0673a185",
   "metadata": {},
   "outputs": [
    {
     "data": {
      "text/plain": [
       "[300, 100, 50, 40, 20, 1]"
      ]
     },
     "execution_count": 19,
     "metadata": {},
     "output_type": "execute_result"
    }
   ],
   "source": [
    "sorted(t1, reverse=True) # 자료구조 내 숫자데이터를 내림차순으로 정렬하여 리스트로 출력"
   ]
  },
  {
   "cell_type": "code",
   "execution_count": 20,
   "id": "b7627df8",
   "metadata": {},
   "outputs": [
    {
     "data": {
      "text/plain": [
       "['__add__',\n",
       " '__class__',\n",
       " '__class_getitem__',\n",
       " '__contains__',\n",
       " '__delattr__',\n",
       " '__delitem__',\n",
       " '__dir__',\n",
       " '__doc__',\n",
       " '__eq__',\n",
       " '__format__',\n",
       " '__ge__',\n",
       " '__getattribute__',\n",
       " '__getitem__',\n",
       " '__getstate__',\n",
       " '__gt__',\n",
       " '__hash__',\n",
       " '__iadd__',\n",
       " '__imul__',\n",
       " '__init__',\n",
       " '__init_subclass__',\n",
       " '__iter__',\n",
       " '__le__',\n",
       " '__len__',\n",
       " '__lt__',\n",
       " '__mul__',\n",
       " '__ne__',\n",
       " '__new__',\n",
       " '__reduce__',\n",
       " '__reduce_ex__',\n",
       " '__repr__',\n",
       " '__reversed__',\n",
       " '__rmul__',\n",
       " '__setattr__',\n",
       " '__setitem__',\n",
       " '__sizeof__',\n",
       " '__str__',\n",
       " '__subclasshook__',\n",
       " 'append',\n",
       " 'clear',\n",
       " 'copy',\n",
       " 'count',\n",
       " 'extend',\n",
       " 'index',\n",
       " 'insert',\n",
       " 'pop',\n",
       " 'remove',\n",
       " 'reverse',\n",
       " 'sort']"
      ]
     },
     "execution_count": 20,
     "metadata": {},
     "output_type": "execute_result"
    }
   ],
   "source": [
    "# 특정 개체가 가진 변수나 함수, 기능들을 모두 확인할 수 있는 함수\n",
    "dir([100,200])"
   ]
  },
  {
   "cell_type": "code",
   "execution_count": 22,
   "id": "36e2c482",
   "metadata": {
    "collapsed": true
   },
   "outputs": [
    {
     "data": {
      "text/plain": [
       "['__call__',\n",
       " '__class__',\n",
       " '__delattr__',\n",
       " '__dir__',\n",
       " '__doc__',\n",
       " '__eq__',\n",
       " '__format__',\n",
       " '__ge__',\n",
       " '__getattribute__',\n",
       " '__getstate__',\n",
       " '__gt__',\n",
       " '__hash__',\n",
       " '__init__',\n",
       " '__init_subclass__',\n",
       " '__le__',\n",
       " '__lt__',\n",
       " '__module__',\n",
       " '__name__',\n",
       " '__ne__',\n",
       " '__new__',\n",
       " '__qualname__',\n",
       " '__reduce__',\n",
       " '__reduce_ex__',\n",
       " '__repr__',\n",
       " '__self__',\n",
       " '__setattr__',\n",
       " '__sizeof__',\n",
       " '__str__',\n",
       " '__subclasshook__',\n",
       " '__text_signature__']"
      ]
     },
     "execution_count": 22,
     "metadata": {},
     "output_type": "execute_result"
    }
   ],
   "source": [
    "dir(sorted)"
   ]
  },
  {
   "cell_type": "code",
   "execution_count": 25,
   "id": "d239376a",
   "metadata": {},
   "outputs": [
    {
     "name": "stdout",
     "output_type": "stream",
     "text": [
      "Help on built-in function sorted in module builtins:\n",
      "\n",
      "sorted(iterable, /, *, key=None, reverse=False)\n",
      "    Return a new list containing all items from the iterable in ascending order.\n",
      "    \n",
      "    A custom key function can be supplied to customize the sort order, and the\n",
      "    reverse flag can be set to request the result in descending order.\n",
      "\n"
     ]
    }
   ],
   "source": [
    "# 특정 함수나 라이브러리 내에 있는 매개변수의 정보나 함수의 사용법 등을 확인\n",
    "help(sorted)"
   ]
  },
  {
   "cell_type": "code",
   "execution_count": 30,
   "id": "d6297ec8",
   "metadata": {},
   "outputs": [
    {
     "data": {
      "text/plain": [
       "{0: 'A', 1: 'B', 2: 'C', 3: 'D'}"
      ]
     },
     "execution_count": 30,
     "metadata": {},
     "output_type": "execute_result"
    }
   ],
   "source": [
    "# 특정 리스트나 튜플로 받은 값에, Index(순서)를 추가해야 하는 경우\n",
    "index_list = []\n",
    "value_list = []\n",
    "for i, data in enumerate(['A','B','C','D']):\n",
    "    index_list.append(i)\n",
    "    value_list.append(data)\n",
    "    \n",
    "dict(zip(index_list, value_list)) # 두 개의 객체를 묶어 하나의 딕셔너리로 구성"
   ]
  },
  {
   "cell_type": "code",
   "execution_count": 27,
   "id": "561786bc",
   "metadata": {},
   "outputs": [
    {
     "data": {
      "text/plain": [
       "[0, 1, 2, 3]"
      ]
     },
     "execution_count": 27,
     "metadata": {},
     "output_type": "execute_result"
    }
   ],
   "source": [
    "index_list"
   ]
  },
  {
   "cell_type": "code",
   "execution_count": 28,
   "id": "c49ecec9",
   "metadata": {},
   "outputs": [
    {
     "data": {
      "text/plain": [
       "['A', 'B', 'C', 'D']"
      ]
     },
     "execution_count": 28,
     "metadata": {},
     "output_type": "execute_result"
    }
   ],
   "source": [
    "value_list"
   ]
  },
  {
   "cell_type": "code",
   "execution_count": 217,
   "id": "a8aae8b0",
   "metadata": {},
   "outputs": [],
   "source": [
    "# 파일 읽기 함수\n",
    "data1 = open('data.txt', 'r') #작업폴더 내 data.txt 파일을 읽어와 변수로 선언\n",
    "data2 = data1.readline(10000) # 읽어들인 텍스트 파일은 str 문자열로 변환"
   ]
  },
  {
   "cell_type": "code",
   "execution_count": 218,
   "id": "efed8b24",
   "metadata": {},
   "outputs": [
    {
     "data": {
      "text/plain": [
       "\"python is an interpreted, high-level, general-purpose programming language. created by guido van rossum and first released in 1991, python's design philosophy emphasizes code readability with its notable use of significant whitespace.\\n\""
      ]
     },
     "execution_count": 218,
     "metadata": {},
     "output_type": "execute_result"
    }
   ],
   "source": [
    "data2.lower() #특정 텍스트 내 모든 문자를 소문자로 변환"
   ]
  },
  {
   "cell_type": "code",
   "execution_count": 219,
   "id": "d4f5c589",
   "metadata": {},
   "outputs": [],
   "source": [
    "data3 = data2.upper() #대문자로 변환"
   ]
  },
  {
   "cell_type": "code",
   "execution_count": 220,
   "id": "41fd9e89",
   "metadata": {},
   "outputs": [
    {
     "data": {
      "text/plain": [
       "1"
      ]
     },
     "execution_count": 220,
     "metadata": {},
     "output_type": "execute_result"
    }
   ],
   "source": [
    "data3.count('PROGRAMMING')"
   ]
  },
  {
   "cell_type": "code",
   "execution_count": 44,
   "id": "07296041",
   "metadata": {},
   "outputs": [],
   "source": [
    "# 표준 라이브러리\n",
    "# 시간 관련 표준 라이브러리\n",
    "import datetime"
   ]
  },
  {
   "cell_type": "code",
   "execution_count": 48,
   "id": "5beb6af6",
   "metadata": {},
   "outputs": [],
   "source": [
    "# 현재 시간을 계산\n",
    "start_day = datetime.datetime.today() #클래스 -> 모듈 -> 함수\n",
    "end_day = datetime.datetime(2024, 7, 23) #특정 날짜를 변수로 지정"
   ]
  },
  {
   "cell_type": "code",
   "execution_count": 50,
   "id": "49a520d5",
   "metadata": {},
   "outputs": [
    {
     "data": {
      "text/plain": [
       "datetime.timedelta(days=186, seconds=48049, microseconds=8966)"
      ]
     },
     "execution_count": 50,
     "metadata": {},
     "output_type": "execute_result"
    }
   ],
   "source": [
    "end_day - start_day"
   ]
  },
  {
   "cell_type": "code",
   "execution_count": 51,
   "id": "40237374",
   "metadata": {},
   "outputs": [],
   "source": [
    "import time"
   ]
  },
  {
   "cell_type": "code",
   "execution_count": 57,
   "id": "83021516",
   "metadata": {},
   "outputs": [
    {
     "data": {
      "text/plain": [
       "1705542173.123023"
      ]
     },
     "execution_count": 57,
     "metadata": {},
     "output_type": "execute_result"
    }
   ],
   "source": [
    "time.time()\n",
    "# UTC (Universal Time Corrdinated) : 협정 세계 표준시\n",
    "# 1970년도 1월 1일 0시0분0초 기준으로 현재까지 몇초가 흘렀는지 확인"
   ]
  },
  {
   "cell_type": "code",
   "execution_count": 58,
   "id": "af5e3c11",
   "metadata": {},
   "outputs": [
    {
     "data": {
      "text/plain": [
       "time.struct_time(tm_year=2024, tm_mon=1, tm_mday=18, tm_hour=10, tm_min=43, tm_sec=7, tm_wday=3, tm_yday=18, tm_isdst=0)"
      ]
     },
     "execution_count": 58,
     "metadata": {},
     "output_type": "execute_result"
    }
   ],
   "source": [
    "time.localtime(time.time())"
   ]
  },
  {
   "cell_type": "code",
   "execution_count": 60,
   "id": "607aab81",
   "metadata": {},
   "outputs": [
    {
     "data": {
      "text/plain": [
       "3.0053977966308594"
      ]
     },
     "execution_count": 60,
     "metadata": {},
     "output_type": "execute_result"
    }
   ],
   "source": [
    "# 특정 코드의 시간이 얼만큼 지났는지 확인\n",
    "t1 = time.time()\n",
    "time.sleep(3) # 코드에 일정한 시간 간격을 두고 코드를 수행 시킬 때 사용하는 시간 간격 함수\n",
    "t2 = time.time()\n",
    "\n",
    "t2 - t1"
   ]
  },
  {
   "cell_type": "code",
   "execution_count": 149,
   "id": "a61800a5",
   "metadata": {},
   "outputs": [],
   "source": [
    "# 난수 생성(Random) 관련 라이브러리\n",
    "import random"
   ]
  },
  {
   "cell_type": "code",
   "execution_count": 62,
   "id": "971fa254",
   "metadata": {},
   "outputs": [
    {
     "data": {
      "text/plain": [
       "0.7607643356904268"
      ]
     },
     "execution_count": 62,
     "metadata": {},
     "output_type": "execute_result"
    }
   ],
   "source": [
    "random.random() # 0과 1사이의 난수를 생성"
   ]
  },
  {
   "cell_type": "code",
   "execution_count": 63,
   "id": "1430f8e9",
   "metadata": {},
   "outputs": [
    {
     "data": {
      "text/plain": [
       "17"
      ]
     },
     "execution_count": 63,
     "metadata": {},
     "output_type": "execute_result"
    }
   ],
   "source": [
    "random.randint(1,100) # 특정 범위의 정수 내에서 난수를 생성"
   ]
  },
  {
   "cell_type": "code",
   "execution_count": 64,
   "id": "687e1226",
   "metadata": {},
   "outputs": [],
   "source": [
    "# 1부터 50사이에 숫자를 선택했을 때,\n",
    "# 숫자를 맞출때까지 값을 입력하는 프로그램\n",
    "def game_number():\n",
    "    #컴퓨터가 난수를 생성\n",
    "    target_number = random.randint(1,50)\n",
    "    \n",
    "    while True: # 무한히 반복되게 설정\n",
    "        user_number = int(input('1부터 50사이의 수를 맞춰보세요!'))\n",
    "        \n",
    "        if target_number == user_number:\n",
    "            print('정답!')\n",
    "            break # 반복 무한 루프를 종료 (기저조건)\n",
    "            \n",
    "        elif target_number > user_number:\n",
    "            print('더 높은 숫자를 입력해보세요!')\n",
    "            \n",
    "        elif target_number < user_number:\n",
    "            print('더 낮은 숫자를 입력해보세요!')            "
   ]
  },
  {
   "cell_type": "code",
   "execution_count": 66,
   "id": "ac318c44",
   "metadata": {},
   "outputs": [
    {
     "name": "stdout",
     "output_type": "stream",
     "text": [
      "1부터 50사이의 수를 맞춰보세요!25\n",
      "더 낮은 숫자를 입력해보세요!\n",
      "1부터 50사이의 수를 맞춰보세요!25\n",
      "더 낮은 숫자를 입력해보세요!\n",
      "1부터 50사이의 수를 맞춰보세요!15\n",
      "더 낮은 숫자를 입력해보세요!\n",
      "1부터 50사이의 수를 맞춰보세요!6\n",
      "더 높은 숫자를 입력해보세요!\n",
      "1부터 50사이의 수를 맞춰보세요!7\n",
      "더 높은 숫자를 입력해보세요!\n",
      "1부터 50사이의 수를 맞춰보세요!8\n",
      "더 높은 숫자를 입력해보세요!\n",
      "1부터 50사이의 수를 맞춰보세요!9\n",
      "더 높은 숫자를 입력해보세요!\n",
      "1부터 50사이의 수를 맞춰보세요!10\n",
      "더 높은 숫자를 입력해보세요!\n",
      "1부터 50사이의 수를 맞춰보세요!11\n",
      "더 높은 숫자를 입력해보세요!\n",
      "1부터 50사이의 수를 맞춰보세요!12\n",
      "정답!\n"
     ]
    }
   ],
   "source": [
    "game_number()"
   ]
  },
  {
   "cell_type": "code",
   "execution_count": 67,
   "id": "8d7f12ed",
   "metadata": {},
   "outputs": [],
   "source": [
    "# 수학 관련 함수를 쓸 수 있는 라이브러리\n",
    "import math"
   ]
  },
  {
   "cell_type": "code",
   "execution_count": 68,
   "id": "9af5a416",
   "metadata": {},
   "outputs": [
    {
     "data": {
      "text/plain": [
       "6"
      ]
     },
     "execution_count": 68,
     "metadata": {},
     "output_type": "execute_result"
    }
   ],
   "source": [
    "math.factorial(3)"
   ]
  },
  {
   "cell_type": "code",
   "execution_count": 70,
   "id": "9537fb64",
   "metadata": {},
   "outputs": [
    {
     "data": {
      "text/plain": [
       "60"
      ]
     },
     "execution_count": 70,
     "metadata": {},
     "output_type": "execute_result"
    }
   ],
   "source": [
    "math.lcm(20,30)\n",
    "#최소공배수 : 두 수의 공통 배수중 가장 작은 수"
   ]
  },
  {
   "cell_type": "code",
   "execution_count": 71,
   "id": "c6326300",
   "metadata": {},
   "outputs": [
    {
     "data": {
      "text/plain": [
       "20"
      ]
     },
     "execution_count": 71,
     "metadata": {},
     "output_type": "execute_result"
    }
   ],
   "source": [
    "math.gcd(20,40) #최대공약수 : 두수의 공통 약수 중 가장 작은 수"
   ]
  },
  {
   "cell_type": "markdown",
   "id": "3a3c5008",
   "metadata": {},
   "source": [
    "# 6. 데이터 분석 라이브러리\n",
    "\n",
    "- Numpy (Numeric + Python) : 연속형, 숫자 자료에 대한 과학/수학/통계 연산을 수행하는 함수들의 집합 (다차원연산/ 삼각함수/ 로그...)\n",
    "- pandas (Panel + DataSet) : 정형데이터(Excel, CSV, SQL, DB ..)를 처리 및 연산하는 함수들의 집합 (Numpy 기반으로 만들어짐)\n",
    "- Matplot (Matlab + Plot) : 연속형 자료의 그래프 시각화 함수들의 집합\n",
    "- Seaborn : 정형데이터 통계분석 시각화 함수들의 집합\n",
    "- Plotly : 정형데이터의 동적 시각화 함수들의 집합\n",
    "- Missingno : 정형데이터 내의 결측값의 패턴, 수, 시각화 하는 함수들의 집합\n",
    "- Scipy (Science + Python) : 응용통계(가설검정 / 회귀분석 / 시계열분석) 함수들의 집합\n",
    "- Scikit-Learn (Science + Python + Toolkit + Learning) : 정형데이터를 이용한 데이터 마이닝 (기계학습)관련 함수들의 집합\n",
    "- Tenserflow (Tensor + flow) : 비정형데이터(이미지, 영상,자연어..)를 처리하고 학습(신경망)하는 함수들의 집합\n",
    "- Keras : tf 라이브러리 기반 딥러닝 학습 API 함수들의 집합체\n",
    "- Pytorch : 비정형 데이터 딥러닝 관련 함수들의 집합\n",
    "- Knolopy : Korea Natural Language Processing Python 한국어 자연어 처리 라이브러리"
   ]
  },
  {
   "cell_type": "code",
   "execution_count": 72,
   "id": "e2a14c8b",
   "metadata": {
    "collapsed": true
   },
   "outputs": [
    {
     "name": "stdout",
     "output_type": "stream",
     "text": [
      "Collecting missingno\n",
      "  Downloading missingno-0.5.2-py3-none-any.whl (8.7 kB)\n",
      "Requirement already satisfied: numpy in /Users/sinhyelim/anaconda3/lib/python3.11/site-packages (from missingno) (1.24.3)\n",
      "Requirement already satisfied: matplotlib in /Users/sinhyelim/anaconda3/lib/python3.11/site-packages (from missingno) (3.7.2)\n",
      "Requirement already satisfied: scipy in /Users/sinhyelim/anaconda3/lib/python3.11/site-packages (from missingno) (1.11.1)\n",
      "Requirement already satisfied: seaborn in /Users/sinhyelim/anaconda3/lib/python3.11/site-packages (from missingno) (0.12.2)\n",
      "Requirement already satisfied: contourpy>=1.0.1 in /Users/sinhyelim/anaconda3/lib/python3.11/site-packages (from matplotlib->missingno) (1.0.5)\n",
      "Requirement already satisfied: cycler>=0.10 in /Users/sinhyelim/anaconda3/lib/python3.11/site-packages (from matplotlib->missingno) (0.11.0)\n",
      "Requirement already satisfied: fonttools>=4.22.0 in /Users/sinhyelim/anaconda3/lib/python3.11/site-packages (from matplotlib->missingno) (4.25.0)\n",
      "Requirement already satisfied: kiwisolver>=1.0.1 in /Users/sinhyelim/anaconda3/lib/python3.11/site-packages (from matplotlib->missingno) (1.4.4)\n",
      "Requirement already satisfied: packaging>=20.0 in /Users/sinhyelim/anaconda3/lib/python3.11/site-packages (from matplotlib->missingno) (23.1)\n",
      "Requirement already satisfied: pillow>=6.2.0 in /Users/sinhyelim/anaconda3/lib/python3.11/site-packages (from matplotlib->missingno) (10.0.1)\n",
      "Requirement already satisfied: pyparsing<3.1,>=2.3.1 in /Users/sinhyelim/anaconda3/lib/python3.11/site-packages (from matplotlib->missingno) (3.0.9)\n",
      "Requirement already satisfied: python-dateutil>=2.7 in /Users/sinhyelim/anaconda3/lib/python3.11/site-packages (from matplotlib->missingno) (2.8.2)\n",
      "Requirement already satisfied: pandas>=0.25 in /Users/sinhyelim/anaconda3/lib/python3.11/site-packages (from seaborn->missingno) (2.0.3)\n",
      "Requirement already satisfied: pytz>=2020.1 in /Users/sinhyelim/anaconda3/lib/python3.11/site-packages (from pandas>=0.25->seaborn->missingno) (2023.3.post1)\n",
      "Requirement already satisfied: tzdata>=2022.1 in /Users/sinhyelim/anaconda3/lib/python3.11/site-packages (from pandas>=0.25->seaborn->missingno) (2023.3)\n",
      "Requirement already satisfied: six>=1.5 in /Users/sinhyelim/anaconda3/lib/python3.11/site-packages (from python-dateutil>=2.7->matplotlib->missingno) (1.16.0)\n",
      "Installing collected packages: missingno\n",
      "Successfully installed missingno-0.5.2\n"
     ]
    }
   ],
   "source": [
    "# 주피터 노트북 내에서 라이브러리 다운로드\n",
    "!pip install missingno"
   ]
  },
  {
   "cell_type": "code",
   "execution_count": 73,
   "id": "c493498a",
   "metadata": {},
   "outputs": [],
   "source": [
    "# (아나콘다) cmd -> 관리자 권한으로 실행\n",
    "# pip install missingno"
   ]
  },
  {
   "cell_type": "markdown",
   "id": "c6cb0662",
   "metadata": {},
   "source": [
    "==================================================================================================================="
   ]
  },
  {
   "cell_type": "markdown",
   "id": "cbbfad4c",
   "metadata": {},
   "source": [
    "# 미니 미션\n",
    "\n",
    "- 1. 하나의 리스트를 입력받았을 때, 중복값을 제거하여 출력하는 함수를 만드시오.\n",
    "- 2. 무작위로 입력받은 튜플을 오름차순으로 정렬하는 함수를 만드시오.\n",
    "- 3. 1부터 100까지의 숫자 중 6개의 숫자를 중복없이 임의로 생성, 추천하는 함수를 만드시오.\n",
    "- 4. 숫자를 입력받아 해당 숫자가 홀수인지 짝수인지 판별하는 프로그램을 if문 없이 만드시오.\n",
    "- 5. 1부터 30까지 숫자 중 홀수만을 갖는 리스트를 만드는 함수를 생성하시오.\n",
    "- 6. 1부터 30까지 숫자 중 3의 배수이지만, 4의 배수는 아닌 숫자를 출력하는 프로그램을 함수로 생성하시오.\n",
    "- 7. 1부터 15까지의 범위의 숫자 중 5개를 선택했을 때, 나올 수 있는 모든 경우의 수를 계산하시오. (중복을 제외하고 계산->(1,2,3,4,5)와(5,4,3,2,1)은 같은 값임)\n",
    "- 8. 두 숫자를 입력받아 큰 숫자를 반환하는 람다 함수를 생성하시오.\n",
    "- 9. 아래의 두 개의 리스트에서 중복값을 제거하여 하나의 리스트를 출력하는 함수를 생성하시오.\n",
    "    - list1 = [100,200,500,600,700]\n",
    "    - list2 = [500,600,700,800,900]"
   ]
  },
  {
   "cell_type": "markdown",
   "id": "7cd8dbc5",
   "metadata": {},
   "source": [
    "----------------------------------------"
   ]
  },
  {
   "cell_type": "code",
   "execution_count": 74,
   "id": "7d17bb1f",
   "metadata": {},
   "outputs": [],
   "source": [
    "#1. 하나의 리스트를 입력받았을 때, 중복값을 제거하여 출력하는 함수를 만드시오.\n",
    "def solution(array):\n",
    "    answer = set(array)\n",
    "    return answer"
   ]
  },
  {
   "cell_type": "code",
   "execution_count": 75,
   "id": "b23a7280",
   "metadata": {},
   "outputs": [
    {
     "data": {
      "text/plain": [
       "{1, 2, 3, 4, 5, 6, 7}"
      ]
     },
     "execution_count": 75,
     "metadata": {},
     "output_type": "execute_result"
    }
   ],
   "source": [
    "solution([1,2,2,3,4,4,5,6,7,7,7])"
   ]
  },
  {
   "cell_type": "markdown",
   "id": "a1e79e59",
   "metadata": {},
   "source": [
    "----------------------------------------------------"
   ]
  },
  {
   "cell_type": "code",
   "execution_count": 125,
   "id": "c1faa537",
   "metadata": {},
   "outputs": [],
   "source": [
    "#2. 무작위로 입력받은 튜플을 오름차순으로 정렬하는 함수를 만드시오.\n",
    "def solution2(tup2):\n",
    "    new_tup = list(tup2)\n",
    "    new_tup.sort()\n",
    "    return tuple(new_tup)"
   ]
  },
  {
   "cell_type": "code",
   "execution_count": 126,
   "id": "5b3313a0",
   "metadata": {},
   "outputs": [
    {
     "data": {
      "text/plain": [
       "(1, 2, 3, 4, 5)"
      ]
     },
     "execution_count": 126,
     "metadata": {},
     "output_type": "execute_result"
    }
   ],
   "source": [
    "tup2 = (3,4,1,2,5)\n",
    "solution2(tup2)"
   ]
  },
  {
   "cell_type": "markdown",
   "id": "902f4235",
   "metadata": {},
   "source": [
    "-------------------------------------"
   ]
  },
  {
   "cell_type": "code",
   "execution_count": 159,
   "id": "3de96b48",
   "metadata": {},
   "outputs": [],
   "source": [
    "import random"
   ]
  },
  {
   "cell_type": "code",
   "execution_count": 188,
   "id": "a822b5df",
   "metadata": {},
   "outputs": [],
   "source": [
    "#3. 1부터 100까지의 숫자 중 6개의 숫자를 중복없이 임의로 생성, 추천하는 함수를 만드시오.\n",
    "def solution3():\n",
    "    num1 = []\n",
    "    while (len(num1)<6):\n",
    "        a = random.randint(1,100)\n",
    "        num1.append(a)\n",
    "    print(num1)"
   ]
  },
  {
   "cell_type": "code",
   "execution_count": 189,
   "id": "b1be3a52",
   "metadata": {},
   "outputs": [
    {
     "name": "stdout",
     "output_type": "stream",
     "text": [
      "[26, 73, 3, 5, 15, 33]\n"
     ]
    }
   ],
   "source": [
    "solution3()"
   ]
  },
  {
   "cell_type": "code",
   "execution_count": 186,
   "id": "849f26a7",
   "metadata": {},
   "outputs": [],
   "source": [
    "#3. - 강사님 풀이\n",
    "### 내 풀이: 중복없이! 라는 문항을 넣지 않았다\n",
    "\n",
    "def func3():\n",
    "    out_list = []\n",
    "    while len(out_list)<6:\n",
    "        num = random.randint(1,100)\n",
    "        if num in out_list:\n",
    "            pass\n",
    "        else:\n",
    "            out_list.append(num)\n",
    "    return out_list"
   ]
  },
  {
   "cell_type": "code",
   "execution_count": 187,
   "id": "84617575",
   "metadata": {},
   "outputs": [
    {
     "data": {
      "text/plain": [
       "[61, 51, 55, 33, 78, 12]"
      ]
     },
     "execution_count": 187,
     "metadata": {},
     "output_type": "execute_result"
    }
   ],
   "source": [
    "func3()"
   ]
  },
  {
   "cell_type": "markdown",
   "id": "404e6f10",
   "metadata": {},
   "source": [
    "------------------------------------------------------------"
   ]
  },
  {
   "cell_type": "code",
   "execution_count": 93,
   "id": "d7feb977",
   "metadata": {},
   "outputs": [],
   "source": [
    "#4. 숫자를 입력받아 해당 숫자가 홀수인지 짝수인지 판별하는 프로그램을 if문 없이 만드시오.\n",
    "def solution4():\n",
    "    input_num = int(input('숫자를 입력하세요'))\n",
    "    cond1 = (input_num % 2 ==0)\n",
    "    dict1 = {True: '짝수입니다.', False: '홀수입니다.'}\n",
    "    \n",
    "    return dict1[cond1]"
   ]
  },
  {
   "cell_type": "code",
   "execution_count": 94,
   "id": "8a93d30f",
   "metadata": {},
   "outputs": [
    {
     "name": "stdout",
     "output_type": "stream",
     "text": [
      "숫자를 입력하세요3\n"
     ]
    },
    {
     "data": {
      "text/plain": [
       "'홀수입니다.'"
      ]
     },
     "execution_count": 94,
     "metadata": {},
     "output_type": "execute_result"
    }
   ],
   "source": [
    "solution4()"
   ]
  },
  {
   "cell_type": "markdown",
   "id": "fa761bb6",
   "metadata": {},
   "source": [
    "----------------------------------------------------------------------"
   ]
  },
  {
   "cell_type": "code",
   "execution_count": 95,
   "id": "e09f3b13",
   "metadata": {},
   "outputs": [],
   "source": [
    "# 5. 1부터 30까지 숫자 중 홀수만을 갖는 리스트를 만드는 함수를 생성하시오.\n",
    "def solution5():\n",
    "    answer = []\n",
    "    for i in range(1,31):\n",
    "        if (i%2==1):\n",
    "            answer.append(i)\n",
    "    return answer"
   ]
  },
  {
   "cell_type": "code",
   "execution_count": 96,
   "id": "d34d368b",
   "metadata": {},
   "outputs": [
    {
     "data": {
      "text/plain": [
       "[1, 3, 5, 7, 9, 11, 13, 15, 17, 19, 21, 23, 25, 27, 29]"
      ]
     },
     "execution_count": 96,
     "metadata": {},
     "output_type": "execute_result"
    }
   ],
   "source": [
    "solution5()"
   ]
  },
  {
   "cell_type": "code",
   "execution_count": 191,
   "id": "cc08adf2",
   "metadata": {},
   "outputs": [
    {
     "data": {
      "text/plain": [
       "[1, 3, 5, 7, 9, 11, 13, 15, 17, 19, 21, 23, 25, 27, 29]"
      ]
     },
     "execution_count": 191,
     "metadata": {},
     "output_type": "execute_result"
    }
   ],
   "source": [
    "#5. -> 강사님 풀이(리스트 컴프리헨션 사용)\n",
    "[x for x in range (1,31) if x % 2 != 0]"
   ]
  },
  {
   "cell_type": "markdown",
   "id": "b0eacc60",
   "metadata": {},
   "source": [
    "----------------------------------------------------------------------------"
   ]
  },
  {
   "cell_type": "code",
   "execution_count": 105,
   "id": "028206d6",
   "metadata": {},
   "outputs": [],
   "source": [
    "# 6. 1부터 30까지 숫자 중 3의 배수이지만, \n",
    "#    4의 배수는 아닌 숫자를 출력하는 프로그램을 함수로 생성하시오.\n",
    "def solution6():\n",
    "    answer = []\n",
    "    for i in range(1,31):\n",
    "        if (i%3 == 0)&(i%4 != 0):\n",
    "            answer.append(i)\n",
    "    return answer"
   ]
  },
  {
   "cell_type": "code",
   "execution_count": 106,
   "id": "5cd77980",
   "metadata": {},
   "outputs": [
    {
     "data": {
      "text/plain": [
       "[3, 6, 9, 15, 18, 21, 27, 30]"
      ]
     },
     "execution_count": 106,
     "metadata": {},
     "output_type": "execute_result"
    }
   ],
   "source": [
    "solution6()"
   ]
  },
  {
   "cell_type": "code",
   "execution_count": null,
   "id": "7ed1eeeb",
   "metadata": {},
   "outputs": [],
   "source": [
    "#6. -> 강사님 풀이\n",
    "\n",
    "for i in range(1,31):\n",
    "    if (i%3 == 0) & (i%4 != 0):\n",
    "        print(i)"
   ]
  },
  {
   "cell_type": "markdown",
   "id": "c508a3cc",
   "metadata": {},
   "source": [
    "-------------------------------------------------------------"
   ]
  },
  {
   "cell_type": "code",
   "execution_count": 208,
   "id": "591fdf62",
   "metadata": {},
   "outputs": [],
   "source": [
    "# 7. 1부터 15까지의 범위의 숫자 중 5개를 선택했을 때, \n",
    "# 나올 수 있는 모든 경우의 수를 계산하시오. \n",
    "#(중복을 제외하고 계산->(1,2,3,4,5)와(5,4,3,2,1)은 같은 값임)\n",
    "\n",
    "##조합 사용 -> 15P5 -> 팩토리얼 사용\n",
    "def factorial(n):\n",
    "    answer=1\n",
    "    for i in range(1,n+1):\n",
    "        answer *= i\n",
    "    \n",
    "    return answer"
   ]
  },
  {
   "cell_type": "code",
   "execution_count": 210,
   "id": "47d6b162",
   "metadata": {},
   "outputs": [
    {
     "name": "stdout",
     "output_type": "stream",
     "text": [
      "3003.0\n"
     ]
    }
   ],
   "source": [
    "num1 = factorial(15)\n",
    "num2 = factorial(5)\n",
    "num3 = factorial(10)\n",
    "\n",
    "count = num1/(num2*num3)\n",
    "\n",
    "print(count)"
   ]
  },
  {
   "cell_type": "code",
   "execution_count": 211,
   "id": "dc4cc86c",
   "metadata": {},
   "outputs": [],
   "source": [
    "# 내 풀이 문제: 분수 나눗셈에서 괄호를 전체적으로 침 -> 계산 순서때문에 답이 이상해짐\n",
    "# 내 풀이 문제2: 함수 들여쓰기 잘못함"
   ]
  },
  {
   "cell_type": "code",
   "execution_count": 194,
   "id": "0bf751dc",
   "metadata": {},
   "outputs": [
    {
     "data": {
      "text/plain": [
       "3003.0"
      ]
     },
     "execution_count": 194,
     "metadata": {},
     "output_type": "execute_result"
    }
   ],
   "source": [
    "#7. -> 강사님 풀이\n",
    "\n",
    "import math\n",
    "\n",
    "math.factorial(15) / (math.factorial(5) * math.factorial(15-5))"
   ]
  },
  {
   "cell_type": "markdown",
   "id": "c1a98edf",
   "metadata": {},
   "source": [
    "-----------------------------------------------------------"
   ]
  },
  {
   "cell_type": "code",
   "execution_count": 108,
   "id": "387bae2b",
   "metadata": {},
   "outputs": [],
   "source": [
    "# 8.두 숫자를 입력받아 큰 숫자를 반환하는 람다 함수를 생성하시오.\n",
    "solution8 = lambda a,b : max(a,b)"
   ]
  },
  {
   "cell_type": "code",
   "execution_count": 109,
   "id": "d33002e8",
   "metadata": {},
   "outputs": [
    {
     "data": {
      "text/plain": [
       "4"
      ]
     },
     "execution_count": 109,
     "metadata": {},
     "output_type": "execute_result"
    }
   ],
   "source": [
    "solution8(3,4)"
   ]
  },
  {
   "cell_type": "code",
   "execution_count": 197,
   "id": "dfe925ee",
   "metadata": {},
   "outputs": [
    {
     "data": {
      "text/plain": [
       "20"
      ]
     },
     "execution_count": 197,
     "metadata": {},
     "output_type": "execute_result"
    }
   ],
   "source": [
    "#8. 강사님 풀이\n",
    "func4 = lambda a,b : a if a>b else b\n",
    "func4(10,20)"
   ]
  },
  {
   "cell_type": "markdown",
   "id": "9a30a756",
   "metadata": {},
   "source": [
    "-------------------------------------------------------------"
   ]
  },
  {
   "cell_type": "code",
   "execution_count": 114,
   "id": "75268af1",
   "metadata": {},
   "outputs": [],
   "source": [
    "#9. 아래의 두 개의 리스트에서 중복값을 제거하여 하나의 리스트를 출력하는 함수를 생성하시오.\n",
    "#    - list1 = [100,200,500,600,700]\n",
    "#    - list2 = [500,600,700,800,900]\n",
    "    \n",
    "def solution9(list1, list2):\n",
    "    new_list = list1 + list2\n",
    "    new_list = set(new_list)\n",
    "    return list(new_list)"
   ]
  },
  {
   "cell_type": "code",
   "execution_count": 115,
   "id": "1e11c3b8",
   "metadata": {},
   "outputs": [
    {
     "data": {
      "text/plain": [
       "[800, 100, 900, 200, 500, 600, 700]"
      ]
     },
     "execution_count": 115,
     "metadata": {},
     "output_type": "execute_result"
    }
   ],
   "source": [
    "list1 = [100,200,500,600,700]\n",
    "list2 = [500,600,700,800,900]\n",
    "\n",
    "solution9(list1, list2)"
   ]
  }
 ],
 "metadata": {
  "kernelspec": {
   "display_name": "Python (hanaro)",
   "language": "python",
   "name": "hanaro"
  },
  "language_info": {
   "codemirror_mode": {
    "name": "ipython",
    "version": 3
   },
   "file_extension": ".py",
   "mimetype": "text/x-python",
   "name": "python",
   "nbconvert_exporter": "python",
   "pygments_lexer": "ipython3",
   "version": "3.11.5"
  },
  "toc": {
   "base_numbering": 1,
   "nav_menu": {},
   "number_sections": true,
   "sideBar": true,
   "skip_h1_title": false,
   "title_cell": "Table of Contents",
   "title_sidebar": "Contents",
   "toc_cell": false,
   "toc_position": {},
   "toc_section_display": true,
   "toc_window_display": false
  }
 },
 "nbformat": 4,
 "nbformat_minor": 5
}
