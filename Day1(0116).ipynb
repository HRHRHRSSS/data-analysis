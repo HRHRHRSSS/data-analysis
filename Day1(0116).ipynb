{
 "cells": [
  {
   "cell_type": "markdown",
   "id": "5243fd2c",
   "metadata": {},
   "source": [
    "# Python 기초\n",
    "## 1-1. Jupyter Notebook 사용법\n",
    "\n",
    "- Markdown Mode: 스크립트의 설명이나 코드의 설명 등을 작성\n",
    "- Code Mode: Python Code를 입력하는 상태\n",
    "- 코드 실행 : [Shift] + [Enter]\n",
    "- Code mode에서 [ESC] : Command Mode로 변환됨,\n",
    "-              [Enter]: Code를 입력모드\n",
    "-              [Y] : Python Code를 입력하는 상태\n",
    "-              [M] : 주석(Markdown)을 입력하는 상태(파이썬 문법과 무관)\n",
    "-              [A] : 현재 Cell에서 위로 새로운 셀을 생성\n",
    "-              [B] : 현재 Cell에서 아래로 새로운 Cell 생성\n",
    "-              [ X ] : 해당 Cell 삭제(Command mode에서)\n",
    "-              [Z] : 실행 취소"
   ]
  },
  {
   "cell_type": "markdown",
   "id": "15e16e4e",
   "metadata": {},
   "source": [
    "# 2. 파이썬 기초 문법\n",
    "## 2-1. 변수의 개념\n",
    "- 변수 : 데이터를 들고다니는 공간\n",
    "- 변수를 선언한다 : 특정 데이터를 지정한 이름으로 사용\n",
    "     - 등로 기호를 기준으로 오른쪽의 값을 왼쪽의 지정된 변수 명으로 선언"
   ]
  },
  {
   "cell_type": "code",
   "execution_count": 91,
   "id": "44ccf043",
   "metadata": {},
   "outputs": [],
   "source": [
    "data1 = 100\n",
    "data2 = 51.2"
   ]
  },
  {
   "cell_type": "code",
   "execution_count": 3,
   "id": "bb2109ce",
   "metadata": {},
   "outputs": [
    {
     "data": {
      "text/plain": [
       "151.2"
      ]
     },
     "execution_count": 3,
     "metadata": {},
     "output_type": "execute_result"
    }
   ],
   "source": [
    "data1 + data2"
   ]
  },
  {
   "cell_type": "markdown",
   "id": "04a0d775",
   "metadata": {},
   "source": [
    "## 2-2. 데이터 타입\n",
    "\n",
    "- 파이썬 데이터 타입: 숫자 / 문자 / 논리형\n",
    "- 데이터 타입에 따라 연산의 방법/분석의 방법이 달라짐!\n",
    "- 숫자형 : 정수형(int) / 실수형(float)\n",
    "- 문자형 : 문자열(string) / 범주형(object)\n",
    "- 논리형 : 참/거짓 (True/ False // bool-> 첫 글자를 대문자로 사용)"
   ]
  },
  {
   "cell_type": "code",
   "execution_count": 7,
   "id": "ead5c84f",
   "metadata": {},
   "outputs": [
    {
     "data": {
      "text/plain": [
       "float"
      ]
     },
     "execution_count": 7,
     "metadata": {},
     "output_type": "execute_result"
    }
   ],
   "source": [
    "# 주석 (Markdown):파이썬 코드에 영향 없는 / 코드에 대한 설명 따위를 쓰는 기능\n",
    "data3 = 10.4\n",
    "type(data3) # type(): 특정 데이터의 타입을 확인"
   ]
  },
  {
   "cell_type": "code",
   "execution_count": 5,
   "id": "16a4731f",
   "metadata": {},
   "outputs": [
    {
     "data": {
      "text/plain": [
       "str"
      ]
     },
     "execution_count": 5,
     "metadata": {},
     "output_type": "execute_result"
    }
   ],
   "source": [
    "data4 = '파이썬'\n",
    "type(data4)"
   ]
  },
  {
   "cell_type": "code",
   "execution_count": 6,
   "id": "4bc12efe",
   "metadata": {},
   "outputs": [
    {
     "data": {
      "text/plain": [
       "bool"
      ]
     },
     "execution_count": 6,
     "metadata": {},
     "output_type": "execute_result"
    }
   ],
   "source": [
    "data5 = True\n",
    "type(data5)"
   ]
  },
  {
   "cell_type": "markdown",
   "id": "e568ed3f",
   "metadata": {},
   "source": [
    "## 2-3. 연산자 (Operator)\n",
    "\n",
    "- 데이터 타입에 따라 연산의 방법이 달라짐!"
   ]
  },
  {
   "cell_type": "code",
   "execution_count": 10,
   "id": "7aa2a218",
   "metadata": {},
   "outputs": [
    {
     "data": {
      "text/plain": [
       "151.2"
      ]
     },
     "execution_count": 10,
     "metadata": {},
     "output_type": "execute_result"
    }
   ],
   "source": [
    "# 숫자데이터 사칙연산\n",
    "#덧셈 연산\n",
    "data1 + data2"
   ]
  },
  {
   "cell_type": "code",
   "execution_count": 9,
   "id": "6a323d26",
   "metadata": {},
   "outputs": [
    {
     "data": {
      "text/plain": [
       "48.8"
      ]
     },
     "execution_count": 9,
     "metadata": {},
     "output_type": "execute_result"
    }
   ],
   "source": [
    "#뺄셈 연산\n",
    "data1 - data2 "
   ]
  },
  {
   "cell_type": "code",
   "execution_count": 11,
   "id": "32343e47",
   "metadata": {},
   "outputs": [
    {
     "data": {
      "text/plain": [
       "300"
      ]
     },
     "execution_count": 11,
     "metadata": {},
     "output_type": "execute_result"
    }
   ],
   "source": [
    "data1 * 3 # 곱셈"
   ]
  },
  {
   "cell_type": "code",
   "execution_count": 12,
   "id": "f20ac691",
   "metadata": {},
   "outputs": [
    {
     "data": {
      "text/plain": [
       "33.333333333333336"
      ]
     },
     "execution_count": 12,
     "metadata": {},
     "output_type": "execute_result"
    }
   ],
   "source": [
    "data1 / 3 #나눗셈"
   ]
  },
  {
   "cell_type": "code",
   "execution_count": 13,
   "id": "9a51477d",
   "metadata": {},
   "outputs": [
    {
     "data": {
      "text/plain": [
       "10000"
      ]
     },
     "execution_count": 13,
     "metadata": {},
     "output_type": "execute_result"
    }
   ],
   "source": [
    "data1 ** 2 #거듭제곱"
   ]
  },
  {
   "cell_type": "code",
   "execution_count": 14,
   "id": "81ba8e49",
   "metadata": {},
   "outputs": [
    {
     "data": {
      "text/plain": [
       "0"
      ]
     },
     "execution_count": 14,
     "metadata": {},
     "output_type": "execute_result"
    }
   ],
   "source": [
    "data1 % 2"
   ]
  },
  {
   "cell_type": "code",
   "execution_count": 15,
   "id": "0d0ef6d0",
   "metadata": {},
   "outputs": [
    {
     "data": {
      "text/plain": [
       "50"
      ]
     },
     "execution_count": 15,
     "metadata": {},
     "output_type": "execute_result"
    }
   ],
   "source": [
    "data1 // 2 #나눗셈 결과의 몫"
   ]
  },
  {
   "cell_type": "code",
   "execution_count": 17,
   "id": "7e9544fb",
   "metadata": {},
   "outputs": [],
   "source": [
    "#문자 데이터 연산 (문자 데이터를 사용할 땐, 따옴표 또는 쌍따옴표)\n",
    "data6 = 'Python 데이터'\n",
    "data7 = '분석'"
   ]
  },
  {
   "cell_type": "code",
   "execution_count": 18,
   "id": "21d5677e",
   "metadata": {},
   "outputs": [
    {
     "data": {
      "text/plain": [
       "'Python 데이터분석'"
      ]
     },
     "execution_count": 18,
     "metadata": {},
     "output_type": "execute_result"
    }
   ],
   "source": [
    "data6 + data7 #문자를 이어붙여줌"
   ]
  },
  {
   "cell_type": "code",
   "execution_count": 19,
   "id": "42aacf73",
   "metadata": {},
   "outputs": [
    {
     "data": {
      "text/plain": [
       "'Python 데이터 분석'"
      ]
     },
     "execution_count": 19,
     "metadata": {},
     "output_type": "execute_result"
    }
   ],
   "source": [
    "data6 + \" \" + data7 #공백을 추가해줄 수 있다"
   ]
  },
  {
   "cell_type": "code",
   "execution_count": 20,
   "id": "f995bcf2",
   "metadata": {},
   "outputs": [
    {
     "data": {
      "text/plain": [
       "'Python 데이터Python 데이터Python 데이터'"
      ]
     },
     "execution_count": 20,
     "metadata": {},
     "output_type": "execute_result"
    }
   ],
   "source": [
    "data6 * 3"
   ]
  },
  {
   "cell_type": "code",
   "execution_count": 21,
   "id": "c43e2bc3",
   "metadata": {},
   "outputs": [],
   "source": [
    "#논리형 연산 (비교 구문)\n",
    "data7 = 50\n",
    "data8 = 30"
   ]
  },
  {
   "cell_type": "code",
   "execution_count": 24,
   "id": "79ecbadd",
   "metadata": {},
   "outputs": [
    {
     "data": {
      "text/plain": [
       "False"
      ]
     },
     "execution_count": 24,
     "metadata": {},
     "output_type": "execute_result"
    }
   ],
   "source": [
    "data7 < data8"
   ]
  },
  {
   "cell_type": "code",
   "execution_count": 26,
   "id": "9360f794",
   "metadata": {},
   "outputs": [
    {
     "data": {
      "text/plain": [
       "True"
      ]
     },
     "execution_count": 26,
     "metadata": {},
     "output_type": "execute_result"
    }
   ],
   "source": [
    "data7 >= data8"
   ]
  },
  {
   "cell_type": "code",
   "execution_count": 28,
   "id": "144f710a",
   "metadata": {},
   "outputs": [
    {
     "data": {
      "text/plain": [
       "False"
      ]
     },
     "execution_count": 28,
     "metadata": {},
     "output_type": "execute_result"
    }
   ],
   "source": [
    "data7 == data8"
   ]
  },
  {
   "cell_type": "code",
   "execution_count": 30,
   "id": "6343143b",
   "metadata": {},
   "outputs": [
    {
     "data": {
      "text/plain": [
       "True"
      ]
     },
     "execution_count": 30,
     "metadata": {},
     "output_type": "execute_result"
    }
   ],
   "source": [
    "data7 != data8 # != (not equal)"
   ]
  },
  {
   "cell_type": "markdown",
   "id": "400fe4bb",
   "metadata": {},
   "source": [
    "## 2-4. 파이썬 자료 구조\n",
    "\n",
    "- 하나의 변수에 여러 개의 데이터를 넣어 사용\n",
    "- List (리스트-대괄호) : 데이터의 순서 O / 중복값 O / 새로운 데이터 추가.삭제.변경 O\n",
    "- Tuple (튜플 - 소괄호) : 데이터의 순서 O / 중복값 O / 새로운 데이터를 추가.삭제.변경 X\n",
    "- Set (셋 - 중괄호) : 데이터의 순서 X / 중복값 X / 새로운 데이터 추가.삭제.변경 O\n",
    "- Dictionary (딕셔너리 - 중괄호 {key:value}) : 키와 값의 쌍/ 새로운 데이터 추가.삭제.변경O/순서는 key기준으로 정렬 - 정형데이터의 기본 요소"
   ]
  },
  {
   "cell_type": "code",
   "execution_count": 31,
   "id": "b4158bbd",
   "metadata": {},
   "outputs": [],
   "source": [
    "# 리스트 구조 사용\n",
    "data9 = [20,30,50,10,90,30]"
   ]
  },
  {
   "cell_type": "code",
   "execution_count": 32,
   "id": "4467c3e0",
   "metadata": {},
   "outputs": [
    {
     "data": {
      "text/plain": [
       "list"
      ]
     },
     "execution_count": 32,
     "metadata": {},
     "output_type": "execute_result"
    }
   ],
   "source": [
    "type(data9) #type함수는 파이썬의 자료구조나 객체의 형태도 확인 가능"
   ]
  },
  {
   "cell_type": "code",
   "execution_count": 36,
   "id": "a4665051",
   "metadata": {},
   "outputs": [
    {
     "data": {
      "text/plain": [
       "20"
      ]
     },
     "execution_count": 36,
     "metadata": {},
     "output_type": "execute_result"
    }
   ],
   "source": [
    "# indexing : 리스트 구조 내 특정위치의 데이터를 찾는 것 / 색인\n",
    "data9[0]"
   ]
  },
  {
   "cell_type": "code",
   "execution_count": 39,
   "id": "ed02bdc4",
   "metadata": {},
   "outputs": [
    {
     "data": {
      "text/plain": [
       "30"
      ]
     },
     "execution_count": 39,
     "metadata": {},
     "output_type": "execute_result"
    }
   ],
   "source": [
    "data9[-1] #맨 끝 inex의 데이터 호출"
   ]
  },
  {
   "cell_type": "code",
   "execution_count": 40,
   "id": "784a74df",
   "metadata": {},
   "outputs": [
    {
     "data": {
      "text/plain": [
       "[20, 30, 50]"
      ]
     },
     "execution_count": 40,
     "metadata": {},
     "output_type": "execute_result"
    }
   ],
   "source": [
    "#슬라이싱\n",
    "data9[0:3] # 특정 범위 내 데이터를 추출 (0번째 부터, 3번째 전까지)"
   ]
  },
  {
   "cell_type": "code",
   "execution_count": 41,
   "id": "11dc032f",
   "metadata": {},
   "outputs": [
    {
     "data": {
      "text/plain": [
       "[20, 30, 50]"
      ]
     },
     "execution_count": 41,
     "metadata": {},
     "output_type": "execute_result"
    }
   ],
   "source": [
    "data10 = data9[0:3]\n",
    "data10"
   ]
  },
  {
   "cell_type": "code",
   "execution_count": 50,
   "id": "0cb0aaba",
   "metadata": {},
   "outputs": [],
   "source": [
    "# 데이터를 추가.삭제.변경\n",
    "data11 = ['국어','수학','과학']"
   ]
  },
  {
   "cell_type": "code",
   "execution_count": 51,
   "id": "50a09068",
   "metadata": {},
   "outputs": [
    {
     "data": {
      "text/plain": [
       "['국어', '수학', '과학', '영어']"
      ]
     },
     "execution_count": 51,
     "metadata": {},
     "output_type": "execute_result"
    }
   ],
   "source": [
    "data11.append('영어') # append() : 특정 리스트에 원소를 추가\n",
    "data11"
   ]
  },
  {
   "cell_type": "code",
   "execution_count": 52,
   "id": "d227dc92",
   "metadata": {},
   "outputs": [
    {
     "data": {
      "text/plain": [
       "['한국사', '국어', '수학', '과학', '영어']"
      ]
     },
     "execution_count": 52,
     "metadata": {},
     "output_type": "execute_result"
    }
   ],
   "source": [
    "data11.insert(0, '한국사') # insert() : 특정 위치에 데이터를 삽입\n",
    "data11"
   ]
  },
  {
   "cell_type": "code",
   "execution_count": 53,
   "id": "0fc0bd50",
   "metadata": {},
   "outputs": [
    {
     "data": {
      "text/plain": [
       "['한국사', '국어', '과학', '영어']"
      ]
     },
     "execution_count": 53,
     "metadata": {},
     "output_type": "execute_result"
    }
   ],
   "source": [
    "data11.remove('수학')\n",
    "data11"
   ]
  },
  {
   "cell_type": "code",
   "execution_count": 54,
   "id": "2462d92c",
   "metadata": {},
   "outputs": [
    {
     "data": {
      "text/plain": [
       "tuple"
      ]
     },
     "execution_count": 54,
     "metadata": {},
     "output_type": "execute_result"
    }
   ],
   "source": [
    "# 튜플 : 순서 O, 수정 및 삭제 X\n",
    "data12 = (100,200,300)\n",
    "type(data12)"
   ]
  },
  {
   "cell_type": "code",
   "execution_count": 55,
   "id": "7fb60031",
   "metadata": {},
   "outputs": [
    {
     "data": {
      "text/plain": [
       "100"
      ]
     },
     "execution_count": 55,
     "metadata": {},
     "output_type": "execute_result"
    }
   ],
   "source": [
    "data12[0]"
   ]
  },
  {
   "cell_type": "code",
   "execution_count": 59,
   "id": "00a2d693",
   "metadata": {},
   "outputs": [],
   "source": [
    "data13 = list(data12) # 변수를 선언 시, 이미 선언 된 변수에 덮어씌우지 않음!"
   ]
  },
  {
   "cell_type": "code",
   "execution_count": 60,
   "id": "0f10cc46",
   "metadata": {},
   "outputs": [
    {
     "data": {
      "text/plain": [
       "(100, 200, 300)"
      ]
     },
     "execution_count": 60,
     "metadata": {},
     "output_type": "execute_result"
    }
   ],
   "source": [
    "data12"
   ]
  },
  {
   "cell_type": "code",
   "execution_count": 61,
   "id": "e9c5cb24",
   "metadata": {},
   "outputs": [
    {
     "data": {
      "text/plain": [
       "list"
      ]
     },
     "execution_count": 61,
     "metadata": {},
     "output_type": "execute_result"
    }
   ],
   "source": [
    "type(data13)"
   ]
  },
  {
   "cell_type": "code",
   "execution_count": 62,
   "id": "3c8db850",
   "metadata": {},
   "outputs": [
    {
     "data": {
      "text/plain": [
       "{10, 20, 30, 100, 300}"
      ]
     },
     "execution_count": 62,
     "metadata": {},
     "output_type": "execute_result"
    }
   ],
   "source": [
    "# 셋 구조\n",
    "data14 = {30,30,20,100,10,300,20}\n",
    "data14 #출력될 때는 중복 제거됨"
   ]
  },
  {
   "cell_type": "code",
   "execution_count": 64,
   "id": "d9e78a45",
   "metadata": {},
   "outputs": [
    {
     "data": {
      "text/plain": [
       "set"
      ]
     },
     "execution_count": 64,
     "metadata": {},
     "output_type": "execute_result"
    }
   ],
   "source": [
    "type(data14)"
   ]
  },
  {
   "cell_type": "code",
   "execution_count": 65,
   "id": "183729b0",
   "metadata": {},
   "outputs": [],
   "source": [
    "data15 = {20,30,40,50}\n",
    "data16 = {40,50,60,70}"
   ]
  },
  {
   "cell_type": "code",
   "execution_count": 66,
   "id": "e426d040",
   "metadata": {},
   "outputs": [
    {
     "data": {
      "text/plain": [
       "{40, 50}"
      ]
     },
     "execution_count": 66,
     "metadata": {},
     "output_type": "execute_result"
    }
   ],
   "source": [
    "# 교집합\n",
    "data15 & data16"
   ]
  },
  {
   "cell_type": "code",
   "execution_count": 67,
   "id": "c02ef648",
   "metadata": {},
   "outputs": [
    {
     "data": {
      "text/plain": [
       "{20, 30, 40, 50, 60, 70}"
      ]
     },
     "execution_count": 67,
     "metadata": {},
     "output_type": "execute_result"
    }
   ],
   "source": [
    "# 합집합\n",
    "data15 | data16"
   ]
  },
  {
   "cell_type": "code",
   "execution_count": 68,
   "id": "b7d2eefb",
   "metadata": {
    "scrolled": true
   },
   "outputs": [
    {
     "data": {
      "text/plain": [
       "{20, 30}"
      ]
     },
     "execution_count": 68,
     "metadata": {},
     "output_type": "execute_result"
    }
   ],
   "source": [
    "#차집합\n",
    "data15-data16"
   ]
  },
  {
   "cell_type": "code",
   "execution_count": 71,
   "id": "86916d52",
   "metadata": {},
   "outputs": [
    {
     "data": {
      "text/plain": [
       "{20, 30, 60, 70}"
      ]
     },
     "execution_count": 71,
     "metadata": {},
     "output_type": "execute_result"
    }
   ],
   "source": [
    "#대상차집합 : 교집한을 제외한 나머지 추출\n",
    "data15 ^ data16"
   ]
  },
  {
   "cell_type": "code",
   "execution_count": 70,
   "id": "19480d74",
   "metadata": {},
   "outputs": [
    {
     "data": {
      "text/plain": [
       "dict"
      ]
     },
     "execution_count": 70,
     "metadata": {},
     "output_type": "execute_result"
    }
   ],
   "source": [
    "# 딕셔너리\n",
    "data17 = {'이름':'홍길동', '나이':30, '지역':'경기'}\n",
    "type(data17)"
   ]
  },
  {
   "cell_type": "code",
   "execution_count": 72,
   "id": "9e934376",
   "metadata": {},
   "outputs": [
    {
     "data": {
      "text/plain": [
       "'홍길동'"
      ]
     },
     "execution_count": 72,
     "metadata": {},
     "output_type": "execute_result"
    }
   ],
   "source": [
    "# 딕셔너리 인덱싱\n",
    "data17['이름']"
   ]
  },
  {
   "cell_type": "code",
   "execution_count": 73,
   "id": "6fba049e",
   "metadata": {},
   "outputs": [
    {
     "data": {
      "text/plain": [
       "dict_keys(['이름', '나이', '지역'])"
      ]
     },
     "execution_count": 73,
     "metadata": {},
     "output_type": "execute_result"
    }
   ],
   "source": [
    "data17.keys() #해당 딕셔너리의 키만 확인"
   ]
  },
  {
   "cell_type": "code",
   "execution_count": 74,
   "id": "1444316c",
   "metadata": {},
   "outputs": [
    {
     "data": {
      "text/plain": [
       "dict_values(['홍길동', 30, '경기'])"
      ]
     },
     "execution_count": 74,
     "metadata": {},
     "output_type": "execute_result"
    }
   ],
   "source": [
    "data17.values() #해당 딕셔너리의 값만 확인"
   ]
  },
  {
   "cell_type": "code",
   "execution_count": 75,
   "id": "7cc21d65",
   "metadata": {},
   "outputs": [],
   "source": [
    "data17['성별'] = '남성'"
   ]
  },
  {
   "cell_type": "code",
   "execution_count": 76,
   "id": "1a8748be",
   "metadata": {},
   "outputs": [
    {
     "data": {
      "text/plain": [
       "{'이름': '홍길동', '나이': 30, '지역': '경기', '성별': '남성'}"
      ]
     },
     "execution_count": 76,
     "metadata": {},
     "output_type": "execute_result"
    }
   ],
   "source": [
    "data17"
   ]
  },
  {
   "cell_type": "code",
   "execution_count": 77,
   "id": "1c053474",
   "metadata": {},
   "outputs": [],
   "source": [
    "# 두 개의 리스트를 하나의 딕셔너리로 변환\n",
    "data18 = ['이름','나이','지역']\n",
    "data19 = ['홍길동', 25, '서울']"
   ]
  },
  {
   "cell_type": "code",
   "execution_count": 78,
   "id": "9592b2bc",
   "metadata": {},
   "outputs": [
    {
     "data": {
      "text/plain": [
       "{'이름': '홍길동', '나이': 25, '지역': '서울'}"
      ]
     },
     "execution_count": 78,
     "metadata": {},
     "output_type": "execute_result"
    }
   ],
   "source": [
    "dict(zip(data18, data19)) #zip으로 묶어주고, dictionary형태로 변환"
   ]
  },
  {
   "cell_type": "markdown",
   "id": "4ac04acf",
   "metadata": {},
   "source": [
    "## 2-5. 문자열 처리"
   ]
  },
  {
   "cell_type": "code",
   "execution_count": 79,
   "id": "93446093",
   "metadata": {},
   "outputs": [
    {
     "data": {
      "text/plain": [
       "'파이썬 데이터 분석\\n통계에서 머신러닝 까지\\n딥러닝은 추가로'"
      ]
     },
     "execution_count": 79,
     "metadata": {},
     "output_type": "execute_result"
    }
   ],
   "source": [
    "#문자열 자료는 따옴표 또는 쌍따옴표 사용\n",
    "'''파이썬 데이터 분석\n",
    "통계에서 머신러닝 까지\n",
    "딥러닝은 추가로'''"
   ]
  },
  {
   "cell_type": "code",
   "execution_count": 81,
   "id": "ec61520c",
   "metadata": {},
   "outputs": [
    {
     "data": {
      "text/plain": [
       "'오늘 부터 내가 \\n 파이썬 전문가'"
      ]
     },
     "execution_count": 81,
     "metadata": {},
     "output_type": "execute_result"
    }
   ],
   "source": [
    "'오늘 부터 내가 \\n 파이썬 전문가'"
   ]
  },
  {
   "cell_type": "code",
   "execution_count": 82,
   "id": "1e01cdb0",
   "metadata": {},
   "outputs": [
    {
     "name": "stdout",
     "output_type": "stream",
     "text": [
      "오늘 부터 내가 \n",
      " 파이썬 전문가\n"
     ]
    }
   ],
   "source": [
    "print('오늘 부터 내가 \\n 파이썬 전문가')"
   ]
  },
  {
   "cell_type": "code",
   "execution_count": 84,
   "id": "e6b24524",
   "metadata": {},
   "outputs": [
    {
     "data": {
      "text/plain": [
       "28"
      ]
     },
     "execution_count": 84,
     "metadata": {},
     "output_type": "execute_result"
    }
   ],
   "source": [
    "str1 = \"기쁜 소식이오! 삼수채의 고려군이 거란군이 물리쳤소\"\n",
    "# 문장의 길이를 파악 / 자료 구조의 데이터 개수도 확인 (공백을 포함해서)\n",
    "len(str1)"
   ]
  },
  {
   "cell_type": "code",
   "execution_count": 85,
   "id": "a768cb36",
   "metadata": {},
   "outputs": [
    {
     "data": {
      "text/plain": [
       "'네'"
      ]
     },
     "execution_count": 85,
     "metadata": {},
     "output_type": "execute_result"
    }
   ],
   "source": [
    "# 인덱싱 및 슬라이싱이 가능\n",
    "str2 = \"네게 그런 사람이 나일 순 없는지 네 곁에 있는 내 친구가 아니라~~\"\n",
    "str2[0]"
   ]
  },
  {
   "cell_type": "code",
   "execution_count": 87,
   "id": "ccc4c40f",
   "metadata": {},
   "outputs": [
    {
     "data": {
      "text/plain": [
       "'네게 그런 사람이 '"
      ]
     },
     "execution_count": 87,
     "metadata": {},
     "output_type": "execute_result"
    }
   ],
   "source": [
    "str2[0:10]"
   ]
  },
  {
   "cell_type": "code",
   "execution_count": 88,
   "id": "0203e375",
   "metadata": {},
   "outputs": [
    {
     "data": {
      "text/plain": [
       "'안녕하세요. 제 mbti는 INFP입니다. 혈액형은 RH+A이에요.'"
      ]
     },
     "execution_count": 88,
     "metadata": {},
     "output_type": "execute_result"
    }
   ],
   "source": [
    "# 포멧팅\n",
    "mbti = 'INFP'\n",
    "blood_type = \"RH+A\"\n",
    "\n",
    "f\"안녕하세요. 제 mbti는 {mbti}입니다. 혈액형은 {blood_type}이에요.\""
   ]
  },
  {
   "cell_type": "code",
   "execution_count": 89,
   "id": "e70b3af5",
   "metadata": {},
   "outputs": [
    {
     "data": {
      "text/plain": [
       "'안녕하세요. 저는 강의를 듣고 있는 신혜림입니다. 나이는24'"
      ]
     },
     "execution_count": 89,
     "metadata": {},
     "output_type": "execute_result"
    }
   ],
   "source": [
    "# 딕셔너리를 활용한 포멧팅\n",
    "data19 = {'이름':'신혜림', '나이':24, 'MBTI':'INFP'}\n",
    "f\"안녕하세요. 저는 강의를 듣고 있는 {data19['이름']}입니다. 나이는{data19['나이']}\""
   ]
  },
  {
   "cell_type": "code",
   "execution_count": 90,
   "id": "04a78b86",
   "metadata": {},
   "outputs": [
    {
     "data": {
      "text/plain": [
       "3"
      ]
     },
     "execution_count": 90,
     "metadata": {},
     "output_type": "execute_result"
    }
   ],
   "source": [
    "# 특정 문자의 개수를 세야하는 경우\n",
    "str3 = 'Show me the money'\n",
    "str3.count('e')"
   ]
  },
  {
   "cell_type": "code",
   "execution_count": 93,
   "id": "98944edb",
   "metadata": {},
   "outputs": [
    {
     "data": {
      "text/plain": [
       "1"
      ]
     },
     "execution_count": 93,
     "metadata": {},
     "output_type": "execute_result"
    }
   ],
   "source": [
    "str3.count('the')"
   ]
  },
  {
   "cell_type": "code",
   "execution_count": 94,
   "id": "2ec942de",
   "metadata": {},
   "outputs": [
    {
     "data": {
      "text/plain": [
       "5"
      ]
     },
     "execution_count": 94,
     "metadata": {},
     "output_type": "execute_result"
    }
   ],
   "source": [
    "# 특정 문자의 위치를 찾는 경우\n",
    "str3.find('m')"
   ]
  },
  {
   "cell_type": "code",
   "execution_count": 96,
   "id": "a1e0987f",
   "metadata": {},
   "outputs": [
    {
     "data": {
      "text/plain": [
       "['2024', '01', '16']"
      ]
     },
     "execution_count": 96,
     "metadata": {},
     "output_type": "execute_result"
    }
   ],
   "source": [
    "# 문자를 특정 단어로 나누는 경우\n",
    "str4 = \"2024-01-16\"\n",
    "str4.split('-')"
   ]
  },
  {
   "cell_type": "code",
   "execution_count": 97,
   "id": "20a0f841",
   "metadata": {},
   "outputs": [
    {
     "data": {
      "text/plain": [
       "'2024'"
      ]
     },
     "execution_count": 97,
     "metadata": {},
     "output_type": "execute_result"
    }
   ],
   "source": [
    "str4.split('-')[0] # - 기호를 이용해 데이터를 나누고, 나눈 결과(리스트)의 첫 번째 값 확인"
   ]
  },
  {
   "cell_type": "markdown",
   "id": "db5c7401",
   "metadata": {},
   "source": [
    "# 3. 파이썬 함수\n",
    "\n",
    "- 특정 동작이나 기능을 수행하는 코드의 집합체"
   ]
  },
  {
   "cell_type": "code",
   "execution_count": 99,
   "id": "1d522616",
   "metadata": {},
   "outputs": [
    {
     "data": {
      "text/plain": [
       "['한국사', '국어', '과학', '영어', '사회']"
      ]
     },
     "execution_count": 99,
     "metadata": {},
     "output_type": "execute_result"
    }
   ],
   "source": [
    "data11.append('사회')\n",
    "data11"
   ]
  },
  {
   "cell_type": "code",
   "execution_count": 100,
   "id": "9726d089",
   "metadata": {},
   "outputs": [],
   "source": [
    "# 함수를 사용자가 직접 만들어서 사용\n",
    "def func1(x): #def 함수명(매개변수):\n",
    "              #들여쓰기 : 띄어쓰기 또는 들여쓰기를 통해 문장의 종속관계를 정의\n",
    "    return x+200 # return 함수에서 처리된 결과"
   ]
  },
  {
   "cell_type": "code",
   "execution_count": 102,
   "id": "7bc71887",
   "metadata": {},
   "outputs": [
    {
     "data": {
      "text/plain": [
       "350"
      ]
     },
     "execution_count": 102,
     "metadata": {},
     "output_type": "execute_result"
    }
   ],
   "source": [
    "func1(150)"
   ]
  }
 ],
 "metadata": {
  "kernelspec": {
   "display_name": "Python (hanaro)",
   "language": "python",
   "name": "hanaro"
  },
  "language_info": {
   "codemirror_mode": {
    "name": "ipython",
    "version": 3
   },
   "file_extension": ".py",
   "mimetype": "text/x-python",
   "name": "python",
   "nbconvert_exporter": "python",
   "pygments_lexer": "ipython3",
   "version": "3.11.5"
  },
  "toc": {
   "base_numbering": 1,
   "nav_menu": {},
   "number_sections": true,
   "sideBar": true,
   "skip_h1_title": false,
   "title_cell": "Table of Contents",
   "title_sidebar": "Contents",
   "toc_cell": false,
   "toc_position": {},
   "toc_section_display": true,
   "toc_window_display": false
  }
 },
 "nbformat": 4,
 "nbformat_minor": 5
}
