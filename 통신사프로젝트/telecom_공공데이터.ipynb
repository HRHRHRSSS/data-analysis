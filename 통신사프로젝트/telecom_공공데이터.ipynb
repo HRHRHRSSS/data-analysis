{
 "cells": [
  {
   "cell_type": "code",
   "execution_count": 1,
   "id": "c319f978",
   "metadata": {},
   "outputs": [],
   "source": [
    "import pandas as pd\n",
    "import numpy as np\n",
    "import plotly.express as px\n",
    "import scipy.stats as stats"
   ]
  },
  {
   "cell_type": "code",
   "execution_count": 6,
   "id": "b7c0a51f",
   "metadata": {},
   "outputs": [],
   "source": [
    "df1 = pd.read_csv('혼자+생활하면서+곤란한+점_20240226134402.csv')"
   ]
  },
  {
   "cell_type": "code",
   "execution_count": 7,
   "id": "d3da4c03",
   "metadata": {
    "collapsed": true
   },
   "outputs": [
    {
     "data": {
      "text/plain": [
       "Index(['특성별(1)', '특성별(2)', '2020', '2020.1', '2020.2', '2020.3', '2020.4',\n",
       "       '2020.5', '2020.6', '2020.7', '2020.8', '2020.9', '2020.10', '2020.11',\n",
       "       '2020.12', '2020.13', '2020.14', '2020.15', '2020.16', '2020.17',\n",
       "       '2020.18', '2020.19', '2020.20', '2020.21', '2020.22', '2020.23',\n",
       "       '2020.24', '2020.25', '2020.26', '2020.27', '2020.28', '2020.29'],\n",
       "      dtype='object')"
      ]
     },
     "execution_count": 7,
     "metadata": {},
     "output_type": "execute_result"
    }
   ],
   "source": [
    "df1.columns"
   ]
  },
  {
   "cell_type": "code",
   "execution_count": 13,
   "id": "a672276a",
   "metadata": {
    "collapsed": true
   },
   "outputs": [
    {
     "data": {
      "text/plain": [
       "0         1순위\n",
       "1     사례수 (명)\n",
       "2        1009\n",
       "3          53\n",
       "4         297\n",
       "5         126\n",
       "6         352\n",
       "7         181\n",
       "8         392\n",
       "9         617\n",
       "10        315\n",
       "11        302\n",
       "12        242\n",
       "13        150\n",
       "14         78\n",
       "15        553\n",
       "16        323\n",
       "17         36\n",
       "18         11\n",
       "19          7\n",
       "Name: 2020, dtype: object"
      ]
     },
     "execution_count": 13,
     "metadata": {},
     "output_type": "execute_result"
    }
   ],
   "source": [
    "df1['2020']"
   ]
  },
  {
   "cell_type": "markdown",
   "id": "29fe78a4",
   "metadata": {},
   "source": [
    "## 혼자 생활하면서 곤란한 점\n",
    "- 전체(1009명)\n",
    "- 남성:392, 여성:617/20대이하:315, 30-40대:302, 50~60대:242, 70대 이상: 150)\n",
    "### 1순위\n",
    "1. 몸이 아프거나 위급할 때 대처의 어려움(33%)\n",
    "2. 외로움(23%)\n",
    "3. 경제적 불안감(20%)\n",
    "4. 강력범죄 등 안전에 대한 불안감(7%)\n",
    "5. 혼자사는 사람에 대한 주위 시선(7%)\n",
    "6. 임종에 대한 불안감(고독사의 문제)(4%)\n",
    "7. 주거관리(댁내 장비 교체 등)의 어려움 (4%)\n",
    "8. 지역사회 내 믿고 의지할 사람(이웃 주민의 부족)(3%)\n",
    "9. 기타(1%)\n"
   ]
  },
  {
   "cell_type": "markdown",
   "id": "eee45793",
   "metadata": {},
   "source": [
    "## 혼자 생활하는 가장 큰 이유\n",
    "- 전체(1009명)\n",
    "- 남성:392, 여성:617/20대이하:315, 30-40대:302, 50~60대:242, 70대 이상: 150)\n",
    "\n",
    "1. 본인의 직장 또는 학교와의 거리 때문에(49%)\n",
    "2. 배우자와의 이혼 별거 사별 때문에(31%)\n",
    "3. 개인적 편의(가족 및 주변으로부터의 사생활 보장 등)와 자유를 위해(10%)\n",
    "4. 함께 살던 가족구성원의 이민(기러기가족 포함) 이사 또는 독립 (6%)\n",
    "5. 함께 살던 가족과의 불화때문에(3%)\n",
    "6. 부모 또는 형제자매의 사망 때문에(1%)\n"
   ]
  },
  {
   "cell_type": "code",
   "execution_count": null,
   "id": "f507e7c1",
   "metadata": {},
   "outputs": [],
   "source": []
  }
 ],
 "metadata": {
  "kernelspec": {
   "display_name": "Python 3 (ipykernel)",
   "language": "python",
   "name": "python3"
  },
  "language_info": {
   "codemirror_mode": {
    "name": "ipython",
    "version": 3
   },
   "file_extension": ".py",
   "mimetype": "text/x-python",
   "name": "python",
   "nbconvert_exporter": "python",
   "pygments_lexer": "ipython3",
   "version": "3.11.5"
  },
  "toc": {
   "base_numbering": 1,
   "nav_menu": {},
   "number_sections": true,
   "sideBar": true,
   "skip_h1_title": false,
   "title_cell": "Table of Contents",
   "title_sidebar": "Contents",
   "toc_cell": false,
   "toc_position": {},
   "toc_section_display": true,
   "toc_window_display": false
  }
 },
 "nbformat": 4,
 "nbformat_minor": 5
}
