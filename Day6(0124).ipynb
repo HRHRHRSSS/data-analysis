{
 "cells": [
  {
   "cell_type": "markdown",
   "id": "44135a3d",
   "metadata": {},
   "source": [
    "# 데이터 전처리\n",
    "\n",
    "- 데이터 구조화 / 병합"
   ]
  },
  {
   "cell_type": "markdown",
   "id": "b63edb4b",
   "metadata": {},
   "source": [
    "**데이터 재구조화**\n",
    "\n",
    "- 02_Data.xlsx : E-커머스 데이터 / 특정 생필품을 납품하는 업체가 온라인 쇼핑몰 플랫폼에 납품한 데이터\n",
    "- ERP(전사적 자원 관리 / Enterprise Resource Planning)에서 나오는 데이터들이 이와 같은 형태를 가짐\n",
    "- DB 매니저들이 사원들의 업무처리가 쉽도록 엑셀에서 보기 직관적이고 사용하기 쉽게 형태를 바꿔놓은 경우"
   ]
  },
  {
   "cell_type": "code",
   "execution_count": 2,
   "id": "c4823941",
   "metadata": {},
   "outputs": [],
   "source": [
    "import pandas as pd"
   ]
  },
  {
   "cell_type": "code",
   "execution_count": 5,
   "id": "25139d55",
   "metadata": {},
   "outputs": [
    {
     "name": "stdout",
     "output_type": "stream",
     "text": [
      "<class 'pandas.core.frame.DataFrame'>\n",
      "RangeIndex: 40 entries, 0 to 39\n",
      "Data columns (total 17 columns):\n",
      " #   Column               Non-Null Count  Dtype  \n",
      "---  ------               --------------  -----  \n",
      " 0   카테고리명                40 non-null     object \n",
      " 1   자재그룹명                40 non-null     object \n",
      " 2   제품명                  40 non-null     object \n",
      " 3   2019-12-01 00:00:00  40 non-null     float64\n",
      " 4   2019-12-02 00:00:00  40 non-null     float64\n",
      " 5   2019-12-03 00:00:00  40 non-null     float64\n",
      " 6   2019-12-04 00:00:00  40 non-null     float64\n",
      " 7   2019-12-05 00:00:00  40 non-null     float64\n",
      " 8   2019-12-06 00:00:00  40 non-null     float64\n",
      " 9   2020-12-01 00:00:00  40 non-null     float64\n",
      " 10  2020-12-02 00:00:00  40 non-null     float64\n",
      " 11  2020-12-03 00:00:00  40 non-null     float64\n",
      " 12  2020-12-04 00:00:00  40 non-null     float64\n",
      " 13  2020-12-05 00:00:00  40 non-null     float64\n",
      " 14  2020-12-06 00:00:00  40 non-null     float64\n",
      " 15  안전재고                 40 non-null     float64\n",
      " 16  분류                   40 non-null     object \n",
      "dtypes: float64(13), object(4)\n",
      "memory usage: 5.4+ KB\n"
     ]
    }
   ],
   "source": [
    "df3 = pd.read_excel('02_Data.xlsx', skiprows = 1)\n",
    "df3.info()"
   ]
  },
  {
   "cell_type": "code",
   "execution_count": 7,
   "id": "e10e3ac3",
   "metadata": {},
   "outputs": [
    {
     "data": {
      "text/html": [
       "<div>\n",
       "<style scoped>\n",
       "    .dataframe tbody tr th:only-of-type {\n",
       "        vertical-align: middle;\n",
       "    }\n",
       "\n",
       "    .dataframe tbody tr th {\n",
       "        vertical-align: top;\n",
       "    }\n",
       "\n",
       "    .dataframe thead th {\n",
       "        text-align: right;\n",
       "    }\n",
       "</style>\n",
       "<table border=\"1\" class=\"dataframe\">\n",
       "  <thead>\n",
       "    <tr style=\"text-align: right;\">\n",
       "      <th></th>\n",
       "      <th>카테고리명</th>\n",
       "      <th>자재그룹명</th>\n",
       "      <th>제품명</th>\n",
       "      <th>안전재고</th>\n",
       "      <th>분류</th>\n",
       "      <th>variable</th>\n",
       "      <th>value</th>\n",
       "    </tr>\n",
       "  </thead>\n",
       "  <tbody>\n",
       "    <tr>\n",
       "      <th>0</th>\n",
       "      <td>CHB</td>\n",
       "      <td>E1</td>\n",
       "      <td>A</td>\n",
       "      <td>0.0</td>\n",
       "      <td>E</td>\n",
       "      <td>2019-12-01</td>\n",
       "      <td>0.0</td>\n",
       "    </tr>\n",
       "    <tr>\n",
       "      <th>1</th>\n",
       "      <td>CHB</td>\n",
       "      <td>E1</td>\n",
       "      <td>B</td>\n",
       "      <td>0.0</td>\n",
       "      <td>E</td>\n",
       "      <td>2019-12-01</td>\n",
       "      <td>0.0</td>\n",
       "    </tr>\n",
       "    <tr>\n",
       "      <th>2</th>\n",
       "      <td>CHB</td>\n",
       "      <td>E1</td>\n",
       "      <td>C</td>\n",
       "      <td>0.0</td>\n",
       "      <td>A</td>\n",
       "      <td>2019-12-01</td>\n",
       "      <td>9474.3</td>\n",
       "    </tr>\n",
       "  </tbody>\n",
       "</table>\n",
       "</div>"
      ],
      "text/plain": [
       "  카테고리명 자재그룹명 제품명  안전재고 분류   variable   value\n",
       "0   CHB    E1   A   0.0  E 2019-12-01     0.0\n",
       "1   CHB    E1   B   0.0  E 2019-12-01     0.0\n",
       "2   CHB    E1   C   0.0  A 2019-12-01  9474.3"
      ]
     },
     "execution_count": 7,
     "metadata": {},
     "output_type": "execute_result"
    }
   ],
   "source": [
    "# Melt 데이터를 재구조화\n",
    "df4 = df3.melt(id_vars = ['카테고리명', '자재그룹명','제품명','안전재고','분류'])\n",
    "df4.head(3)"
   ]
  },
  {
   "cell_type": "code",
   "execution_count": 10,
   "id": "1ecd3c34",
   "metadata": {},
   "outputs": [],
   "source": [
    "# 특정 항목의 이름을 변경\n",
    "df5 = df4.rename(columns = {'variable':'날짜', 'value':'매출액(천원)'})"
   ]
  },
  {
   "cell_type": "code",
   "execution_count": 12,
   "id": "377c0051",
   "metadata": {},
   "outputs": [],
   "source": [
    "df5['연도'] = df5['날짜'].dt.year"
   ]
  },
  {
   "cell_type": "code",
   "execution_count": 14,
   "id": "890a09ce",
   "metadata": {},
   "outputs": [
    {
     "data": {
      "text/html": [
       "<div>\n",
       "<style scoped>\n",
       "    .dataframe tbody tr th:only-of-type {\n",
       "        vertical-align: middle;\n",
       "    }\n",
       "\n",
       "    .dataframe tbody tr th {\n",
       "        vertical-align: top;\n",
       "    }\n",
       "\n",
       "    .dataframe thead th {\n",
       "        text-align: right;\n",
       "    }\n",
       "</style>\n",
       "<table border=\"1\" class=\"dataframe\">\n",
       "  <thead>\n",
       "    <tr style=\"text-align: right;\">\n",
       "      <th></th>\n",
       "      <th>매출액(천원)</th>\n",
       "    </tr>\n",
       "    <tr>\n",
       "      <th>연도</th>\n",
       "      <th></th>\n",
       "    </tr>\n",
       "  </thead>\n",
       "  <tbody>\n",
       "    <tr>\n",
       "      <th>2019</th>\n",
       "      <td>8815.025833</td>\n",
       "    </tr>\n",
       "    <tr>\n",
       "      <th>2020</th>\n",
       "      <td>2851.369583</td>\n",
       "    </tr>\n",
       "  </tbody>\n",
       "</table>\n",
       "</div>"
      ],
      "text/plain": [
       "          매출액(천원)\n",
       "연도               \n",
       "2019  8815.025833\n",
       "2020  2851.369583"
      ]
     },
     "execution_count": 14,
     "metadata": {},
     "output_type": "execute_result"
    }
   ],
   "source": [
    "df5.pivot_table(index='연도', values='매출액(천원)', aggfunc='mean')"
   ]
  },
  {
   "cell_type": "markdown",
   "id": "5b059333",
   "metadata": {},
   "source": [
    "**데이터 병합**\n",
    "\n",
    "- 경기 소재지 친환경 식품을 납품하는 소매점 데이터\n",
    "- 회원제로 운영되는 매장에서 나온 데이터\n",
    "- 고객의 개인정보 (03_store_member.csv)와 고객이 구매한 물품(03_store_product.csv)"
   ]
  },
  {
   "cell_type": "code",
   "execution_count": 15,
   "id": "1cb35220",
   "metadata": {},
   "outputs": [
    {
     "data": {
      "text/html": [
       "<div>\n",
       "<style scoped>\n",
       "    .dataframe tbody tr th:only-of-type {\n",
       "        vertical-align: middle;\n",
       "    }\n",
       "\n",
       "    .dataframe tbody tr th {\n",
       "        vertical-align: top;\n",
       "    }\n",
       "\n",
       "    .dataframe thead th {\n",
       "        text-align: right;\n",
       "    }\n",
       "</style>\n",
       "<table border=\"1\" class=\"dataframe\">\n",
       "  <thead>\n",
       "    <tr style=\"text-align: right;\">\n",
       "      <th></th>\n",
       "      <th>회원번호</th>\n",
       "      <th>회원상태</th>\n",
       "      <th>성별</th>\n",
       "      <th>결혼유무</th>\n",
       "      <th>주소</th>\n",
       "      <th>연령</th>\n",
       "    </tr>\n",
       "  </thead>\n",
       "  <tbody>\n",
       "    <tr>\n",
       "      <th>0</th>\n",
       "      <td>2101</td>\n",
       "      <td>정상회원</td>\n",
       "      <td>여</td>\n",
       "      <td>기혼</td>\n",
       "      <td>서울 강북구 미아동 134-</td>\n",
       "      <td>51</td>\n",
       "    </tr>\n",
       "    <tr>\n",
       "      <th>1</th>\n",
       "      <td>2102</td>\n",
       "      <td>정상회원</td>\n",
       "      <td>여</td>\n",
       "      <td>NaN</td>\n",
       "      <td>경기 용인시 수지구 동천동</td>\n",
       "      <td>71</td>\n",
       "    </tr>\n",
       "    <tr>\n",
       "      <th>2</th>\n",
       "      <td>2103</td>\n",
       "      <td>정상회원</td>\n",
       "      <td>여</td>\n",
       "      <td>기혼</td>\n",
       "      <td>경기 용인시 수지구 동천동</td>\n",
       "      <td>46</td>\n",
       "    </tr>\n",
       "  </tbody>\n",
       "</table>\n",
       "</div>"
      ],
      "text/plain": [
       "   회원번호  회원상태 성별 결혼유무               주소  연령\n",
       "0  2101  정상회원  여   기혼  서울 강북구 미아동 134-  51\n",
       "1  2102  정상회원  여  NaN   경기 용인시 수지구 동천동  71\n",
       "2  2103  정상회원  여   기혼   경기 용인시 수지구 동천동  46"
      ]
     },
     "execution_count": 15,
     "metadata": {},
     "output_type": "execute_result"
    }
   ],
   "source": [
    "df_member = pd.read_csv('03_store_member.csv')\n",
    "df_member.head(3)"
   ]
  },
  {
   "cell_type": "code",
   "execution_count": 16,
   "id": "8b1a6af1",
   "metadata": {},
   "outputs": [
    {
     "data": {
      "text/html": [
       "<div>\n",
       "<style scoped>\n",
       "    .dataframe tbody tr th:only-of-type {\n",
       "        vertical-align: middle;\n",
       "    }\n",
       "\n",
       "    .dataframe tbody tr th {\n",
       "        vertical-align: top;\n",
       "    }\n",
       "\n",
       "    .dataframe thead th {\n",
       "        text-align: right;\n",
       "    }\n",
       "</style>\n",
       "<table border=\"1\" class=\"dataframe\">\n",
       "  <thead>\n",
       "    <tr style=\"text-align: right;\">\n",
       "      <th></th>\n",
       "      <th>공급일자</th>\n",
       "      <th>물품코드</th>\n",
       "      <th>물품대분류</th>\n",
       "      <th>물품중분류</th>\n",
       "      <th>물품소분류</th>\n",
       "      <th>물품명</th>\n",
       "      <th>구매수량</th>\n",
       "      <th>구매금액</th>\n",
       "      <th>구매매장</th>\n",
       "      <th>반품_원거래일자</th>\n",
       "      <th>회원번호</th>\n",
       "    </tr>\n",
       "  </thead>\n",
       "  <tbody>\n",
       "    <tr>\n",
       "      <th>0</th>\n",
       "      <td>20220201</td>\n",
       "      <td>50142001</td>\n",
       "      <td>채소</td>\n",
       "      <td>잎/줄기채소</td>\n",
       "      <td>시금치</td>\n",
       "      <td>시금치(300g)</td>\n",
       "      <td>1.0</td>\n",
       "      <td>2000</td>\n",
       "      <td>매장3</td>\n",
       "      <td>NaN</td>\n",
       "      <td>2101.0</td>\n",
       "    </tr>\n",
       "    <tr>\n",
       "      <th>1</th>\n",
       "      <td>20220201</td>\n",
       "      <td>60302012</td>\n",
       "      <td>축산물</td>\n",
       "      <td>육가공</td>\n",
       "      <td>돈가스/분쇄가공</td>\n",
       "      <td>튀김옷돈가스(400g)</td>\n",
       "      <td>1.0</td>\n",
       "      <td>6300</td>\n",
       "      <td>매장3</td>\n",
       "      <td>NaN</td>\n",
       "      <td>2101.0</td>\n",
       "    </tr>\n",
       "    <tr>\n",
       "      <th>2</th>\n",
       "      <td>20220201</td>\n",
       "      <td>80301002</td>\n",
       "      <td>간식</td>\n",
       "      <td>밀가공</td>\n",
       "      <td>라면</td>\n",
       "      <td>감자라면(110g:1봉)</td>\n",
       "      <td>2.0</td>\n",
       "      <td>2600</td>\n",
       "      <td>매장3</td>\n",
       "      <td>NaN</td>\n",
       "      <td>2101.0</td>\n",
       "    </tr>\n",
       "  </tbody>\n",
       "</table>\n",
       "</div>"
      ],
      "text/plain": [
       "       공급일자      물품코드 물품대분류   물품중분류     물품소분류            물품명  구매수량  구매금액 구매매장  \\\n",
       "0  20220201  50142001    채소  잎/줄기채소       시금치      시금치(300g)   1.0  2000  매장3   \n",
       "1  20220201  60302012   축산물     육가공  돈가스/분쇄가공   튀김옷돈가스(400g)   1.0  6300  매장3   \n",
       "2  20220201  80301002    간식     밀가공        라면  감자라면(110g:1봉)   2.0  2600  매장3   \n",
       "\n",
       "   반품_원거래일자    회원번호  \n",
       "0       NaN  2101.0  \n",
       "1       NaN  2101.0  \n",
       "2       NaN  2101.0  "
      ]
     },
     "execution_count": 16,
     "metadata": {},
     "output_type": "execute_result"
    }
   ],
   "source": [
    "df_product = pd.read_csv('03_store_product.csv')\n",
    "df_product.head(3)"
   ]
  },
  {
   "cell_type": "code",
   "execution_count": 17,
   "id": "c61d8039",
   "metadata": {},
   "outputs": [
    {
     "data": {
      "text/plain": [
       "(4396, 6)"
      ]
     },
     "execution_count": 17,
     "metadata": {},
     "output_type": "execute_result"
    }
   ],
   "source": [
    "df_member.shape"
   ]
  },
  {
   "cell_type": "code",
   "execution_count": 18,
   "id": "1edc968f",
   "metadata": {},
   "outputs": [
    {
     "data": {
      "text/plain": [
       "(735783, 11)"
      ]
     },
     "execution_count": 18,
     "metadata": {},
     "output_type": "execute_result"
    }
   ],
   "source": [
    "df_product.shape"
   ]
  },
  {
   "cell_type": "code",
   "execution_count": 19,
   "id": "cdb5d920",
   "metadata": {},
   "outputs": [
    {
     "name": "stdout",
     "output_type": "stream",
     "text": [
      "<class 'pandas.core.frame.DataFrame'>\n",
      "RangeIndex: 4396 entries, 0 to 4395\n",
      "Data columns (total 6 columns):\n",
      " #   Column  Non-Null Count  Dtype \n",
      "---  ------  --------------  ----- \n",
      " 0   회원번호    4396 non-null   int64 \n",
      " 1   회원상태    4396 non-null   object\n",
      " 2   성별      4396 non-null   object\n",
      " 3   결혼유무    3449 non-null   object\n",
      " 4   주소      4396 non-null   object\n",
      " 5   연령      4396 non-null   int64 \n",
      "dtypes: int64(2), object(4)\n",
      "memory usage: 206.2+ KB\n"
     ]
    }
   ],
   "source": [
    "df_member.info()"
   ]
  },
  {
   "cell_type": "code",
   "execution_count": 20,
   "id": "eca5013d",
   "metadata": {},
   "outputs": [
    {
     "name": "stdout",
     "output_type": "stream",
     "text": [
      "<class 'pandas.core.frame.DataFrame'>\n",
      "RangeIndex: 735783 entries, 0 to 735782\n",
      "Data columns (total 11 columns):\n",
      " #   Column    Non-Null Count   Dtype  \n",
      "---  ------    --------------   -----  \n",
      " 0   공급일자      735783 non-null  int64  \n",
      " 1   물품코드      735783 non-null  int64  \n",
      " 2   물품대분류     735783 non-null  object \n",
      " 3   물품중분류     735783 non-null  object \n",
      " 4   물품소분류     735783 non-null  object \n",
      " 5   물품명       735783 non-null  object \n",
      " 6   구매수량      735783 non-null  float64\n",
      " 7   구매금액      735783 non-null  int64  \n",
      " 8   구매매장      735783 non-null  object \n",
      " 9   반품_원거래일자  10337 non-null   float64\n",
      " 10  회원번호      735761 non-null  float64\n",
      "dtypes: float64(3), int64(3), object(5)\n",
      "memory usage: 61.7+ MB\n"
     ]
    }
   ],
   "source": [
    "df_product.info()"
   ]
  },
  {
   "cell_type": "code",
   "execution_count": 23,
   "id": "58771b29",
   "metadata": {},
   "outputs": [],
   "source": [
    "# 고객의 구매 특성을 계산해서 -> 고객의 개인정보와 결합해 인사이트 도출\n",
    "# df_product 데이터에서 고객의 구매경향(구매특성을) 계산하여 고객 정보 데이터에 병합\n",
    "# 1. 구매 데이터에서 고객의 구매금액 / 방문횟수 / 구매수량같은 통계량을 계산\n",
    "p1 = df_product.pivot_table(index='회원번호',\n",
    "                       values=['구매금액','구매수량'], aggfunc='sum').reset_index()"
   ]
  },
  {
   "cell_type": "code",
   "execution_count": 25,
   "id": "f0ede2bc",
   "metadata": {},
   "outputs": [],
   "source": [
    "p1.columns = ['회원번호','총구매금액','총구매수량']"
   ]
  },
  {
   "cell_type": "code",
   "execution_count": 26,
   "id": "1e5b8b5b",
   "metadata": {},
   "outputs": [
    {
     "data": {
      "text/html": [
       "<div>\n",
       "<style scoped>\n",
       "    .dataframe tbody tr th:only-of-type {\n",
       "        vertical-align: middle;\n",
       "    }\n",
       "\n",
       "    .dataframe tbody tr th {\n",
       "        vertical-align: top;\n",
       "    }\n",
       "\n",
       "    .dataframe thead th {\n",
       "        text-align: right;\n",
       "    }\n",
       "</style>\n",
       "<table border=\"1\" class=\"dataframe\">\n",
       "  <thead>\n",
       "    <tr style=\"text-align: right;\">\n",
       "      <th></th>\n",
       "      <th>회원번호</th>\n",
       "      <th>총구매금액</th>\n",
       "      <th>총구매수량</th>\n",
       "    </tr>\n",
       "  </thead>\n",
       "  <tbody>\n",
       "    <tr>\n",
       "      <th>0</th>\n",
       "      <td>2101.0</td>\n",
       "      <td>1991230</td>\n",
       "      <td>382.0</td>\n",
       "    </tr>\n",
       "    <tr>\n",
       "      <th>1</th>\n",
       "      <td>2102.0</td>\n",
       "      <td>2095860</td>\n",
       "      <td>472.5</td>\n",
       "    </tr>\n",
       "    <tr>\n",
       "      <th>2</th>\n",
       "      <td>2103.0</td>\n",
       "      <td>8273550</td>\n",
       "      <td>1675.4</td>\n",
       "    </tr>\n",
       "    <tr>\n",
       "      <th>3</th>\n",
       "      <td>2104.0</td>\n",
       "      <td>6289495</td>\n",
       "      <td>1401.8</td>\n",
       "    </tr>\n",
       "    <tr>\n",
       "      <th>4</th>\n",
       "      <td>2105.0</td>\n",
       "      <td>3067930</td>\n",
       "      <td>602.0</td>\n",
       "    </tr>\n",
       "    <tr>\n",
       "      <th>...</th>\n",
       "      <td>...</td>\n",
       "      <td>...</td>\n",
       "      <td>...</td>\n",
       "    </tr>\n",
       "    <tr>\n",
       "      <th>4280</th>\n",
       "      <td>6492.0</td>\n",
       "      <td>51550</td>\n",
       "      <td>10.0</td>\n",
       "    </tr>\n",
       "    <tr>\n",
       "      <th>4281</th>\n",
       "      <td>6493.0</td>\n",
       "      <td>22500</td>\n",
       "      <td>3.0</td>\n",
       "    </tr>\n",
       "    <tr>\n",
       "      <th>4282</th>\n",
       "      <td>6494.0</td>\n",
       "      <td>18500</td>\n",
       "      <td>3.0</td>\n",
       "    </tr>\n",
       "    <tr>\n",
       "      <th>4283</th>\n",
       "      <td>6495.0</td>\n",
       "      <td>5300</td>\n",
       "      <td>1.0</td>\n",
       "    </tr>\n",
       "    <tr>\n",
       "      <th>4284</th>\n",
       "      <td>6496.0</td>\n",
       "      <td>69220</td>\n",
       "      <td>8.0</td>\n",
       "    </tr>\n",
       "  </tbody>\n",
       "</table>\n",
       "<p>4285 rows × 3 columns</p>\n",
       "</div>"
      ],
      "text/plain": [
       "        회원번호    총구매금액   총구매수량\n",
       "0     2101.0  1991230   382.0\n",
       "1     2102.0  2095860   472.5\n",
       "2     2103.0  8273550  1675.4\n",
       "3     2104.0  6289495  1401.8\n",
       "4     2105.0  3067930   602.0\n",
       "...      ...      ...     ...\n",
       "4280  6492.0    51550    10.0\n",
       "4281  6493.0    22500     3.0\n",
       "4282  6494.0    18500     3.0\n",
       "4283  6495.0     5300     1.0\n",
       "4284  6496.0    69220     8.0\n",
       "\n",
       "[4285 rows x 3 columns]"
      ]
     },
     "execution_count": 26,
     "metadata": {},
     "output_type": "execute_result"
    }
   ],
   "source": [
    "p1"
   ]
  },
  {
   "cell_type": "code",
   "execution_count": 28,
   "id": "f3ca176f",
   "metadata": {},
   "outputs": [
    {
     "data": {
      "text/html": [
       "<div>\n",
       "<style scoped>\n",
       "    .dataframe tbody tr th:only-of-type {\n",
       "        vertical-align: middle;\n",
       "    }\n",
       "\n",
       "    .dataframe tbody tr th {\n",
       "        vertical-align: top;\n",
       "    }\n",
       "\n",
       "    .dataframe thead th {\n",
       "        text-align: right;\n",
       "    }\n",
       "</style>\n",
       "<table border=\"1\" class=\"dataframe\">\n",
       "  <thead>\n",
       "    <tr style=\"text-align: right;\">\n",
       "      <th></th>\n",
       "      <th>회원번호</th>\n",
       "      <th>회원상태</th>\n",
       "      <th>성별</th>\n",
       "      <th>결혼유무</th>\n",
       "      <th>주소</th>\n",
       "      <th>연령</th>\n",
       "      <th>총구매금액</th>\n",
       "      <th>총구매수량</th>\n",
       "    </tr>\n",
       "  </thead>\n",
       "  <tbody>\n",
       "    <tr>\n",
       "      <th>0</th>\n",
       "      <td>2101</td>\n",
       "      <td>정상회원</td>\n",
       "      <td>여</td>\n",
       "      <td>기혼</td>\n",
       "      <td>서울 강북구 미아동 134-</td>\n",
       "      <td>51</td>\n",
       "      <td>1991230</td>\n",
       "      <td>382.0</td>\n",
       "    </tr>\n",
       "    <tr>\n",
       "      <th>1</th>\n",
       "      <td>2102</td>\n",
       "      <td>정상회원</td>\n",
       "      <td>여</td>\n",
       "      <td>NaN</td>\n",
       "      <td>경기 용인시 수지구 동천동</td>\n",
       "      <td>71</td>\n",
       "      <td>2095860</td>\n",
       "      <td>472.5</td>\n",
       "    </tr>\n",
       "    <tr>\n",
       "      <th>2</th>\n",
       "      <td>2103</td>\n",
       "      <td>정상회원</td>\n",
       "      <td>여</td>\n",
       "      <td>기혼</td>\n",
       "      <td>경기 용인시 수지구 동천동</td>\n",
       "      <td>46</td>\n",
       "      <td>8273550</td>\n",
       "      <td>1675.4</td>\n",
       "    </tr>\n",
       "  </tbody>\n",
       "</table>\n",
       "</div>"
      ],
      "text/plain": [
       "   회원번호  회원상태 성별 결혼유무               주소  연령    총구매금액   총구매수량\n",
       "0  2101  정상회원  여   기혼  서울 강북구 미아동 134-  51  1991230   382.0\n",
       "1  2102  정상회원  여  NaN   경기 용인시 수지구 동천동  71  2095860   472.5\n",
       "2  2103  정상회원  여   기혼   경기 용인시 수지구 동천동  46  8273550  1675.4"
      ]
     },
     "execution_count": 28,
     "metadata": {},
     "output_type": "execute_result"
    }
   ],
   "source": [
    "# pd.merge() / on= : Key Column / how= : 병합전략(inner/outer/right/left)\n",
    "m1 = pd.merge(df_member, p1, on='회원번호', how='inner')\n",
    "m1.head(3)"
   ]
  },
  {
   "cell_type": "code",
   "execution_count": 30,
   "id": "64be19bc",
   "metadata": {},
   "outputs": [],
   "source": [
    "df_product['Label'] = 1"
   ]
  },
  {
   "cell_type": "code",
   "execution_count": 36,
   "id": "df34dea0",
   "metadata": {},
   "outputs": [
    {
     "data": {
      "text/html": [
       "<div>\n",
       "<style scoped>\n",
       "    .dataframe tbody tr th:only-of-type {\n",
       "        vertical-align: middle;\n",
       "    }\n",
       "\n",
       "    .dataframe tbody tr th {\n",
       "        vertical-align: top;\n",
       "    }\n",
       "\n",
       "    .dataframe thead th {\n",
       "        text-align: right;\n",
       "    }\n",
       "</style>\n",
       "<table border=\"1\" class=\"dataframe\">\n",
       "  <thead>\n",
       "    <tr style=\"text-align: right;\">\n",
       "      <th></th>\n",
       "      <th>회원번호</th>\n",
       "      <th>총방문횟수</th>\n",
       "    </tr>\n",
       "  </thead>\n",
       "  <tbody>\n",
       "    <tr>\n",
       "      <th>0</th>\n",
       "      <td>2101.0</td>\n",
       "      <td>86</td>\n",
       "    </tr>\n",
       "    <tr>\n",
       "      <th>1</th>\n",
       "      <td>2102.0</td>\n",
       "      <td>79</td>\n",
       "    </tr>\n",
       "    <tr>\n",
       "      <th>2</th>\n",
       "      <td>2103.0</td>\n",
       "      <td>126</td>\n",
       "    </tr>\n",
       "  </tbody>\n",
       "</table>\n",
       "</div>"
      ],
      "text/plain": [
       "     회원번호  총방문횟수\n",
       "0  2101.0     86\n",
       "1  2102.0     79\n",
       "2  2103.0    126"
      ]
     },
     "execution_count": 36,
     "metadata": {},
     "output_type": "execute_result"
    }
   ],
   "source": [
    "# 한명의 회원이 매장에 총 몇 번 방문했는가를 계산\n",
    "p2 = df_product.pivot_table(index=['회원번호','공급일자'], \n",
    "                       values='Label', aggfunc='min').reset_index()\n",
    "p3 = p2.pivot_table(index='회원번호', values='Label', aggfunc='sum').reset_index()\n",
    "p4 = p3.rename(columns={'Label':'총방문횟수'})\n",
    "p4.head(3)"
   ]
  },
  {
   "cell_type": "code",
   "execution_count": 65,
   "id": "6da91573",
   "metadata": {},
   "outputs": [
    {
     "data": {
      "text/html": [
       "<div>\n",
       "<style scoped>\n",
       "    .dataframe tbody tr th:only-of-type {\n",
       "        vertical-align: middle;\n",
       "    }\n",
       "\n",
       "    .dataframe tbody tr th {\n",
       "        vertical-align: top;\n",
       "    }\n",
       "\n",
       "    .dataframe thead th {\n",
       "        text-align: right;\n",
       "    }\n",
       "</style>\n",
       "<table border=\"1\" class=\"dataframe\">\n",
       "  <thead>\n",
       "    <tr style=\"text-align: right;\">\n",
       "      <th></th>\n",
       "      <th>회원번호</th>\n",
       "      <th>회원상태</th>\n",
       "      <th>성별</th>\n",
       "      <th>결혼유무</th>\n",
       "      <th>주소</th>\n",
       "      <th>연령</th>\n",
       "      <th>총구매금액</th>\n",
       "      <th>총구매수량</th>\n",
       "      <th>총방문횟수</th>\n",
       "    </tr>\n",
       "  </thead>\n",
       "  <tbody>\n",
       "    <tr>\n",
       "      <th>0</th>\n",
       "      <td>2101</td>\n",
       "      <td>정상회원</td>\n",
       "      <td>여</td>\n",
       "      <td>기혼</td>\n",
       "      <td>서울 강북구 미아동 134-</td>\n",
       "      <td>51</td>\n",
       "      <td>1991230</td>\n",
       "      <td>382.0</td>\n",
       "      <td>86</td>\n",
       "    </tr>\n",
       "    <tr>\n",
       "      <th>1</th>\n",
       "      <td>2102</td>\n",
       "      <td>정상회원</td>\n",
       "      <td>여</td>\n",
       "      <td>NaN</td>\n",
       "      <td>경기 용인시 수지구 동천동</td>\n",
       "      <td>71</td>\n",
       "      <td>2095860</td>\n",
       "      <td>472.5</td>\n",
       "      <td>79</td>\n",
       "    </tr>\n",
       "    <tr>\n",
       "      <th>2</th>\n",
       "      <td>2103</td>\n",
       "      <td>정상회원</td>\n",
       "      <td>여</td>\n",
       "      <td>기혼</td>\n",
       "      <td>경기 용인시 수지구 동천동</td>\n",
       "      <td>46</td>\n",
       "      <td>8273550</td>\n",
       "      <td>1675.4</td>\n",
       "      <td>126</td>\n",
       "    </tr>\n",
       "    <tr>\n",
       "      <th>3</th>\n",
       "      <td>2104</td>\n",
       "      <td>정상회원</td>\n",
       "      <td>여</td>\n",
       "      <td>NaN</td>\n",
       "      <td>경기 용인시 수지구 성복동</td>\n",
       "      <td>49</td>\n",
       "      <td>6289495</td>\n",
       "      <td>1401.8</td>\n",
       "      <td>125</td>\n",
       "    </tr>\n",
       "    <tr>\n",
       "      <th>4</th>\n",
       "      <td>2105</td>\n",
       "      <td>정상회원</td>\n",
       "      <td>여</td>\n",
       "      <td>기혼</td>\n",
       "      <td>경기 용인시 수지구 동천동</td>\n",
       "      <td>70</td>\n",
       "      <td>3067930</td>\n",
       "      <td>602.0</td>\n",
       "      <td>57</td>\n",
       "    </tr>\n",
       "    <tr>\n",
       "      <th>...</th>\n",
       "      <td>...</td>\n",
       "      <td>...</td>\n",
       "      <td>...</td>\n",
       "      <td>...</td>\n",
       "      <td>...</td>\n",
       "      <td>...</td>\n",
       "      <td>...</td>\n",
       "      <td>...</td>\n",
       "      <td>...</td>\n",
       "    </tr>\n",
       "    <tr>\n",
       "      <th>4280</th>\n",
       "      <td>6492</td>\n",
       "      <td>정상회원</td>\n",
       "      <td>여</td>\n",
       "      <td>미혼</td>\n",
       "      <td>경기 성남시 분당구 판교동</td>\n",
       "      <td>55</td>\n",
       "      <td>51550</td>\n",
       "      <td>10.0</td>\n",
       "      <td>1</td>\n",
       "    </tr>\n",
       "    <tr>\n",
       "      <th>4281</th>\n",
       "      <td>6493</td>\n",
       "      <td>정상회원</td>\n",
       "      <td>여</td>\n",
       "      <td>기혼</td>\n",
       "      <td>서울 관악구 행운동 1681</td>\n",
       "      <td>36</td>\n",
       "      <td>22500</td>\n",
       "      <td>3.0</td>\n",
       "      <td>1</td>\n",
       "    </tr>\n",
       "    <tr>\n",
       "      <th>4282</th>\n",
       "      <td>6494</td>\n",
       "      <td>정상회원</td>\n",
       "      <td>남</td>\n",
       "      <td>기혼</td>\n",
       "      <td>경기 성남시 분당구 백현동</td>\n",
       "      <td>43</td>\n",
       "      <td>18500</td>\n",
       "      <td>3.0</td>\n",
       "      <td>1</td>\n",
       "    </tr>\n",
       "    <tr>\n",
       "      <th>4283</th>\n",
       "      <td>6495</td>\n",
       "      <td>정상회원</td>\n",
       "      <td>여</td>\n",
       "      <td>기혼</td>\n",
       "      <td>서울 용산구 한남동 737-</td>\n",
       "      <td>57</td>\n",
       "      <td>5300</td>\n",
       "      <td>1.0</td>\n",
       "      <td>1</td>\n",
       "    </tr>\n",
       "    <tr>\n",
       "      <th>4284</th>\n",
       "      <td>6496</td>\n",
       "      <td>정상회원</td>\n",
       "      <td>여</td>\n",
       "      <td>미혼</td>\n",
       "      <td>경기 수원시 영통구 이의동</td>\n",
       "      <td>47</td>\n",
       "      <td>69220</td>\n",
       "      <td>8.0</td>\n",
       "      <td>1</td>\n",
       "    </tr>\n",
       "  </tbody>\n",
       "</table>\n",
       "<p>4285 rows × 9 columns</p>\n",
       "</div>"
      ],
      "text/plain": [
       "      회원번호  회원상태 성별 결혼유무               주소  연령    총구매금액   총구매수량  총방문횟수\n",
       "0     2101  정상회원  여   기혼  서울 강북구 미아동 134-  51  1991230   382.0     86\n",
       "1     2102  정상회원  여  NaN   경기 용인시 수지구 동천동  71  2095860   472.5     79\n",
       "2     2103  정상회원  여   기혼   경기 용인시 수지구 동천동  46  8273550  1675.4    126\n",
       "3     2104  정상회원  여  NaN   경기 용인시 수지구 성복동  49  6289495  1401.8    125\n",
       "4     2105  정상회원  여   기혼   경기 용인시 수지구 동천동  70  3067930   602.0     57\n",
       "...    ...   ... ..  ...              ...  ..      ...     ...    ...\n",
       "4280  6492  정상회원  여   미혼   경기 성남시 분당구 판교동  55    51550    10.0      1\n",
       "4281  6493  정상회원  여   기혼  서울 관악구 행운동 1681  36    22500     3.0      1\n",
       "4282  6494  정상회원  남   기혼   경기 성남시 분당구 백현동  43    18500     3.0      1\n",
       "4283  6495  정상회원  여   기혼  서울 용산구 한남동 737-  57     5300     1.0      1\n",
       "4284  6496  정상회원  여   미혼   경기 수원시 영통구 이의동  47    69220     8.0      1\n",
       "\n",
       "[4285 rows x 9 columns]"
      ]
     },
     "execution_count": 65,
     "metadata": {},
     "output_type": "execute_result"
    }
   ],
   "source": [
    "df2 = pd.merge(m1, p4, on='회원번호', how='inner')\n",
    "df2"
   ]
  },
  {
   "cell_type": "markdown",
   "id": "3c0ee427",
   "metadata": {},
   "source": [
    "# EDA (탐색적 데이터 분석)\n",
    "\n",
    "- 데이터 시각화\n",
    "    - 1. 데이터의 특성을 빠르게 확인하기 위한 목적\n",
    "    - 2. 상대방을 설득시킬 자료를 만들기 위한 목적\n",
    "\n",
    "- 단일 변수 (한 가지 변수에 대해 시각화)\n",
    "    - 연속형 : 분포의 모양 확인\n",
    "        - Histogram : 숫자데이터의 빈도수를 막대그래프로 출력한 그래프\n",
    "            - 현재 수집된 데이터의 분포(정보)를 확인\n",
    "        - kDE (Kernel Density Estimator, 확률분포도) : 특정 데이터가 존재할 확률 / 모집단의 추정 확률을 계산해 선으로 그린 그래프\n",
    "            - 분석기법을 선택하기 위한 확률 추정\n",
    "        - Box Plot : 사분범위를 Box 형태로 표현해 데이터의 분포를 그래프로\n",
    "    - 범주형 : 항목과 빈도수 (Bar Chart / Pie Chart)\n",
    "- 다변수 (여러가지 변수들에 대해 시각화)\n",
    "    - X : 범주형 / Y : 연속형 - 집단 간 통계량을 비교\n",
    "    - X : 연속형 / Y : 연속형 - 두 숫자 데이터의 상관성 비교 (비례/반비례)\n",
    "    - X : 순서형(날짜) / Y : 연속형 - 순서나 시간에 따른 추세 확인\n",
    "    - 기타 : 관리도 / Partto Chart / ...\n",
    "    - 중첩 (Overlay) : 데이터를 층별화 개념을 이용해 시각화"
   ]
  },
  {
   "cell_type": "code",
   "execution_count": 40,
   "id": "c7fa9b53",
   "metadata": {},
   "outputs": [],
   "source": [
    "import seaborn as sns # 정형데이터를 시각화\n",
    "import matplotlib as mpl # 그래프 옵션 (외부옵션 : 글꼴/저장/...)\n",
    "import matplotlib.pyplot as plt # 그래프 옵션 (축 설정/범례/범위)"
   ]
  },
  {
   "cell_type": "code",
   "execution_count": 42,
   "id": "120d59d7",
   "metadata": {},
   "outputs": [],
   "source": [
    "# 한글 글꼴 세팅\n",
    "# mpl.rc('font', family = 'Malgun Gothic') #Windows에서 사용\n",
    "mpl.rc('font',family = 'AppleGothic') #Mac에서 사용"
   ]
  },
  {
   "cell_type": "code",
   "execution_count": 46,
   "id": "24ba4ef7",
   "metadata": {},
   "outputs": [
    {
     "name": "stderr",
     "output_type": "stream",
     "text": [
      "/Users/sinhyelim/anaconda3/lib/python3.11/site-packages/seaborn/axisgrid.py:118: UserWarning: The figure layout has changed to tight\n",
      "  self._figure.tight_layout(*args, **kwargs)\n",
      "/var/folders/q9/51yx3nc91mq6crjc81y6g1wm0000gn/T/ipykernel_1414/1055919036.py:3: UserWarning: The figure layout has changed to tight\n",
      "  plt.tight_layout() # 객체의 규격을 정렬\n"
     ]
    },
    {
     "data": {
      "image/png": "[encoded data removed]",
      "text/plain": [
       "<Figure size 500x500 with 1 Axes>"
      ]
     },
     "metadata": {},
     "output_type": "display_data"
    }
   ],
   "source": [
    "# 단일변수 시각화 (연속형 - 히스토그램)\n",
    "sns.displot(data=df2, x='총방문횟수')\n",
    "plt.tight_layout() # 객체의 규격을 정렬\n",
    "plt.savefig('image1.png') # image1.png 파일 형태로 저장"
   ]
  },
  {
   "cell_type": "code",
   "execution_count": 47,
   "id": "d5b5f02e",
   "metadata": {},
   "outputs": [
    {
     "name": "stderr",
     "output_type": "stream",
     "text": [
      "/Users/sinhyelim/anaconda3/lib/python3.11/site-packages/seaborn/axisgrid.py:118: UserWarning: The figure layout has changed to tight\n",
      "  self._figure.tight_layout(*args, **kwargs)\n"
     ]
    },
    {
     "data": {
      "text/plain": [
       "<seaborn.axisgrid.FacetGrid at 0x280f69f10>"
      ]
     },
     "execution_count": 47,
     "metadata": {},
     "output_type": "execute_result"
    },
    {
     "data": {
      "image/png": "[encoded data removed]",
      "text/plain": [
       "<Figure size 500x500 with 1 Axes>"
      ]
     },
     "metadata": {},
     "output_type": "display_data"
    }
   ],
   "source": [
    "# 확률 밀도 함수 (KDE)\n",
    "# Overlay 층별화 / hue = \n",
    "sns.displot(data=df2, x='총방문횟수', kind='kde')"
   ]
  },
  {
   "cell_type": "code",
   "execution_count": 49,
   "id": "763126ed",
   "metadata": {},
   "outputs": [
    {
     "name": "stderr",
     "output_type": "stream",
     "text": [
      "/Users/sinhyelim/anaconda3/lib/python3.11/site-packages/seaborn/axisgrid.py:118: UserWarning: The figure layout has changed to tight\n",
      "  self._figure.tight_layout(*args, **kwargs)\n"
     ]
    },
    {
     "data": {
      "text/plain": [
       "<seaborn.axisgrid.FacetGrid at 0x280d33dd0>"
      ]
     },
     "execution_count": 49,
     "metadata": {},
     "output_type": "execute_result"
    },
    {
     "data": {
      "image/png": "[encoded data removed]",
      "text/plain": [
       "<Figure size 1063.88x500 with 2 Axes>"
      ]
     },
     "metadata": {},
     "output_type": "display_data"
    }
   ],
   "source": [
    "sns.displot(data=df2, x='총방문횟수', kind='kde', hue='성별', col='결혼유무')"
   ]
  },
  {
   "cell_type": "code",
   "execution_count": 50,
   "id": "5b7cdea7",
   "metadata": {
    "collapsed": true
   },
   "outputs": [
    {
     "data": {
      "text/plain": [
       "<Axes: xlabel='총방문횟수'>"
      ]
     },
     "execution_count": 50,
     "metadata": {},
     "output_type": "execute_result"
    },
    {
     "data": {
      "image/png": "[encoded data removed]",
      "text/plain": [
       "<Figure size 640x480 with 1 Axes>"
      ]
     },
     "metadata": {},
     "output_type": "display_data"
    }
   ],
   "source": [
    "# 연속형 데이터 Box Plot\n",
    "sns.boxplot(data=df2, x='총방문횟수')"
   ]
  },
  {
   "cell_type": "code",
   "execution_count": 51,
   "id": "8594435b",
   "metadata": {},
   "outputs": [
    {
     "data": {
      "text/html": [
       "<div>\n",
       "<style scoped>\n",
       "    .dataframe tbody tr th:only-of-type {\n",
       "        vertical-align: middle;\n",
       "    }\n",
       "\n",
       "    .dataframe tbody tr th {\n",
       "        vertical-align: top;\n",
       "    }\n",
       "\n",
       "    .dataframe thead th {\n",
       "        text-align: right;\n",
       "    }\n",
       "</style>\n",
       "<table border=\"1\" class=\"dataframe\">\n",
       "  <thead>\n",
       "    <tr style=\"text-align: right;\">\n",
       "      <th></th>\n",
       "      <th>회원번호</th>\n",
       "      <th>연령</th>\n",
       "      <th>총구매금액</th>\n",
       "      <th>총구매수량</th>\n",
       "      <th>총방문횟수</th>\n",
       "    </tr>\n",
       "  </thead>\n",
       "  <tbody>\n",
       "    <tr>\n",
       "      <th>count</th>\n",
       "      <td>4285.000000</td>\n",
       "      <td>4285.000000</td>\n",
       "      <td>4.285000e+03</td>\n",
       "      <td>4285.000000</td>\n",
       "      <td>4285.000000</td>\n",
       "    </tr>\n",
       "    <tr>\n",
       "      <th>mean</th>\n",
       "      <td>4337.900117</td>\n",
       "      <td>51.014936</td>\n",
       "      <td>9.747687e+05</td>\n",
       "      <td>198.147515</td>\n",
       "      <td>22.463711</td>\n",
       "    </tr>\n",
       "    <tr>\n",
       "      <th>std</th>\n",
       "      <td>1257.173949</td>\n",
       "      <td>12.867393</td>\n",
       "      <td>2.168500e+06</td>\n",
       "      <td>441.283026</td>\n",
       "      <td>35.843542</td>\n",
       "    </tr>\n",
       "    <tr>\n",
       "      <th>min</th>\n",
       "      <td>2101.000000</td>\n",
       "      <td>23.000000</td>\n",
       "      <td>0.000000e+00</td>\n",
       "      <td>-1.000000</td>\n",
       "      <td>1.000000</td>\n",
       "    </tr>\n",
       "    <tr>\n",
       "      <th>25%</th>\n",
       "      <td>3265.000000</td>\n",
       "      <td>41.000000</td>\n",
       "      <td>3.475000e+04</td>\n",
       "      <td>7.000000</td>\n",
       "      <td>1.000000</td>\n",
       "    </tr>\n",
       "    <tr>\n",
       "      <th>50%</th>\n",
       "      <td>4349.000000</td>\n",
       "      <td>49.000000</td>\n",
       "      <td>1.477500e+05</td>\n",
       "      <td>30.000000</td>\n",
       "      <td>6.000000</td>\n",
       "    </tr>\n",
       "    <tr>\n",
       "      <th>75%</th>\n",
       "      <td>5424.000000</td>\n",
       "      <td>60.000000</td>\n",
       "      <td>7.887900e+05</td>\n",
       "      <td>158.000000</td>\n",
       "      <td>25.000000</td>\n",
       "    </tr>\n",
       "    <tr>\n",
       "      <th>max</th>\n",
       "      <td>6496.000000</td>\n",
       "      <td>107.000000</td>\n",
       "      <td>2.234635e+07</td>\n",
       "      <td>4723.500000</td>\n",
       "      <td>176.000000</td>\n",
       "    </tr>\n",
       "  </tbody>\n",
       "</table>\n",
       "</div>"
      ],
      "text/plain": [
       "              회원번호           연령         총구매금액        총구매수량        총방문횟수\n",
       "count  4285.000000  4285.000000  4.285000e+03  4285.000000  4285.000000\n",
       "mean   4337.900117    51.014936  9.747687e+05   198.147515    22.463711\n",
       "std    1257.173949    12.867393  2.168500e+06   441.283026    35.843542\n",
       "min    2101.000000    23.000000  0.000000e+00    -1.000000     1.000000\n",
       "25%    3265.000000    41.000000  3.475000e+04     7.000000     1.000000\n",
       "50%    4349.000000    49.000000  1.477500e+05    30.000000     6.000000\n",
       "75%    5424.000000    60.000000  7.887900e+05   158.000000    25.000000\n",
       "max    6496.000000   107.000000  2.234635e+07  4723.500000   176.000000"
      ]
     },
     "execution_count": 51,
     "metadata": {},
     "output_type": "execute_result"
    }
   ],
   "source": [
    "# IQR 통계량\n",
    "df2.describe()"
   ]
  },
  {
   "cell_type": "code",
   "execution_count": 61,
   "id": "d2e7b243",
   "metadata": {},
   "outputs": [
    {
     "data": {
      "text/plain": [
       "34.0"
      ]
     },
     "execution_count": 61,
     "metadata": {},
     "output_type": "execute_result"
    }
   ],
   "source": [
    "df2['총방문횟수'].quantile(0.8) # 연속형 자료에 대한 백분위 값을 확인 (상위 20프로)"
   ]
  },
  {
   "cell_type": "code",
   "execution_count": 62,
   "id": "82483e26",
   "metadata": {},
   "outputs": [],
   "source": [
    "# 총 구매금액이 상위 10%인 고객을 A 등급/ 50% B등급 / 나머지는 C 등급으로 분류\n",
    "cond1 = df2['총구매금액'] >= df2['총구매금액'].quantile(0.9)\n",
    "cond2 = df2['총구매금액'] >= df2['총구매금액'].quantile(0.5)\n",
    "\n",
    "df2['고객등급'] = 'C'\n",
    "df2.loc[cond2, '고객등급'] = 'B'\n",
    "df2.loc[cond1, '고객등급'] = 'A'"
   ]
  },
  {
   "cell_type": "code",
   "execution_count": 63,
   "id": "163c793d",
   "metadata": {},
   "outputs": [
    {
     "data": {
      "text/plain": [
       "고객등급\n",
       "C    2141\n",
       "B    1715\n",
       "A     429\n",
       "Name: count, dtype: int64"
      ]
     },
     "execution_count": 63,
     "metadata": {},
     "output_type": "execute_result"
    }
   ],
   "source": [
    "df2['고객등급'].value_counts()"
   ]
  },
  {
   "cell_type": "code",
   "execution_count": 64,
   "id": "c9c162a8",
   "metadata": {},
   "outputs": [
    {
     "data": {
      "text/plain": [
       "<Axes: xlabel='고객등급', ylabel='count'>"
      ]
     },
     "execution_count": 64,
     "metadata": {},
     "output_type": "execute_result"
    },
    {
     "data": {
      "image/png": "[encoded data removed]",
      "text/plain": [
       "<Figure size 640x480 with 1 Axes>"
      ]
     },
     "metadata": {},
     "output_type": "display_data"
    }
   ],
   "source": [
    "# 범주형 시각화\n",
    "sns.countplot(data=df2, x='고객등급', hue='결혼유무', order = ['A','B','C'])"
   ]
  },
  {
   "cell_type": "code",
   "execution_count": null,
   "id": "d77dbe66",
   "metadata": {},
   "outputs": [],
   "source": []
  }
 ],
 "metadata": {
  "kernelspec": {
   "display_name": "Python 3 (ipykernel)",
   "language": "python",
   "name": "python3"
  },
  "language_info": {
   "codemirror_mode": {
    "name": "ipython",
    "version": 3
   },
   "file_extension": ".py",
   "mimetype": "text/x-python",
   "name": "python",
   "nbconvert_exporter": "python",
   "pygments_lexer": "ipython3",
   "version": "3.11.5"
  },
  "toc": {
   "base_numbering": 1,
   "nav_menu": {},
   "number_sections": true,
   "sideBar": true,
   "skip_h1_title": false,
   "title_cell": "Table of Contents",
   "title_sidebar": "Contents",
   "toc_cell": false,
   "toc_position": {},
   "toc_section_display": true,
   "toc_window_display": false
  }
 },
 "nbformat": 4,
 "nbformat_minor": 5
}
